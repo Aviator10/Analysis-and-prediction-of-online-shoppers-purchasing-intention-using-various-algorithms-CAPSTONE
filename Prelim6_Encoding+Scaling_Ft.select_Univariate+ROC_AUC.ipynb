{
 "cells": [
  {
   "cell_type": "code",
   "execution_count": 25,
   "metadata": {},
   "outputs": [],
   "source": [
    "import pandas as pd\n",
    "import numpy as np\n",
    "\n",
    "import matplotlib.pyplot as plt\n",
    "import seaborn as sns\n",
    "%matplotlib inline\n",
    "\n",
    "from sklearn.model_selection import train_test_split\n",
    "from sklearn.tree import DecisionTreeClassifier\n",
    "from sklearn.metrics import roc_auc_score, mean_squared_error"
   ]
  },
  {
   "cell_type": "code",
   "execution_count": 26,
   "metadata": {},
   "outputs": [
    {
     "data": {
      "text/html": [
       "<div>\n",
       "<style scoped>\n",
       "    .dataframe tbody tr th:only-of-type {\n",
       "        vertical-align: middle;\n",
       "    }\n",
       "\n",
       "    .dataframe tbody tr th {\n",
       "        vertical-align: top;\n",
       "    }\n",
       "\n",
       "    .dataframe thead th {\n",
       "        text-align: right;\n",
       "    }\n",
       "</style>\n",
       "<table border=\"1\" class=\"dataframe\">\n",
       "  <thead>\n",
       "    <tr style=\"text-align: right;\">\n",
       "      <th></th>\n",
       "      <th>Administrative</th>\n",
       "      <th>Administrative_Duration</th>\n",
       "      <th>Informational</th>\n",
       "      <th>Informational_Duration</th>\n",
       "      <th>ProductRelated</th>\n",
       "      <th>ProductRelated_Duration</th>\n",
       "      <th>BounceRates</th>\n",
       "      <th>ExitRates</th>\n",
       "      <th>PageValues</th>\n",
       "      <th>SpecialDay</th>\n",
       "      <th>Month</th>\n",
       "      <th>OperatingSystems</th>\n",
       "      <th>Browser</th>\n",
       "      <th>Region</th>\n",
       "      <th>TrafficType</th>\n",
       "      <th>VisitorType</th>\n",
       "      <th>Weekend</th>\n",
       "      <th>Revenue</th>\n",
       "    </tr>\n",
       "  </thead>\n",
       "  <tbody>\n",
       "    <tr>\n",
       "      <td>0</td>\n",
       "      <td>0</td>\n",
       "      <td>0.0</td>\n",
       "      <td>0</td>\n",
       "      <td>0.0</td>\n",
       "      <td>1</td>\n",
       "      <td>0.000000</td>\n",
       "      <td>0.20</td>\n",
       "      <td>0.20</td>\n",
       "      <td>0.0</td>\n",
       "      <td>0.0</td>\n",
       "      <td>Feb</td>\n",
       "      <td>1</td>\n",
       "      <td>1</td>\n",
       "      <td>1</td>\n",
       "      <td>1</td>\n",
       "      <td>Returning_Visitor</td>\n",
       "      <td>False</td>\n",
       "      <td>False</td>\n",
       "    </tr>\n",
       "    <tr>\n",
       "      <td>1</td>\n",
       "      <td>0</td>\n",
       "      <td>0.0</td>\n",
       "      <td>0</td>\n",
       "      <td>0.0</td>\n",
       "      <td>2</td>\n",
       "      <td>64.000000</td>\n",
       "      <td>0.00</td>\n",
       "      <td>0.10</td>\n",
       "      <td>0.0</td>\n",
       "      <td>0.0</td>\n",
       "      <td>Feb</td>\n",
       "      <td>2</td>\n",
       "      <td>2</td>\n",
       "      <td>1</td>\n",
       "      <td>2</td>\n",
       "      <td>Returning_Visitor</td>\n",
       "      <td>False</td>\n",
       "      <td>False</td>\n",
       "    </tr>\n",
       "    <tr>\n",
       "      <td>2</td>\n",
       "      <td>0</td>\n",
       "      <td>0.0</td>\n",
       "      <td>0</td>\n",
       "      <td>0.0</td>\n",
       "      <td>1</td>\n",
       "      <td>0.000000</td>\n",
       "      <td>0.20</td>\n",
       "      <td>0.20</td>\n",
       "      <td>0.0</td>\n",
       "      <td>0.0</td>\n",
       "      <td>Feb</td>\n",
       "      <td>4</td>\n",
       "      <td>1</td>\n",
       "      <td>9</td>\n",
       "      <td>3</td>\n",
       "      <td>Returning_Visitor</td>\n",
       "      <td>False</td>\n",
       "      <td>False</td>\n",
       "    </tr>\n",
       "    <tr>\n",
       "      <td>3</td>\n",
       "      <td>0</td>\n",
       "      <td>0.0</td>\n",
       "      <td>0</td>\n",
       "      <td>0.0</td>\n",
       "      <td>2</td>\n",
       "      <td>2.666667</td>\n",
       "      <td>0.05</td>\n",
       "      <td>0.14</td>\n",
       "      <td>0.0</td>\n",
       "      <td>0.0</td>\n",
       "      <td>Feb</td>\n",
       "      <td>3</td>\n",
       "      <td>2</td>\n",
       "      <td>2</td>\n",
       "      <td>4</td>\n",
       "      <td>Returning_Visitor</td>\n",
       "      <td>False</td>\n",
       "      <td>False</td>\n",
       "    </tr>\n",
       "    <tr>\n",
       "      <td>4</td>\n",
       "      <td>0</td>\n",
       "      <td>0.0</td>\n",
       "      <td>0</td>\n",
       "      <td>0.0</td>\n",
       "      <td>10</td>\n",
       "      <td>627.500000</td>\n",
       "      <td>0.02</td>\n",
       "      <td>0.05</td>\n",
       "      <td>0.0</td>\n",
       "      <td>0.0</td>\n",
       "      <td>Feb</td>\n",
       "      <td>3</td>\n",
       "      <td>3</td>\n",
       "      <td>1</td>\n",
       "      <td>4</td>\n",
       "      <td>Returning_Visitor</td>\n",
       "      <td>True</td>\n",
       "      <td>False</td>\n",
       "    </tr>\n",
       "  </tbody>\n",
       "</table>\n",
       "</div>"
      ],
      "text/plain": [
       "   Administrative  Administrative_Duration  Informational  \\\n",
       "0               0                      0.0              0   \n",
       "1               0                      0.0              0   \n",
       "2               0                      0.0              0   \n",
       "3               0                      0.0              0   \n",
       "4               0                      0.0              0   \n",
       "\n",
       "   Informational_Duration  ProductRelated  ProductRelated_Duration  \\\n",
       "0                     0.0               1                 0.000000   \n",
       "1                     0.0               2                64.000000   \n",
       "2                     0.0               1                 0.000000   \n",
       "3                     0.0               2                 2.666667   \n",
       "4                     0.0              10               627.500000   \n",
       "\n",
       "   BounceRates  ExitRates  PageValues  SpecialDay Month  OperatingSystems  \\\n",
       "0         0.20       0.20         0.0         0.0   Feb                 1   \n",
       "1         0.00       0.10         0.0         0.0   Feb                 2   \n",
       "2         0.20       0.20         0.0         0.0   Feb                 4   \n",
       "3         0.05       0.14         0.0         0.0   Feb                 3   \n",
       "4         0.02       0.05         0.0         0.0   Feb                 3   \n",
       "\n",
       "   Browser  Region  TrafficType        VisitorType  Weekend  Revenue  \n",
       "0        1       1            1  Returning_Visitor    False    False  \n",
       "1        2       1            2  Returning_Visitor    False    False  \n",
       "2        1       9            3  Returning_Visitor    False    False  \n",
       "3        2       2            4  Returning_Visitor    False    False  \n",
       "4        3       1            4  Returning_Visitor     True    False  "
      ]
     },
     "execution_count": 26,
     "metadata": {},
     "output_type": "execute_result"
    }
   ],
   "source": [
    "import pandas as pd\n",
    "import numpy as np\n",
    "\n",
    "pd.set_option('display.max_columns', 60)\n",
    "myData=pd.read_csv('imputedData.csv')\n",
    "myData.head()"
   ]
  },
  {
   "cell_type": "code",
   "execution_count": 27,
   "metadata": {},
   "outputs": [
    {
     "name": "stdout",
     "output_type": "stream",
     "text": [
      "<class 'pandas.core.frame.DataFrame'>\n",
      "RangeIndex: 12330 entries, 0 to 12329\n",
      "Data columns (total 57 columns):\n",
      "Administrative                   12330 non-null int64\n",
      "Administrative_Duration          12330 non-null float64\n",
      "Informational                    12330 non-null int64\n",
      "Informational_Duration           12330 non-null float64\n",
      "ProductRelated                   12330 non-null int64\n",
      "ProductRelated_Duration          12330 non-null float64\n",
      "BounceRates                      12330 non-null float64\n",
      "ExitRates                        12330 non-null float64\n",
      "PageValues                       12330 non-null float64\n",
      "TrafficType                      12330 non-null int64\n",
      "SpecialDay                       12330 non-null float64\n",
      "Month_Aug                        12330 non-null uint8\n",
      "Month_Dec                        12330 non-null uint8\n",
      "Month_Feb                        12330 non-null uint8\n",
      "Month_Jul                        12330 non-null uint8\n",
      "Month_June                       12330 non-null uint8\n",
      "Month_Mar                        12330 non-null uint8\n",
      "Month_May                        12330 non-null uint8\n",
      "Month_Nov                        12330 non-null uint8\n",
      "Month_Oct                        12330 non-null uint8\n",
      "Month_Sep                        12330 non-null uint8\n",
      "OperatingSystems_1               12330 non-null uint8\n",
      "OperatingSystems_2               12330 non-null uint8\n",
      "OperatingSystems_3               12330 non-null uint8\n",
      "OperatingSystems_4               12330 non-null uint8\n",
      "OperatingSystems_5               12330 non-null uint8\n",
      "OperatingSystems_6               12330 non-null uint8\n",
      "OperatingSystems_7               12330 non-null uint8\n",
      "OperatingSystems_8               12330 non-null uint8\n",
      "Browser_1                        12330 non-null uint8\n",
      "Browser_2                        12330 non-null uint8\n",
      "Browser_3                        12330 non-null uint8\n",
      "Browser_4                        12330 non-null uint8\n",
      "Browser_5                        12330 non-null uint8\n",
      "Browser_6                        12330 non-null uint8\n",
      "Browser_7                        12330 non-null uint8\n",
      "Browser_8                        12330 non-null uint8\n",
      "Browser_9                        12330 non-null uint8\n",
      "Browser_10                       12330 non-null uint8\n",
      "Browser_11                       12330 non-null uint8\n",
      "Browser_12                       12330 non-null uint8\n",
      "Browser_13                       12330 non-null uint8\n",
      "Region_1                         12330 non-null uint8\n",
      "Region_2                         12330 non-null uint8\n",
      "Region_3                         12330 non-null uint8\n",
      "Region_4                         12330 non-null uint8\n",
      "Region_5                         12330 non-null uint8\n",
      "Region_6                         12330 non-null uint8\n",
      "Region_7                         12330 non-null uint8\n",
      "Region_8                         12330 non-null uint8\n",
      "Region_9                         12330 non-null uint8\n",
      "VisitorType_New_Visitor          12330 non-null uint8\n",
      "VisitorType_Other                12330 non-null uint8\n",
      "VisitorType_Returning_Visitor    12330 non-null uint8\n",
      "Weekend_False                    12330 non-null uint8\n",
      "Weekend_True                     12330 non-null uint8\n",
      "Revenue                          12330 non-null bool\n",
      "dtypes: bool(1), float64(7), int64(4), uint8(45)\n",
      "memory usage: 1.6 MB\n"
     ]
    }
   ],
   "source": [
    "#One hot encoding of categorical variables\n",
    "\n",
    "#Create list with features to be dummified cols.\n",
    "nonum_feats_names = ['Month','OperatingSystems','Browser','Region','VisitorType','Weekend']\n",
    "\n",
    "\n",
    "dataModel = pd.concat([myData[['Administrative', 'Administrative_Duration', 'Informational','Informational_Duration', \n",
    "                              'ProductRelated','ProductRelated_Duration','BounceRates','ExitRates','PageValues',\n",
    "                               'TrafficType','SpecialDay']],\n",
    "                       pd.get_dummies(myData[nonum_feats_names].astype('category')),myData['Revenue']],axis=1)\n",
    "                      \n",
    "dataModel.info()"
   ]
  },
  {
   "cell_type": "code",
   "execution_count": 28,
   "metadata": {},
   "outputs": [
    {
     "data": {
      "text/plain": [
       "0    0\n",
       "1    0\n",
       "2    0\n",
       "3    0\n",
       "4    0\n",
       "Name: Revenue, dtype: int64"
      ]
     },
     "execution_count": 28,
     "metadata": {},
     "output_type": "execute_result"
    }
   ],
   "source": [
    "#Label Encoding of revenue\n",
    "\n",
    "from sklearn.preprocessing import LabelEncoder\n",
    "\n",
    "le = LabelEncoder()\n",
    "myData['Revenue'] = le.fit_transform(myData['Revenue'])\n",
    "myData['Revenue'].value_counts()\n",
    "\n",
    "myData['Revenue'].head()"
   ]
  },
  {
   "cell_type": "code",
   "execution_count": 29,
   "metadata": {},
   "outputs": [
    {
     "name": "stdout",
     "output_type": "stream",
     "text": [
      "Shape of x: (12330, 56)\n",
      "Shape of y: (12330,)\n"
     ]
    }
   ],
   "source": [
    "# getting dependent and independent variables\n",
    "\n",
    "x = dataModel\n",
    "# removing the target column revenue from x\n",
    "x = x.drop(['Revenue'], axis = 1)\n",
    "\n",
    "y = myData['Revenue']\n",
    "\n",
    "# checking the shapes\n",
    "print(\"Shape of x:\", x.shape)\n",
    "print(\"Shape of y:\", y.shape)"
   ]
  },
  {
   "cell_type": "code",
   "execution_count": 30,
   "metadata": {},
   "outputs": [
    {
     "name": "stdout",
     "output_type": "stream",
     "text": [
      "Shape of x_train : (8631, 56)\n",
      "Shape of y_train : (8631,)\n",
      "Shape of x_test : (3699, 56)\n",
      "Shape of y_test : (3699,)\n"
     ]
    }
   ],
   "source": [
    "# splitting the data\n",
    "\n",
    "from sklearn.model_selection import train_test_split\n",
    "\n",
    "x_baseTrain, x_baseTest, y_baseTrain, y_baseTest = train_test_split(x, y, test_size = 0.3, random_state = 42)\n",
    "\n",
    "# checking the shapes\n",
    "\n",
    "print(\"Shape of x_train :\", x_baseTrain.shape)\n",
    "print(\"Shape of y_train :\", y_baseTrain.shape)\n",
    "print(\"Shape of x_test :\", x_baseTest.shape)\n",
    "print(\"Shape of y_test :\", y_baseTest.shape)"
   ]
  },
  {
   "cell_type": "code",
   "execution_count": 31,
   "metadata": {},
   "outputs": [
    {
     "name": "stderr",
     "output_type": "stream",
     "text": [
      "C:\\Users\\neera\\Anaconda3\\lib\\site-packages\\ipykernel_launcher.py:17: SettingWithCopyWarning: \n",
      "A value is trying to be set on a copy of a slice from a DataFrame.\n",
      "Try using .loc[row_indexer,col_indexer] = value instead\n",
      "\n",
      "See the caveats in the documentation: http://pandas.pydata.org/pandas-docs/stable/user_guide/indexing.html#returning-a-view-versus-a-copy\n",
      "C:\\Users\\neera\\Anaconda3\\lib\\site-packages\\ipykernel_launcher.py:25: SettingWithCopyWarning: \n",
      "A value is trying to be set on a copy of a slice from a DataFrame.\n",
      "Try using .loc[row_indexer,col_indexer] = value instead\n",
      "\n",
      "See the caveats in the documentation: http://pandas.pydata.org/pandas-docs/stable/user_guide/indexing.html#returning-a-view-versus-a-copy\n"
     ]
    }
   ],
   "source": [
    "#SCALING WITH STANDARD Z SCORE SCALER\n",
    "#Scaling the data first fitting it and transforming the training set\n",
    "#to later apply the fit to transform the test set.\n",
    "from sklearn.preprocessing import StandardScaler\n",
    "\n",
    "num_cols_names = ['Administrative', 'Administrative_Duration', 'Informational','Informational_Duration', \n",
    "                              'ProductRelated','ProductRelated_Duration','BounceRates','ExitRates','PageValues',\n",
    "                               'TrafficType','SpecialDay']\n",
    "\n",
    "#Instantiate Satandard Scaler\n",
    "scaler = StandardScaler()\n",
    "#Fit transform the numerical features in the training dataset to a new dataframe\n",
    "scaled_numfeats_train = pd.DataFrame(scaler.fit_transform(x_baseTrain[num_cols_names]), \n",
    "                                     columns=num_cols_names, index= x_baseTrain.index)\n",
    "#Integrate scaled values to the training set\n",
    "for col in num_cols_names:\n",
    "    x_baseTrain[col] = scaled_numfeats_train[col]\n",
    "    \n",
    "    \n",
    "#Transform the numerical features inthe training dataset to a new dataframe\n",
    "scaled_numfeats_test = pd.DataFrame(scaler.transform(x_baseTest[num_cols_names]),\n",
    "                                    columns=num_cols_names, index= x_baseTest.index)\n",
    "#Integrate scaled values to the test set\n",
    "for col in num_cols_names:\n",
    "    x_baseTest[col] = scaled_numfeats_test[col]"
   ]
  },
  {
   "cell_type": "markdown",
   "metadata": {},
   "source": [
    "In all feature selection procedures, it is good practice to select the features by examining only the training set. And this is to avoid overfit."
   ]
  },
  {
   "cell_type": "code",
   "execution_count": 32,
   "metadata": {},
   "outputs": [],
   "source": [
    "# loop to build a tree, make predictions and get the roc-auc\n",
    "# for each feature of the train set\n",
    "\n",
    "roc_values = []\n",
    "for feature in x_baseTrain.columns:\n",
    "    clf = DecisionTreeClassifier()\n",
    "    clf.fit(x_baseTrain[feature].to_frame(), y_baseTrain)\n",
    "    y_scored = clf.predict_proba(x_baseTest[feature].to_frame())\n",
    "    roc_values.append(roc_auc_score(y_baseTest, y_scored[:, 1]))"
   ]
  },
  {
   "cell_type": "code",
   "execution_count": 33,
   "metadata": {},
   "outputs": [
    {
     "data": {
      "text/plain": [
       "TrafficType                      0.642461\n",
       "Administrative                   0.630249\n",
       "ProductRelated                   0.620175\n",
       "Month_Nov                        0.592558\n",
       "PageValues                       0.584450\n",
       "ExitRates                        0.566526\n",
       "Informational                    0.561337\n",
       "VisitorType_Returning_Visitor    0.552021\n",
       "BounceRates                      0.550649\n",
       "Month_May                        0.550608\n",
       "VisitorType_New_Visitor          0.549685\n",
       "OperatingSystems_2               0.546457\n",
       "SpecialDay                       0.532660\n",
       "OperatingSystems_3               0.532516\n",
       "Weekend_False                    0.524512\n",
       "Weekend_True                     0.524512\n",
       "Month_Mar                        0.520394\n",
       "Month_Dec                        0.517950\n",
       "Month_Feb                        0.508344\n",
       "Month_Oct                        0.507958\n",
       "Browser_1                        0.507698\n",
       "Region_1                         0.507368\n",
       "Browser_4                        0.507094\n",
       "Browser_2                        0.507054\n",
       "Browser_5                        0.506833\n",
       "Region_3                         0.506327\n",
       "Browser_3                        0.504572\n",
       "Browser_10                       0.504353\n",
       "Browser_13                       0.504326\n",
       "OperatingSystems_4               0.504272\n",
       "Region_4                         0.503780\n",
       "Month_June                       0.503698\n",
       "Region_2                         0.502713\n",
       "VisitorType_Other                0.502336\n",
       "Browser_7                        0.501462\n",
       "Month_Aug                        0.501455\n",
       "Browser_6                        0.501185\n",
       "Browser_12                       0.500870\n",
       "Month_Jul                        0.500833\n",
       "Region_7                         0.500233\n",
       "Region_8                         0.500011\n",
       "Browser_9                        0.500000\n",
       "Month_Sep                        0.499855\n",
       "Browser_11                       0.499680\n",
       "OperatingSystems_5               0.499680\n",
       "OperatingSystems_7               0.499611\n",
       "Browser_8                        0.498815\n",
       "OperatingSystems_6               0.498239\n",
       "Region_5                         0.494452\n",
       "OperatingSystems_8               0.494415\n",
       "Informational_Duration           0.492929\n",
       "Region_9                         0.492570\n",
       "Region_6                         0.486827\n",
       "ProductRelated_Duration          0.481084\n",
       "OperatingSystems_1               0.477892\n",
       "Administrative_Duration          0.472960\n",
       "dtype: float64"
      ]
     },
     "execution_count": 33,
     "metadata": {},
     "output_type": "execute_result"
    }
   ],
   "source": [
    "# let's add the variable names and order it for clearer visualisation\n",
    "roc_values = pd.Series(roc_values)\n",
    "roc_values.index = x_baseTrain.columns\n",
    "roc_values.sort_values(ascending=False)"
   ]
  },
  {
   "cell_type": "code",
   "execution_count": 34,
   "metadata": {},
   "outputs": [
    {
     "data": {
      "text/plain": [
       "<matplotlib.axes._subplots.AxesSubplot at 0x23ce0726b48>"
      ]
     },
     "execution_count": 34,
     "metadata": {},
     "output_type": "execute_result"
    },
    {
     "data": {
      "image/png": "[encoded data removed]",
      "text/plain": [
       "<Figure size 1440x576 with 1 Axes>"
      ]
     },
     "metadata": {
      "needs_background": "light"
     },
     "output_type": "display_data"
    }
   ],
   "source": [
    "# and now let's plot\n",
    "roc_values.sort_values(ascending=False).plot.bar(figsize=(20, 8))"
   ]
  },
  {
   "cell_type": "code",
   "execution_count": 35,
   "metadata": {},
   "outputs": [
    {
     "name": "stdout",
     "output_type": "stream",
     "text": [
      "41\n",
      "features which should be retained\n",
      "\n",
      " Administrative                   0.630249\n",
      "Informational                    0.561337\n",
      "ProductRelated                   0.620175\n",
      "BounceRates                      0.550649\n",
      "ExitRates                        0.566526\n",
      "PageValues                       0.584450\n",
      "TrafficType                      0.642461\n",
      "SpecialDay                       0.532660\n",
      "Month_Aug                        0.501455\n",
      "Month_Dec                        0.517950\n",
      "Month_Feb                        0.508344\n",
      "Month_Jul                        0.500833\n",
      "Month_June                       0.503698\n",
      "Month_Mar                        0.520394\n",
      "Month_May                        0.550608\n",
      "Month_Nov                        0.592558\n",
      "Month_Oct                        0.507958\n",
      "OperatingSystems_2               0.546457\n",
      "OperatingSystems_3               0.532516\n",
      "OperatingSystems_4               0.504272\n",
      "Browser_1                        0.507698\n",
      "Browser_2                        0.507054\n",
      "Browser_3                        0.504572\n",
      "Browser_4                        0.507094\n",
      "Browser_5                        0.506833\n",
      "Browser_6                        0.501185\n",
      "Browser_7                        0.501462\n",
      "Browser_10                       0.504353\n",
      "Browser_12                       0.500870\n",
      "Browser_13                       0.504326\n",
      "Region_1                         0.507368\n",
      "Region_2                         0.502713\n",
      "Region_3                         0.506327\n",
      "Region_4                         0.503780\n",
      "Region_7                         0.500233\n",
      "Region_8                         0.500011\n",
      "VisitorType_New_Visitor          0.549685\n",
      "VisitorType_Other                0.502336\n",
      "VisitorType_Returning_Visitor    0.552021\n",
      "Weekend_False                    0.524512\n",
      "Weekend_True                     0.524512\n",
      "dtype: float64\n"
     ]
    }
   ],
   "source": [
    "# a roc auc value of 0.5 indicates random decision\n",
    "# let's check how many features show a roc-auc value\n",
    "# higher than random\n",
    "\n",
    "print(len(roc_values[roc_values > 0.5]))\n",
    "print(\"features which should be retained\\n\\n\",roc_values[roc_values > 0.5])"
   ]
  },
  {
   "cell_type": "markdown",
   "metadata": {},
   "source": [
    "41 of 56 features show a predictive performance higher than 0.5. This means that we could remove 15 features from this dataset using this method."
   ]
  },
  {
   "cell_type": "markdown",
   "metadata": {},
   "source": [
    "# Features which can be deleted"
   ]
  },
  {
   "cell_type": "code",
   "execution_count": 36,
   "metadata": {
    "scrolled": true
   },
   "outputs": [
    {
     "name": "stdout",
     "output_type": "stream",
     "text": [
      "features which can be deleted\n",
      "\n",
      " Administrative_Duration    0.472960\n",
      "Informational_Duration     0.492929\n",
      "ProductRelated_Duration    0.481084\n",
      "Month_Sep                  0.499855\n",
      "OperatingSystems_1         0.477892\n",
      "OperatingSystems_5         0.499680\n",
      "OperatingSystems_6         0.498239\n",
      "OperatingSystems_7         0.499611\n",
      "OperatingSystems_8         0.494415\n",
      "Browser_8                  0.498815\n",
      "Browser_9                  0.500000\n",
      "Browser_11                 0.499680\n",
      "Region_5                   0.494452\n",
      "Region_6                   0.486827\n",
      "Region_9                   0.492570\n",
      "dtype: float64\n"
     ]
    }
   ],
   "source": [
    "print(\"features which can be deleted\\n\\n\",roc_values[roc_values <= 0.5])"
   ]
  },
  {
   "cell_type": "markdown",
   "metadata": {},
   "source": [
    "Applying this feature selection on corr fixed data"
   ]
  },
  {
   "cell_type": "code",
   "execution_count": 37,
   "metadata": {},
   "outputs": [
    {
     "name": "stderr",
     "output_type": "stream",
     "text": [
      "C:\\Users\\neera\\Anaconda3\\lib\\site-packages\\pandas\\core\\frame.py:4102: SettingWithCopyWarning: \n",
      "A value is trying to be set on a copy of a slice from a DataFrame\n",
      "\n",
      "See the caveats in the documentation: http://pandas.pydata.org/pandas-docs/stable/user_guide/indexing.html#returning-a-view-versus-a-copy\n",
      "  errors=errors,\n"
     ]
    },
    {
     "data": {
      "text/plain": [
       "((8631, 52), (3699, 52))"
      ]
     },
     "execution_count": 37,
     "metadata": {},
     "output_type": "execute_result"
    }
   ],
   "source": [
    "x_baseTrain.drop(labels=['Browser_1','BounceRates','ProductRelated','VisitorType_Returning_Visitor'], \n",
    "                 axis=1, inplace=True)\n",
    "x_baseTest.drop(labels=['Browser_1','BounceRates','ProductRelated','VisitorType_Returning_Visitor'], \n",
    "                axis=1, inplace=True)\n",
    "\n",
    "x_baseTrain.shape, x_baseTest.shape"
   ]
  },
  {
   "cell_type": "code",
   "execution_count": 38,
   "metadata": {},
   "outputs": [
    {
     "data": {
      "text/plain": [
       "<matplotlib.axes._subplots.AxesSubplot at 0x23ce056d9c8>"
      ]
     },
     "execution_count": 38,
     "metadata": {},
     "output_type": "execute_result"
    },
    {
     "data": {
      "image/png": "[encoded data removed]",
      "text/plain": [
       "<Figure size 1440x576 with 1 Axes>"
      ]
     },
     "metadata": {
      "needs_background": "light"
     },
     "output_type": "display_data"
    }
   ],
   "source": [
    "# loop to build a tree, make predictions and get the roc-auc\n",
    "# for each feature of the train set\n",
    "\n",
    "roc_values = []\n",
    "for feature in x_baseTrain.columns:\n",
    "    clf = DecisionTreeClassifier()\n",
    "    clf.fit(x_baseTrain[feature].to_frame(), y_baseTrain)\n",
    "    y_scored = clf.predict_proba(x_baseTest[feature].to_frame())\n",
    "    roc_values.append(roc_auc_score(y_baseTest, y_scored[:, 1]))\n",
    "    \n",
    "# let's add the variable names and order it for clearer visualisation\n",
    "roc_values = pd.Series(roc_values)\n",
    "roc_values.index = x_baseTrain.columns\n",
    "roc_values.sort_values(ascending=False)\n",
    "\n",
    "# and now let's plot\n",
    "roc_values.sort_values(ascending=False).plot.bar(figsize=(20, 8))"
   ]
  },
  {
   "cell_type": "code",
   "execution_count": 39,
   "metadata": {},
   "outputs": [
    {
     "name": "stdout",
     "output_type": "stream",
     "text": [
      "37\n",
      "features which should be retained\n",
      "\n",
      " Administrative             0.630249\n",
      "Informational              0.561337\n",
      "ExitRates                  0.566526\n",
      "PageValues                 0.584450\n",
      "TrafficType                0.642461\n",
      "SpecialDay                 0.532660\n",
      "Month_Aug                  0.501455\n",
      "Month_Dec                  0.517950\n",
      "Month_Feb                  0.508344\n",
      "Month_Jul                  0.500833\n",
      "Month_June                 0.503698\n",
      "Month_Mar                  0.520394\n",
      "Month_May                  0.550608\n",
      "Month_Nov                  0.592558\n",
      "Month_Oct                  0.507958\n",
      "OperatingSystems_2         0.546457\n",
      "OperatingSystems_3         0.532516\n",
      "OperatingSystems_4         0.504272\n",
      "Browser_2                  0.507054\n",
      "Browser_3                  0.504572\n",
      "Browser_4                  0.507094\n",
      "Browser_5                  0.506833\n",
      "Browser_6                  0.501185\n",
      "Browser_7                  0.501462\n",
      "Browser_10                 0.504353\n",
      "Browser_12                 0.500870\n",
      "Browser_13                 0.504326\n",
      "Region_1                   0.507368\n",
      "Region_2                   0.502713\n",
      "Region_3                   0.506327\n",
      "Region_4                   0.503780\n",
      "Region_7                   0.500233\n",
      "Region_8                   0.500011\n",
      "VisitorType_New_Visitor    0.549685\n",
      "VisitorType_Other          0.502336\n",
      "Weekend_False              0.524512\n",
      "Weekend_True               0.524512\n",
      "dtype: float64\n"
     ]
    }
   ],
   "source": [
    "# a roc auc value of 0.5 indicates random decision\n",
    "# let's check how many features show a roc-auc value\n",
    "# higher than random\n",
    "\n",
    "print(len(roc_values[roc_values > 0.5]))\n",
    "print(\"features which should be retained\\n\\n\",roc_values[roc_values > 0.5])"
   ]
  },
  {
   "cell_type": "markdown",
   "metadata": {},
   "source": [
    "37 of 52 features show a predictive performance higher than 0.5. This means that we could remove 15 features from this dataset using this method."
   ]
  },
  {
   "cell_type": "markdown",
   "metadata": {},
   "source": [
    "# Features which can be deleted in corr fixed data"
   ]
  },
  {
   "cell_type": "code",
   "execution_count": 40,
   "metadata": {},
   "outputs": [
    {
     "name": "stdout",
     "output_type": "stream",
     "text": [
      "features which can be deleted\n",
      "\n",
      " Administrative_Duration    0.472960\n",
      "Informational_Duration     0.492929\n",
      "ProductRelated_Duration    0.481084\n",
      "Month_Sep                  0.499855\n",
      "OperatingSystems_1         0.477892\n",
      "OperatingSystems_5         0.499680\n",
      "OperatingSystems_6         0.498239\n",
      "OperatingSystems_7         0.499611\n",
      "OperatingSystems_8         0.494415\n",
      "Browser_8                  0.498815\n",
      "Browser_9                  0.500000\n",
      "Browser_11                 0.499680\n",
      "Region_5                   0.494452\n",
      "Region_6                   0.486827\n",
      "Region_9                   0.492570\n",
      "dtype: float64\n"
     ]
    }
   ],
   "source": [
    "print(\"features which can be deleted\\n\\n\",roc_values[roc_values <= 0.5])"
   ]
  },
  {
   "cell_type": "code",
   "execution_count": null,
   "metadata": {},
   "outputs": [],
   "source": []
  },
  {
   "cell_type": "code",
   "execution_count": null,
   "metadata": {},
   "outputs": [],
   "source": []
  },
  {
   "cell_type": "code",
   "execution_count": null,
   "metadata": {},
   "outputs": [],
   "source": []
  }
 ],
 "metadata": {
  "kernelspec": {
   "display_name": "Python 3",
   "language": "python",
   "name": "python3"
  },
  "language_info": {
   "codemirror_mode": {
    "name": "ipython",
    "version": 3
   },
   "file_extension": ".py",
   "mimetype": "text/x-python",
   "name": "python",
   "nbconvert_exporter": "python",
   "pygments_lexer": "ipython3",
   "version": "3.7.7"
  }
 },
 "nbformat": 4,
 "nbformat_minor": 2
}
