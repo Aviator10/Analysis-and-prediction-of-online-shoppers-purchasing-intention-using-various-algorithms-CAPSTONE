{
 "cells": [
  {
   "cell_type": "code",
   "execution_count": 37,
   "metadata": {},
   "outputs": [],
   "source": [
    "import pandas as pd\n",
    "import numpy as np\n",
    "import matplotlib.pyplot as plt\n",
    "import seaborn as sns\n",
    "%matplotlib inline\n",
    "import warnings\n",
    "from collections import Counter\n",
    "from sklearn.metrics import plot_precision_recall_curve"
   ]
  },
  {
   "cell_type": "code",
   "execution_count": 3,
   "metadata": {},
   "outputs": [
    {
     "name": "stdout",
     "output_type": "stream",
     "text": [
      "<class 'pandas.core.frame.DataFrame'>\n",
      "RangeIndex: 12330 entries, 0 to 12329\n",
      "Data columns (total 57 columns):\n",
      " #   Column                         Non-Null Count  Dtype  \n",
      "---  ------                         --------------  -----  \n",
      " 0   Administrative                 12330 non-null  int64  \n",
      " 1   Administrative_Duration        12330 non-null  float64\n",
      " 2   Informational                  12330 non-null  int64  \n",
      " 3   Informational_Duration         12330 non-null  float64\n",
      " 4   ProductRelated                 12330 non-null  int64  \n",
      " 5   ProductRelated_Duration        12330 non-null  float64\n",
      " 6   BounceRates                    12330 non-null  float64\n",
      " 7   ExitRates                      12330 non-null  float64\n",
      " 8   PageValues                     12330 non-null  float64\n",
      " 9   TrafficType                    12330 non-null  int64  \n",
      " 10  SpecialDay                     12330 non-null  float64\n",
      " 11  Month_Aug                      12330 non-null  uint8  \n",
      " 12  Month_Dec                      12330 non-null  uint8  \n",
      " 13  Month_Feb                      12330 non-null  uint8  \n",
      " 14  Month_Jul                      12330 non-null  uint8  \n",
      " 15  Month_June                     12330 non-null  uint8  \n",
      " 16  Month_Mar                      12330 non-null  uint8  \n",
      " 17  Month_May                      12330 non-null  uint8  \n",
      " 18  Month_Nov                      12330 non-null  uint8  \n",
      " 19  Month_Oct                      12330 non-null  uint8  \n",
      " 20  Month_Sep                      12330 non-null  uint8  \n",
      " 21  OperatingSystems_1             12330 non-null  uint8  \n",
      " 22  OperatingSystems_2             12330 non-null  uint8  \n",
      " 23  OperatingSystems_3             12330 non-null  uint8  \n",
      " 24  OperatingSystems_4             12330 non-null  uint8  \n",
      " 25  OperatingSystems_5             12330 non-null  uint8  \n",
      " 26  OperatingSystems_6             12330 non-null  uint8  \n",
      " 27  OperatingSystems_7             12330 non-null  uint8  \n",
      " 28  OperatingSystems_8             12330 non-null  uint8  \n",
      " 29  Browser_1                      12330 non-null  uint8  \n",
      " 30  Browser_2                      12330 non-null  uint8  \n",
      " 31  Browser_3                      12330 non-null  uint8  \n",
      " 32  Browser_4                      12330 non-null  uint8  \n",
      " 33  Browser_5                      12330 non-null  uint8  \n",
      " 34  Browser_6                      12330 non-null  uint8  \n",
      " 35  Browser_7                      12330 non-null  uint8  \n",
      " 36  Browser_8                      12330 non-null  uint8  \n",
      " 37  Browser_9                      12330 non-null  uint8  \n",
      " 38  Browser_10                     12330 non-null  uint8  \n",
      " 39  Browser_11                     12330 non-null  uint8  \n",
      " 40  Browser_12                     12330 non-null  uint8  \n",
      " 41  Browser_13                     12330 non-null  uint8  \n",
      " 42  Region_1                       12330 non-null  uint8  \n",
      " 43  Region_2                       12330 non-null  uint8  \n",
      " 44  Region_3                       12330 non-null  uint8  \n",
      " 45  Region_4                       12330 non-null  uint8  \n",
      " 46  Region_5                       12330 non-null  uint8  \n",
      " 47  Region_6                       12330 non-null  uint8  \n",
      " 48  Region_7                       12330 non-null  uint8  \n",
      " 49  Region_8                       12330 non-null  uint8  \n",
      " 50  Region_9                       12330 non-null  uint8  \n",
      " 51  VisitorType_New_Visitor        12330 non-null  uint8  \n",
      " 52  VisitorType_Other              12330 non-null  uint8  \n",
      " 53  VisitorType_Returning_Visitor  12330 non-null  uint8  \n",
      " 54  Weekend_False                  12330 non-null  uint8  \n",
      " 55  Weekend_True                   12330 non-null  uint8  \n",
      " 56  Revenue                        12330 non-null  bool   \n",
      "dtypes: bool(1), float64(7), int64(4), uint8(45)\n",
      "memory usage: 1.6 MB\n",
      "Shape of x: (12330, 56)\n",
      "Shape of y: (12330,)\n"
     ]
    }
   ],
   "source": [
    "myData=pd.read_csv('imputedData.csv')\n",
    "myData.head()\n",
    "\n",
    "#One hot encoding of categorical variables\n",
    "\n",
    "#Create list with features to be dummified cols.\n",
    "nonum_feats_names = ['Month','OperatingSystems','Browser','Region','VisitorType','Weekend']\n",
    "\n",
    "\n",
    "dataModel = pd.concat([myData[['Administrative', 'Administrative_Duration', 'Informational','Informational_Duration', \n",
    "                              'ProductRelated','ProductRelated_Duration','BounceRates','ExitRates','PageValues',\n",
    "                               'TrafficType','SpecialDay']],\n",
    "                       pd.get_dummies(myData[nonum_feats_names].astype('category')),myData['Revenue']],axis=1)\n",
    "                      \n",
    "dataModel.info()\n",
    "\n",
    "\n",
    "#Label Encoding of revenue\n",
    "\n",
    "from sklearn.preprocessing import LabelEncoder\n",
    "\n",
    "le = LabelEncoder()\n",
    "myData['Revenue'] = le.fit_transform(myData['Revenue'])\n",
    "myData['Revenue'].value_counts()\n",
    "\n",
    "myData['Revenue'].head()\n",
    "\n",
    "# getting dependent and independent variables\n",
    "\n",
    "x = dataModel\n",
    "# removing the target column revenue from x\n",
    "x = x.drop(['Revenue'], axis = 1)\n",
    "\n",
    "y = myData['Revenue']\n",
    "\n",
    "# checking the shapes\n",
    "print(\"Shape of x:\", x.shape)\n",
    "print(\"Shape of y:\", y.shape)"
   ]
  },
  {
   "cell_type": "code",
   "execution_count": 4,
   "metadata": {},
   "outputs": [
    {
     "name": "stdout",
     "output_type": "stream",
     "text": [
      "Shape of x_train : (8631, 56)\n",
      "Shape of y_train : (8631,)\n",
      "Shape of x_test : (3699, 56)\n",
      "Shape of y_test : (3699,)\n"
     ]
    }
   ],
   "source": [
    "# splitting the data\n",
    "\n",
    "from sklearn.model_selection import train_test_split\n",
    "\n",
    "X_Train, X_Test, y_Train, y_Test = train_test_split(x, y, test_size = 0.3, random_state = 42,shuffle=True,stratify=y)\n",
    "\n",
    "# checking the shapes\n",
    "\n",
    "print(\"Shape of x_train :\", X_Train.shape)\n",
    "print(\"Shape of y_train :\", y_Train.shape)\n",
    "print(\"Shape of x_test :\", X_Test.shape)\n",
    "print(\"Shape of y_test :\", y_Test.shape)"
   ]
  },
  {
   "cell_type": "code",
   "execution_count": 5,
   "metadata": {
    "scrolled": true
   },
   "outputs": [
    {
     "name": "stdout",
     "output_type": "stream",
     "text": [
      "0    0.845209\n",
      "1    0.154791\n",
      "Name: Revenue, dtype: float64\n",
      "Counter({0: 7295, 1: 1336})\n"
     ]
    }
   ],
   "source": [
    "print(pd.DataFrame(y_Train,columns=['Revenue']).Revenue.value_counts(normalize=True))\n",
    "print(Counter(y_Train))"
   ]
  },
  {
   "cell_type": "code",
   "execution_count": 6,
   "metadata": {},
   "outputs": [
    {
     "name": "stderr",
     "output_type": "stream",
     "text": [
      "C:\\Users\\neera\\Anaconda3\\lib\\site-packages\\ipykernel_launcher.py:16: SettingWithCopyWarning: \n",
      "A value is trying to be set on a copy of a slice from a DataFrame.\n",
      "Try using .loc[row_indexer,col_indexer] = value instead\n",
      "\n",
      "See the caveats in the documentation: https://pandas.pydata.org/pandas-docs/stable/user_guide/indexing.html#returning-a-view-versus-a-copy\n",
      "  app.launch_new_instance()\n",
      "C:\\Users\\neera\\Anaconda3\\lib\\site-packages\\ipykernel_launcher.py:24: SettingWithCopyWarning: \n",
      "A value is trying to be set on a copy of a slice from a DataFrame.\n",
      "Try using .loc[row_indexer,col_indexer] = value instead\n",
      "\n",
      "See the caveats in the documentation: https://pandas.pydata.org/pandas-docs/stable/user_guide/indexing.html#returning-a-view-versus-a-copy\n"
     ]
    }
   ],
   "source": [
    "#SCALING WITH STANDARD Z SCORE SCALER\n",
    "#Scaling the data first fitting it and transforming the training set\n",
    "#to later apply the fit to transform the test set.\n",
    "from sklearn.preprocessing import StandardScaler\n",
    "\n",
    "num_cols_names = ['Administrative', 'Administrative_Duration', 'Informational','Informational_Duration', \n",
    "                              'ProductRelated','ProductRelated_Duration','BounceRates','ExitRates','PageValues',\n",
    "                               'TrafficType','SpecialDay']\n",
    "#Instantiate Satandard Scaler\n",
    "scaler = StandardScaler()\n",
    "#Fit transform the numerical features in the training dataset to a new dataframe\n",
    "scaled_numfeats_train = pd.DataFrame(scaler.fit_transform(X_Train[num_cols_names]), \n",
    "                                     columns=num_cols_names, index= X_Train.index)\n",
    "#Integrate scaled values to the training set\n",
    "for col in num_cols_names:\n",
    "    X_Train[col] = scaled_numfeats_train[col]\n",
    "    \n",
    "    \n",
    "#Transform the numerical features inthe training dataset to a new dataframe\n",
    "scaled_numfeats_test = pd.DataFrame(scaler.transform(X_Test[num_cols_names]),\n",
    "                                    columns=num_cols_names, index= X_Test.index)\n",
    "#Integrate scaled values to the test set\n",
    "for col in num_cols_names:\n",
    "    X_Test[col] = scaled_numfeats_test[col]"
   ]
  },
  {
   "cell_type": "code",
   "execution_count": 7,
   "metadata": {},
   "outputs": [
    {
     "data": {
      "text/html": [
       "<div>\n",
       "<style scoped>\n",
       "    .dataframe tbody tr th:only-of-type {\n",
       "        vertical-align: middle;\n",
       "    }\n",
       "\n",
       "    .dataframe tbody tr th {\n",
       "        vertical-align: top;\n",
       "    }\n",
       "\n",
       "    .dataframe thead th {\n",
       "        text-align: right;\n",
       "    }\n",
       "</style>\n",
       "<table border=\"1\" class=\"dataframe\">\n",
       "  <thead>\n",
       "    <tr style=\"text-align: right;\">\n",
       "      <th></th>\n",
       "      <th>Administrative</th>\n",
       "      <th>Administrative_Duration</th>\n",
       "      <th>Informational</th>\n",
       "      <th>Informational_Duration</th>\n",
       "      <th>ProductRelated</th>\n",
       "      <th>ProductRelated_Duration</th>\n",
       "      <th>BounceRates</th>\n",
       "      <th>ExitRates</th>\n",
       "      <th>PageValues</th>\n",
       "      <th>TrafficType</th>\n",
       "      <th>...</th>\n",
       "      <th>Region_5</th>\n",
       "      <th>Region_6</th>\n",
       "      <th>Region_7</th>\n",
       "      <th>Region_8</th>\n",
       "      <th>Region_9</th>\n",
       "      <th>VisitorType_New_Visitor</th>\n",
       "      <th>VisitorType_Other</th>\n",
       "      <th>VisitorType_Returning_Visitor</th>\n",
       "      <th>Weekend_False</th>\n",
       "      <th>Weekend_True</th>\n",
       "    </tr>\n",
       "  </thead>\n",
       "  <tbody>\n",
       "    <tr>\n",
       "      <th>7460</th>\n",
       "      <td>0.508002</td>\n",
       "      <td>-0.200488</td>\n",
       "      <td>-0.3947</td>\n",
       "      <td>-0.244336</td>\n",
       "      <td>-0.399509</td>\n",
       "      <td>-0.483009</td>\n",
       "      <td>-0.454346</td>\n",
       "      <td>-0.668356</td>\n",
       "      <td>-0.320111</td>\n",
       "      <td>0.223142</td>\n",
       "      <td>...</td>\n",
       "      <td>0</td>\n",
       "      <td>0</td>\n",
       "      <td>0</td>\n",
       "      <td>0</td>\n",
       "      <td>0</td>\n",
       "      <td>1</td>\n",
       "      <td>0</td>\n",
       "      <td>0</td>\n",
       "      <td>1</td>\n",
       "      <td>0</td>\n",
       "    </tr>\n",
       "    <tr>\n",
       "      <th>4687</th>\n",
       "      <td>-0.397089</td>\n",
       "      <td>-0.229562</td>\n",
       "      <td>-0.3947</td>\n",
       "      <td>-0.244336</td>\n",
       "      <td>-0.283724</td>\n",
       "      <td>-0.388159</td>\n",
       "      <td>-0.454346</td>\n",
       "      <td>-0.668356</td>\n",
       "      <td>-0.320111</td>\n",
       "      <td>-0.023995</td>\n",
       "      <td>...</td>\n",
       "      <td>0</td>\n",
       "      <td>0</td>\n",
       "      <td>0</td>\n",
       "      <td>0</td>\n",
       "      <td>0</td>\n",
       "      <td>0</td>\n",
       "      <td>0</td>\n",
       "      <td>1</td>\n",
       "      <td>1</td>\n",
       "      <td>0</td>\n",
       "    </tr>\n",
       "    <tr>\n",
       "      <th>790</th>\n",
       "      <td>-0.698787</td>\n",
       "      <td>-0.456792</td>\n",
       "      <td>-0.3947</td>\n",
       "      <td>-0.244336</td>\n",
       "      <td>-0.422666</td>\n",
       "      <td>-0.538272</td>\n",
       "      <td>-0.454346</td>\n",
       "      <td>-0.251598</td>\n",
       "      <td>-0.320111</td>\n",
       "      <td>-0.271132</td>\n",
       "      <td>...</td>\n",
       "      <td>0</td>\n",
       "      <td>0</td>\n",
       "      <td>0</td>\n",
       "      <td>0</td>\n",
       "      <td>0</td>\n",
       "      <td>0</td>\n",
       "      <td>0</td>\n",
       "      <td>1</td>\n",
       "      <td>1</td>\n",
       "      <td>0</td>\n",
       "    </tr>\n",
       "    <tr>\n",
       "      <th>9057</th>\n",
       "      <td>1.111396</td>\n",
       "      <td>-0.102539</td>\n",
       "      <td>-0.3947</td>\n",
       "      <td>-0.244336</td>\n",
       "      <td>0.341513</td>\n",
       "      <td>-0.040404</td>\n",
       "      <td>-0.308034</td>\n",
       "      <td>-0.544755</td>\n",
       "      <td>-0.320111</td>\n",
       "      <td>0.964551</td>\n",
       "      <td>...</td>\n",
       "      <td>0</td>\n",
       "      <td>0</td>\n",
       "      <td>0</td>\n",
       "      <td>0</td>\n",
       "      <td>0</td>\n",
       "      <td>0</td>\n",
       "      <td>0</td>\n",
       "      <td>1</td>\n",
       "      <td>1</td>\n",
       "      <td>0</td>\n",
       "    </tr>\n",
       "    <tr>\n",
       "      <th>225</th>\n",
       "      <td>-0.698787</td>\n",
       "      <td>-0.456792</td>\n",
       "      <td>-0.3947</td>\n",
       "      <td>-0.244336</td>\n",
       "      <td>-0.677393</td>\n",
       "      <td>-0.669486</td>\n",
       "      <td>-0.454346</td>\n",
       "      <td>1.173716</td>\n",
       "      <td>-0.320111</td>\n",
       "      <td>1.705961</td>\n",
       "      <td>...</td>\n",
       "      <td>0</td>\n",
       "      <td>0</td>\n",
       "      <td>0</td>\n",
       "      <td>0</td>\n",
       "      <td>0</td>\n",
       "      <td>0</td>\n",
       "      <td>0</td>\n",
       "      <td>1</td>\n",
       "      <td>0</td>\n",
       "      <td>1</td>\n",
       "    </tr>\n",
       "  </tbody>\n",
       "</table>\n",
       "<p>5 rows × 56 columns</p>\n",
       "</div>"
      ],
      "text/plain": [
       "      Administrative  Administrative_Duration  Informational  \\\n",
       "7460        0.508002                -0.200488        -0.3947   \n",
       "4687       -0.397089                -0.229562        -0.3947   \n",
       "790        -0.698787                -0.456792        -0.3947   \n",
       "9057        1.111396                -0.102539        -0.3947   \n",
       "225        -0.698787                -0.456792        -0.3947   \n",
       "\n",
       "      Informational_Duration  ProductRelated  ProductRelated_Duration  \\\n",
       "7460               -0.244336       -0.399509                -0.483009   \n",
       "4687               -0.244336       -0.283724                -0.388159   \n",
       "790                -0.244336       -0.422666                -0.538272   \n",
       "9057               -0.244336        0.341513                -0.040404   \n",
       "225                -0.244336       -0.677393                -0.669486   \n",
       "\n",
       "      BounceRates  ExitRates  PageValues  TrafficType  ...  Region_5  \\\n",
       "7460    -0.454346  -0.668356   -0.320111     0.223142  ...         0   \n",
       "4687    -0.454346  -0.668356   -0.320111    -0.023995  ...         0   \n",
       "790     -0.454346  -0.251598   -0.320111    -0.271132  ...         0   \n",
       "9057    -0.308034  -0.544755   -0.320111     0.964551  ...         0   \n",
       "225     -0.454346   1.173716   -0.320111     1.705961  ...         0   \n",
       "\n",
       "      Region_6  Region_7  Region_8  Region_9  VisitorType_New_Visitor  \\\n",
       "7460         0         0         0         0                        1   \n",
       "4687         0         0         0         0                        0   \n",
       "790          0         0         0         0                        0   \n",
       "9057         0         0         0         0                        0   \n",
       "225          0         0         0         0                        0   \n",
       "\n",
       "      VisitorType_Other  VisitorType_Returning_Visitor  Weekend_False  \\\n",
       "7460                  0                              0              1   \n",
       "4687                  0                              1              1   \n",
       "790                   0                              1              1   \n",
       "9057                  0                              1              1   \n",
       "225                   0                              1              0   \n",
       "\n",
       "      Weekend_True  \n",
       "7460             0  \n",
       "4687             0  \n",
       "790              0  \n",
       "9057             0  \n",
       "225              1  \n",
       "\n",
       "[5 rows x 56 columns]"
      ]
     },
     "execution_count": 7,
     "metadata": {},
     "output_type": "execute_result"
    }
   ],
   "source": [
    "X_Train.head()"
   ]
  },
  {
   "cell_type": "code",
   "execution_count": 8,
   "metadata": {},
   "outputs": [
    {
     "name": "stderr",
     "output_type": "stream",
     "text": [
      "C:\\Users\\neera\\Anaconda3\\lib\\site-packages\\pandas\\core\\frame.py:3997: SettingWithCopyWarning: \n",
      "A value is trying to be set on a copy of a slice from a DataFrame\n",
      "\n",
      "See the caveats in the documentation: https://pandas.pydata.org/pandas-docs/stable/user_guide/indexing.html#returning-a-view-versus-a-copy\n",
      "  errors=errors,\n"
     ]
    }
   ],
   "source": [
    "X_Train.drop(labels=['Browser_1','BounceRates','ProductRelated','VisitorType_Returning_Visitor'], \n",
    "                 axis=1, inplace=True)\n",
    "X_Test.drop(labels=['Browser_1','BounceRates','ProductRelated','VisitorType_Returning_Visitor'], \n",
    "                axis=1, inplace=True)"
   ]
  },
  {
   "cell_type": "code",
   "execution_count": 9,
   "metadata": {},
   "outputs": [],
   "source": [
    "X_Train = X_Train.drop(['Weekend_True','Region_2','Region_1','Month_Jul','Month_Feb','Informational','Browser_9','Browser_12',\n",
    "                        'Browser_11','Region_8','Region_3','OperatingSystems_6','OperatingSystems_1','Month_June',\n",
    "                        'Browser_8','Browser_7','Browser_3','Browser_13','Browser_10','VisitorType_Other','Region_8','Region_7',\n",
    "                        'Region_5','OperatingSystems_5','Month_Aug'],axis=1)\n",
    "X_Test = X_Test.drop(['Weekend_True','Region_2','Region_1','Month_Jul','Month_Feb','Informational','Browser_9','Browser_12',\n",
    "                        'Browser_11','Region_8','Region_3','OperatingSystems_6','OperatingSystems_1','Month_June',\n",
    "                        'Browser_8','Browser_7','Browser_3','Browser_13','Browser_10','VisitorType_Other','Region_8','Region_7',\n",
    "                        'Region_5','OperatingSystems_5','Month_Aug'],axis=1)"
   ]
  },
  {
   "cell_type": "code",
   "execution_count": 10,
   "metadata": {},
   "outputs": [
    {
     "name": "stdout",
     "output_type": "stream",
     "text": [
      "(8631, 23) (3699, 23)\n"
     ]
    }
   ],
   "source": [
    "X_Train = X_Train.drop(['OperatingSystems_4','OperatingSystems_7','OperatingSystems_8','Browser_5','Region_9'],axis=1)\n",
    "X_Test = X_Test.drop(['OperatingSystems_4','OperatingSystems_7','OperatingSystems_8','Browser_5','Region_9'],axis=1)\n",
    "\n",
    "print(X_Train.shape, X_Test.shape)"
   ]
  },
  {
   "cell_type": "markdown",
   "metadata": {},
   "source": [
    "# Oversampling and Undersampling using SMOTEEN"
   ]
  },
  {
   "cell_type": "code",
   "execution_count": 11,
   "metadata": {},
   "outputs": [
    {
     "name": "stderr",
     "output_type": "stream",
     "text": [
      "C:\\Users\\neera\\Anaconda3\\lib\\site-packages\\sklearn\\utils\\deprecation.py:144: FutureWarning: The sklearn.neighbors.base module is  deprecated in version 0.22 and will be removed in version 0.24. The corresponding classes / functions should instead be imported from sklearn.neighbors. Anything that cannot be imported from sklearn.neighbors is now part of the private API.\n",
      "  warnings.warn(message, FutureWarning)\n",
      "C:\\Users\\neera\\Anaconda3\\lib\\site-packages\\sklearn\\utils\\deprecation.py:144: FutureWarning: The sklearn.ensemble.bagging module is  deprecated in version 0.22 and will be removed in version 0.24. The corresponding classes / functions should instead be imported from sklearn.ensemble. Anything that cannot be imported from sklearn.ensemble is now part of the private API.\n",
      "  warnings.warn(message, FutureWarning)\n",
      "C:\\Users\\neera\\Anaconda3\\lib\\site-packages\\sklearn\\utils\\deprecation.py:144: FutureWarning: The sklearn.ensemble.base module is  deprecated in version 0.22 and will be removed in version 0.24. The corresponding classes / functions should instead be imported from sklearn.ensemble. Anything that cannot be imported from sklearn.ensemble is now part of the private API.\n",
      "  warnings.warn(message, FutureWarning)\n",
      "C:\\Users\\neera\\Anaconda3\\lib\\site-packages\\sklearn\\utils\\deprecation.py:144: FutureWarning: The sklearn.ensemble.forest module is  deprecated in version 0.22 and will be removed in version 0.24. The corresponding classes / functions should instead be imported from sklearn.ensemble. Anything that cannot be imported from sklearn.ensemble is now part of the private API.\n",
      "  warnings.warn(message, FutureWarning)\n",
      "C:\\Users\\neera\\Anaconda3\\lib\\site-packages\\sklearn\\utils\\deprecation.py:144: FutureWarning: The sklearn.utils.testing module is  deprecated in version 0.22 and will be removed in version 0.24. The corresponding classes / functions should instead be imported from sklearn.utils. Anything that cannot be imported from sklearn.utils is now part of the private API.\n",
      "  warnings.warn(message, FutureWarning)\n",
      "C:\\Users\\neera\\Anaconda3\\lib\\site-packages\\sklearn\\utils\\deprecation.py:144: FutureWarning: The sklearn.metrics.classification module is  deprecated in version 0.22 and will be removed in version 0.24. The corresponding classes / functions should instead be imported from sklearn.metrics. Anything that cannot be imported from sklearn.metrics is now part of the private API.\n",
      "  warnings.warn(message, FutureWarning)\n",
      "C:\\Users\\neera\\Anaconda3\\lib\\site-packages\\sklearn\\utils\\deprecation.py:87: FutureWarning: Function safe_indexing is deprecated; safe_indexing is deprecated in version 0.22 and will be removed in version 0.24.\n",
      "  warnings.warn(msg, category=FutureWarning)\n",
      "C:\\Users\\neera\\Anaconda3\\lib\\site-packages\\sklearn\\utils\\deprecation.py:87: FutureWarning: Function safe_indexing is deprecated; safe_indexing is deprecated in version 0.22 and will be removed in version 0.24.\n",
      "  warnings.warn(msg, category=FutureWarning)\n",
      "C:\\Users\\neera\\Anaconda3\\lib\\site-packages\\sklearn\\utils\\deprecation.py:87: FutureWarning: Function safe_indexing is deprecated; safe_indexing is deprecated in version 0.22 and will be removed in version 0.24.\n",
      "  warnings.warn(msg, category=FutureWarning)\n"
     ]
    }
   ],
   "source": [
    "from imblearn.combine import SMOTEENN\n",
    "from imblearn.under_sampling import EditedNearestNeighbours\n",
    "\n",
    "sm=SMOTEENN(random_state=33,sampling_strategy=0.35,enn=EditedNearestNeighbours(sampling_strategy='majority'))\n",
    "sm\n",
    "X_Train_res, y_Train_res = sm.fit_resample(X_Train, y_Train)"
   ]
  },
  {
   "cell_type": "code",
   "execution_count": 12,
   "metadata": {},
   "outputs": [
    {
     "name": "stdout",
     "output_type": "stream",
     "text": [
      "0    0.692373\n",
      "1    0.307627\n",
      "Name: Revenue, dtype: float64\n",
      "Counter({0: 5746, 1: 2553})\n"
     ]
    }
   ],
   "source": [
    "print(pd.DataFrame(y_Train_res,columns=['Revenue']).Revenue.value_counts(normalize=True))\n",
    "print(Counter(y_Train_res))"
   ]
  },
  {
   "cell_type": "code",
   "execution_count": 13,
   "metadata": {
    "scrolled": true
   },
   "outputs": [
    {
     "name": "stdout",
     "output_type": "stream",
     "text": [
      "Shape of x_train : (8299, 23)\n",
      "Shape of y_train : (8299,)\n"
     ]
    }
   ],
   "source": [
    "print(\"Shape of x_train :\", X_Train_res.shape) \n",
    "print(\"Shape of y_train :\", y_Train_res.shape)"
   ]
  },
  {
   "cell_type": "markdown",
   "metadata": {},
   "source": [
    "# Logistic Regression"
   ]
  },
  {
   "cell_type": "code",
   "execution_count": 43,
   "metadata": {},
   "outputs": [
    {
     "name": "stdout",
     "output_type": "stream",
     "text": [
      "LogisticRegression(C=1.0, class_weight=None, dual=False, fit_intercept=True,\n",
      "                   intercept_scaling=1, l1_ratio=None, max_iter=100,\n",
      "                   multi_class='auto', n_jobs=None, penalty='l2',\n",
      "                   random_state=None, solver='lbfgs', tol=0.0001, verbose=0,\n",
      "                   warm_start=False)\n",
      "Training Accuracy : 0.9090251837570792\n",
      "Testing Accuracy : 0.8742903487429035\n",
      "ROC AUC Score : 0.8149422132073236\n",
      "*******************************************************************************************\n",
      "CONFUSION MATRIX\n"
     ]
    },
    {
     "data": {
      "image/png": "[encoded data removed]",
      "text/plain": [
       "<Figure size 432x288 with 2 Axes>"
      ]
     },
     "metadata": {
      "needs_background": "light"
     },
     "output_type": "display_data"
    },
    {
     "name": "stdout",
     "output_type": "stream",
     "text": [
      "*******************************************************************************************\n",
      "CLASSIFICATION REPORT\n",
      "              precision    recall  f1-score   support\n",
      "\n",
      "           0       0.95      0.90      0.92      3127\n",
      "           1       0.57      0.73      0.64       572\n",
      "\n",
      "    accuracy                           0.87      3699\n",
      "   macro avg       0.76      0.81      0.78      3699\n",
      "weighted avg       0.89      0.87      0.88      3699\n",
      "\n",
      "*******************************************************************************************\n",
      "PRECISION RECALL CURVE\n"
     ]
    },
    {
     "data": {
      "image/png": "[encoded data removed]",
      "text/plain": [
       "<Figure size 432x288 with 1 Axes>"
      ]
     },
     "metadata": {
      "needs_background": "light"
     },
     "output_type": "display_data"
    },
    {
     "name": "stdout",
     "output_type": "stream",
     "text": [
      "*******************************************************************************************\n",
      "CROSS VALIDATION METRICS\n",
      "Mean Accuracy : 0.9081805630241109\n",
      "Standard Deviation : 0.0081642837477491\n",
      "Mean precision score : 0.9262753546095782\n",
      "Standard Deviation precision score : 0.014526652244606919\n",
      "Mean recall score : 0.7622150735294118\n",
      "Standard Deviation recall score : 0.019963550315585235\n",
      "Mean f1 score : 0.8361576115250878\n",
      "Standard Deviation f1 score : 0.015681159295256705\n",
      "Mean AUC ROC Score : 0.8676203378554497\n",
      "Standard Deviation AUC ROC Score : 0.011194694811019935\n",
      "*******************************************************************************************\n"
     ]
    }
   ],
   "source": [
    "from sklearn.linear_model import LogisticRegression\n",
    "from sklearn.model_selection import RepeatedStratifiedKFold\n",
    "classifier_lg = LogisticRegression() \n",
    "classifier_lg.fit(X_Train_res,y_Train_res)\n",
    "print(classifier_lg)\n",
    "\n",
    "y_pred=classifier_lg.predict(X_Test)\n",
    "warnings.filterwarnings(\"default\")\n",
    "\n",
    "# evaluating the model\n",
    "from sklearn.metrics import roc_auc_score\n",
    "print(\"Training Accuracy :\", classifier_lg.score(X_Train_res, y_Train_res))\n",
    "print(\"Testing Accuracy :\", classifier_lg.score(X_Test, y_Test))\n",
    "print(\"ROC AUC Score :\", roc_auc_score(y_Test, y_pred))\n",
    "print(\"*******************************************************************************************\")\n",
    "\n",
    "from sklearn.metrics import classification_report,confusion_matrix\n",
    "print(\"CONFUSION MATRIX\")\n",
    "labels = ['Non-revenue', 'Revenue']\n",
    "fig = plt.figure()\n",
    "sns.heatmap(confusion_matrix(y_Test,y_pred), annot=True,cmap='Blues',fmt='g',linewidths=2, linecolor='black')\n",
    "plt.xlabel('Predicted')\n",
    "plt.ylabel('Actual')\n",
    "plt.show()\n",
    "\n",
    "print(\"*******************************************************************************************\")\n",
    "print(\"CLASSIFICATION REPORT\")\n",
    "print(classification_report(y_Test,y_pred))\n",
    "print(\"*******************************************************************************************\")\n",
    "print(\"PRECISION RECALL CURVE\")\n",
    "pre_recall_curve = plot_precision_recall_curve(classifier_lg, X_Test, y_Test)\n",
    "plt.show()\n",
    "print(\"*******************************************************************************************\")\n",
    "\n",
    "from sklearn.metrics import make_scorer, accuracy_score, precision_score, recall_score, f1_score\n",
    "from sklearn.model_selection import cross_val_score, cross_validate\n",
    "\n",
    "\n",
    "# cross validation\n",
    "scoring = {'accuracy' : make_scorer(accuracy_score), \n",
    "           'precision' : make_scorer(precision_score),\n",
    "           'recall' : make_scorer(recall_score), \n",
    "           'f1_score' : make_scorer(f1_score),\n",
    "          'AUC ROC score' : make_scorer(roc_auc_score)}\n",
    "cvs = cross_validate(estimator = classifier_lg, X = X_Train_res, y = y_Train_res, cv = 10,scoring=scoring, n_jobs=-1)\n",
    "#print(cvs)\n",
    "print(\"CROSS VALIDATION METRICS\")\n",
    "print(\"Mean Accuracy :\", np.mean(cvs['test_accuracy']))\n",
    "print(\"Standard Deviation :\", np.std(cvs['test_accuracy']))\n",
    "print(\"Mean precision score :\", np.mean(cvs['test_precision']))\n",
    "print(\"Standard Deviation precision score :\", np.std(cvs['test_precision']))\n",
    "print(\"Mean recall score :\", np.mean(cvs['test_recall']))\n",
    "print(\"Standard Deviation recall score :\", np.std(cvs['test_recall']))\n",
    "print(\"Mean f1 score :\", np.mean(cvs['test_f1_score']))\n",
    "print(\"Standard Deviation f1 score :\", np.std(cvs['test_f1_score']))\n",
    "print(\"Mean AUC ROC Score :\", np.mean(cvs['test_AUC ROC score']))\n",
    "print(\"Standard Deviation AUC ROC Score :\", np.std(cvs['test_AUC ROC score']))\n",
    "print(\"*******************************************************************************************\")"
   ]
  },
  {
   "cell_type": "markdown",
   "metadata": {},
   "source": [
    "# Logistic Regression Hyper-parameter Tuning"
   ]
  },
  {
   "cell_type": "code",
   "execution_count": 44,
   "metadata": {},
   "outputs": [
    {
     "name": "stdout",
     "output_type": "stream",
     "text": [
      "GridSearchCV(cv=10, error_score=nan,\n",
      "             estimator=LogisticRegression(C=1.0, class_weight=None, dual=False,\n",
      "                                          fit_intercept=True,\n",
      "                                          intercept_scaling=1, l1_ratio=None,\n",
      "                                          max_iter=100, multi_class='auto',\n",
      "                                          n_jobs=None, penalty='l2',\n",
      "                                          random_state=None, solver='lbfgs',\n",
      "                                          tol=0.0001, verbose=0,\n",
      "                                          warm_start=False),\n",
      "             iid='deprecated', n_jobs=-1,\n",
      "             param_grid=[{'C': [0.1, 0.01, 1],\n",
      "                          'solver': ['newton-cg', 'lbfgs', 'liblinear', 'sag',\n",
      "                                     'saga']}],\n",
      "             pre_dispatch='2*n_jobs', refit=True, return_train_score=False,\n",
      "             scoring=None, verbose=0)\n",
      "*******************************************************************************************\n",
      "Best Hyper Parameters: {'C': 1, 'solver': 'newton-cg'}\n",
      "Best Accuracy Score: 0.9081805630241109\n",
      "Best Estimators: LogisticRegression(C=1, class_weight=None, dual=False, fit_intercept=True,\n",
      "                   intercept_scaling=1, l1_ratio=None, max_iter=100,\n",
      "                   multi_class='auto', n_jobs=None, penalty='l2',\n",
      "                   random_state=None, solver='newton-cg', tol=0.0001, verbose=0,\n",
      "                   warm_start=False)\n",
      "*******************************************************************************************\n"
     ]
    }
   ],
   "source": [
    "from sklearn.model_selection import GridSearchCV\n",
    "\n",
    "base_classifier = LogisticRegression(penalty='l2')\n",
    "params = [\n",
    "    {\n",
    "     'C' : [0.1, 0.01,1],\n",
    "    'solver' : ['newton-cg', 'lbfgs', 'liblinear', 'sag', 'saga']\n",
    "    }\n",
    "]\n",
    "\n",
    "best_classifier = GridSearchCV(base_classifier, param_grid=params, n_jobs=-1,cv=10)\n",
    "\n",
    "#Learning\n",
    "best_classifier.fit(X_Train_res,y_Train_res)\n",
    "print(best_classifier)\n",
    "#The best hyper parameters set\n",
    "print(\"*******************************************************************************************\")\n",
    "print(\"Best Hyper Parameters:\",best_classifier.best_params_)\n",
    "print(\"Best Accuracy Score:\",best_classifier.best_score_)\n",
    "print(\"Best Estimators:\",best_classifier.best_estimator_)\n",
    "print(\"*******************************************************************************************\")"
   ]
  },
  {
   "cell_type": "markdown",
   "metadata": {},
   "source": [
    "# Logistic Regression Hyper parameter tuned model"
   ]
  },
  {
   "cell_type": "code",
   "execution_count": 45,
   "metadata": {},
   "outputs": [
    {
     "name": "stdout",
     "output_type": "stream",
     "text": [
      "LogisticRegression(C=1, class_weight=None, dual=False, fit_intercept=True,\n",
      "                   intercept_scaling=1, l1_ratio=None, max_iter=100,\n",
      "                   multi_class='auto', n_jobs=None, penalty='l2',\n",
      "                   random_state=None, solver='newton-cg', tol=0.0001, verbose=0,\n",
      "                   warm_start=False)\n",
      "Training Accuracy : 0.9090251837570792\n",
      "Testing Accuracy : 0.8742903487429035\n",
      "ROC AUC Score : 0.8149422132073236\n",
      "*******************************************************************************************\n",
      "CONFUSION MATRIX\n"
     ]
    },
    {
     "data": {
      "image/png": "[encoded data removed]",
      "text/plain": [
       "<Figure size 432x288 with 2 Axes>"
      ]
     },
     "metadata": {
      "needs_background": "light"
     },
     "output_type": "display_data"
    },
    {
     "name": "stdout",
     "output_type": "stream",
     "text": [
      "*******************************************************************************************\n",
      "CLASSIFICATION REPORT\n",
      "              precision    recall  f1-score   support\n",
      "\n",
      "           0       0.95      0.90      0.92      3127\n",
      "           1       0.57      0.73      0.64       572\n",
      "\n",
      "    accuracy                           0.87      3699\n",
      "   macro avg       0.76      0.81      0.78      3699\n",
      "weighted avg       0.89      0.87      0.88      3699\n",
      "\n",
      "*******************************************************************************************\n",
      "PRECISION RECALL CURVE\n"
     ]
    },
    {
     "data": {
      "image/png": "[encoded data removed]",
      "text/plain": [
       "<Figure size 432x288 with 1 Axes>"
      ]
     },
     "metadata": {
      "needs_background": "light"
     },
     "output_type": "display_data"
    },
    {
     "name": "stdout",
     "output_type": "stream",
     "text": [
      "*******************************************************************************************\n",
      "CROSS VALIDATION METRICS\n",
      "Mean Accuracy : 0.9081805630241109\n",
      "Standard Deviation : 0.0081642837477491\n",
      "Mean precision score : 0.9262753546095782\n",
      "Standard Deviation precision score : 0.014526652244606919\n",
      "Mean recall score : 0.7622150735294118\n",
      "Standard Deviation recall score : 0.019963550315585235\n",
      "Mean f1 score : 0.8361576115250878\n",
      "Standard Deviation f1 score : 0.015681159295256705\n",
      "Mean AUC ROC Score : 0.8676203378554497\n",
      "Standard Deviation AUC ROC Score : 0.011194694811019935\n",
      "*******************************************************************************************\n"
     ]
    }
   ],
   "source": [
    "from sklearn.linear_model import LogisticRegression\n",
    "classifier_lg = LogisticRegression(C=1,solver='newton-cg') \n",
    "classifier_lg.fit(X_Train_res,y_Train_res)\n",
    "print(classifier_lg)\n",
    "\n",
    "y_pred=classifier_lg.predict(X_Test)\n",
    "\n",
    "# evaluating the model\n",
    "from sklearn.metrics import roc_auc_score\n",
    "print(\"Training Accuracy :\", classifier_lg.score(X_Train_res, y_Train_res))\n",
    "print(\"Testing Accuracy :\", classifier_lg.score(X_Test, y_Test))\n",
    "print(\"ROC AUC Score :\", roc_auc_score(y_Test, y_pred))\n",
    "print(\"*******************************************************************************************\")\n",
    "\n",
    "from sklearn.metrics import classification_report,confusion_matrix\n",
    "print(\"CONFUSION MATRIX\")\n",
    "labels = ['Non-revenue', 'Revenue']\n",
    "fig = plt.figure()\n",
    "sns.heatmap(confusion_matrix(y_Test,y_pred), annot=True,cmap='Blues',fmt='g',linewidths=2, linecolor='black')\n",
    "plt.xlabel('Predicted')\n",
    "plt.ylabel('Actual')\n",
    "plt.show()\n",
    "\n",
    "print(\"*******************************************************************************************\")\n",
    "print(\"CLASSIFICATION REPORT\")\n",
    "print(classification_report(y_Test,y_pred))\n",
    "print(\"*******************************************************************************************\")\n",
    "print(\"PRECISION RECALL CURVE\")\n",
    "pre_recall_curve = plot_precision_recall_curve(classifier_lg, X_Test, y_Test)\n",
    "plt.show()\n",
    "print(\"*******************************************************************************************\")\n",
    "\n",
    "from sklearn.metrics import make_scorer, accuracy_score, precision_score, recall_score, f1_score\n",
    "from sklearn.model_selection import cross_val_score, cross_validate\n",
    "\n",
    "\n",
    "# cross validation\n",
    "scoring = {'accuracy' : make_scorer(accuracy_score), \n",
    "           'precision' : make_scorer(precision_score),\n",
    "           'recall' : make_scorer(recall_score), \n",
    "           'f1_score' : make_scorer(f1_score),\n",
    "          'AUC ROC score' : make_scorer(roc_auc_score)}\n",
    "cvs = cross_validate(estimator = classifier_lg, X = X_Train_res, y = y_Train_res, cv = 10,scoring=scoring, n_jobs=-1)\n",
    "#print(cvs)\n",
    "print(\"CROSS VALIDATION METRICS\")\n",
    "print(\"Mean Accuracy :\", np.mean(cvs['test_accuracy']))\n",
    "print(\"Standard Deviation :\", np.std(cvs['test_accuracy']))\n",
    "print(\"Mean precision score :\", np.mean(cvs['test_precision']))\n",
    "print(\"Standard Deviation precision score :\", np.std(cvs['test_precision']))\n",
    "print(\"Mean recall score :\", np.mean(cvs['test_recall']))\n",
    "print(\"Standard Deviation recall score :\", np.std(cvs['test_recall']))\n",
    "print(\"Mean f1 score :\", np.mean(cvs['test_f1_score']))\n",
    "print(\"Standard Deviation f1 score :\", np.std(cvs['test_f1_score']))\n",
    "print(\"Mean AUC ROC Score :\", np.mean(cvs['test_AUC ROC score']))\n",
    "print(\"Standard Deviation AUC ROC Score :\", np.std(cvs['test_AUC ROC score']))\n",
    "print(\"*******************************************************************************************\")"
   ]
  },
  {
   "cell_type": "markdown",
   "metadata": {},
   "source": [
    "# Naive Bayes"
   ]
  },
  {
   "cell_type": "code",
   "execution_count": 47,
   "metadata": {},
   "outputs": [
    {
     "name": "stdout",
     "output_type": "stream",
     "text": [
      "GaussianNB(priors=None, var_smoothing=1e-09)\n",
      "Training Accuracy : 0.8670924207735872\n",
      "Testing Accuracy : 0.7772370911057043\n",
      "ROC AUC Score : 0.7968215027696959\n",
      "*******************************************************************************************\n",
      "CONFUSION MATRIX\n"
     ]
    },
    {
     "data": {
      "image/png": "[encoded data removed]",
      "text/plain": [
       "<Figure size 432x288 with 2 Axes>"
      ]
     },
     "metadata": {
      "needs_background": "light"
     },
     "output_type": "display_data"
    },
    {
     "name": "stdout",
     "output_type": "stream",
     "text": [
      "*******************************************************************************************\n",
      "CLASSIFICATION REPORT\n",
      "              precision    recall  f1-score   support\n",
      "\n",
      "           0       0.96      0.77      0.85      3127\n",
      "           1       0.39      0.83      0.53       572\n",
      "\n",
      "    accuracy                           0.78      3699\n",
      "   macro avg       0.68      0.80      0.69      3699\n",
      "weighted avg       0.87      0.78      0.80      3699\n",
      "\n",
      "*******************************************************************************************\n",
      "PRECISION RECALL CURVE\n"
     ]
    },
    {
     "data": {
      "image/png": "[encoded data removed]",
      "text/plain": [
       "<Figure size 432x288 with 1 Axes>"
      ]
     },
     "metadata": {
      "needs_background": "light"
     },
     "output_type": "display_data"
    },
    {
     "name": "stdout",
     "output_type": "stream",
     "text": [
      "*******************************************************************************************\n",
      "CROSS VALIDATION METRICS\n",
      "Mean Accuracy : 0.8662490734954291\n",
      "Standard Deviation : 0.007001964201888699\n",
      "Mean precision score : 0.753404057235987\n",
      "Standard Deviation precision score : 0.019108603248307772\n",
      "Mean recall score : 0.8417601102941177\n",
      "Standard Deviation recall score : 0.014722779702665957\n",
      "Mean f1 score : 0.7948321056368766\n",
      "Standard Deviation f1 score : 0.008002570988539156\n",
      "Mean AUC ROC Score : 0.8594475449213356\n",
      "Standard Deviation AUC ROC Score : 0.0052501700584977416\n",
      "*******************************************************************************************\n"
     ]
    }
   ],
   "source": [
    "from sklearn.naive_bayes import GaussianNB\n",
    "classifier_nb = GaussianNB() \n",
    "classifier_nb.fit(X_Train_res,y_Train_res)\n",
    "print(classifier_nb)\n",
    "\n",
    "y_pred=classifier_nb.predict(X_Test)\n",
    "\n",
    "# evaluating the model\n",
    "print(\"Training Accuracy :\", classifier_nb.score(X_Train_res, y_Train_res))\n",
    "print(\"Testing Accuracy :\", classifier_nb.score(X_Test, y_Test))\n",
    "print(\"ROC AUC Score :\", roc_auc_score(y_Test, y_pred))\n",
    "print(\"*******************************************************************************************\")\n",
    "\n",
    "print(\"CONFUSION MATRIX\")\n",
    "labels = ['Non-revenue', 'Revenue']\n",
    "fig = plt.figure()\n",
    "sns.heatmap(confusion_matrix(y_Test,y_pred), annot=True,cmap='Blues',fmt='g',linewidths=2, linecolor='black')\n",
    "plt.xlabel('Predicted')\n",
    "plt.ylabel('Actual')\n",
    "plt.show()\n",
    "print(\"*******************************************************************************************\")\n",
    "print(\"CLASSIFICATION REPORT\")\n",
    "print(classification_report(y_Test,y_pred))\n",
    "print(\"*******************************************************************************************\")\n",
    "print(\"PRECISION RECALL CURVE\")\n",
    "pre_recall_curve = plot_precision_recall_curve(classifier_nb, X_Test, y_Test)\n",
    "plt.show()\n",
    "print(\"*******************************************************************************************\")\n",
    "\n",
    "# cross validation\n",
    "scoring = {'accuracy' : make_scorer(accuracy_score), \n",
    "           'precision' : make_scorer(precision_score),\n",
    "           'recall' : make_scorer(recall_score), \n",
    "           'f1_score' : make_scorer(f1_score),\n",
    "          'AUC ROC score' : make_scorer(roc_auc_score)}\n",
    "cvs = cross_validate(estimator = classifier_nb, X = X_Train_res, y = y_Train_res, cv = 10,scoring=scoring)\n",
    "#print(cvs)\n",
    "print(\"CROSS VALIDATION METRICS\")\n",
    "print(\"Mean Accuracy :\", np.mean(cvs['test_accuracy']))\n",
    "print(\"Standard Deviation :\", np.std(cvs['test_accuracy']))\n",
    "print(\"Mean precision score :\", np.mean(cvs['test_precision']))\n",
    "print(\"Standard Deviation precision score :\", np.std(cvs['test_precision']))\n",
    "print(\"Mean recall score :\", np.mean(cvs['test_recall']))\n",
    "print(\"Standard Deviation recall score :\", np.std(cvs['test_recall']))\n",
    "print(\"Mean f1 score :\", np.mean(cvs['test_f1_score']))\n",
    "print(\"Standard Deviation f1 score :\", np.std(cvs['test_f1_score']))\n",
    "print(\"Mean AUC ROC Score :\", np.mean(cvs['test_AUC ROC score']))\n",
    "print(\"Standard Deviation AUC ROC Score :\", np.std(cvs['test_AUC ROC score']))\n",
    "print(\"*******************************************************************************************\")"
   ]
  },
  {
   "cell_type": "markdown",
   "metadata": {},
   "source": [
    "# KNN"
   ]
  },
  {
   "cell_type": "code",
   "execution_count": 48,
   "metadata": {},
   "outputs": [
    {
     "name": "stdout",
     "output_type": "stream",
     "text": [
      "KNeighborsClassifier(algorithm='auto', leaf_size=30, metric='minkowski',\n",
      "                     metric_params=None, n_jobs=None, n_neighbors=5, p=2,\n",
      "                     weights='uniform')\n",
      "Training Accuracy : 0.9678274490902519\n",
      "Testing Accuracy : 0.7985942146526088\n",
      "ROC AUC Score : 0.7508867052359216\n",
      "*******************************************************************************************\n",
      "CONFUSION MATRIX\n",
      "CONFUSION MATRIX\n"
     ]
    },
    {
     "data": {
      "image/png": "[encoded data removed]",
      "text/plain": [
       "<Figure size 432x288 with 2 Axes>"
      ]
     },
     "metadata": {
      "needs_background": "light"
     },
     "output_type": "display_data"
    },
    {
     "name": "stdout",
     "output_type": "stream",
     "text": [
      "*******************************************************************************************\n",
      "CLASSIFICATION REPORT\n",
      "              precision    recall  f1-score   support\n",
      "\n",
      "           0       0.93      0.82      0.87      3127\n",
      "           1       0.41      0.68      0.51       572\n",
      "\n",
      "    accuracy                           0.80      3699\n",
      "   macro avg       0.67      0.75      0.69      3699\n",
      "weighted avg       0.85      0.80      0.82      3699\n",
      "\n",
      "*******************************************************************************************\n",
      "PRECISION RECALL CURVE\n"
     ]
    },
    {
     "data": {
      "image/png": "[encoded data removed]",
      "text/plain": [
       "<Figure size 432x288 with 1 Axes>"
      ]
     },
     "metadata": {
      "needs_background": "light"
     },
     "output_type": "display_data"
    },
    {
     "name": "stdout",
     "output_type": "stream",
     "text": [
      "*******************************************************************************************\n",
      "CROSS VALIDATION METRICS\n",
      "Mean Accuracy : 0.9324025171857514\n",
      "Standard Deviation : 0.018311920607143407\n",
      "Mean precision score : 0.9289941341805731\n",
      "Standard Deviation precision score : 0.016987392031643515\n",
      "Mean recall score : 0.8444163602941177\n",
      "Standard Deviation recall score : 0.052805490027483255\n",
      "Mean f1 score : 0.884046773045281\n",
      "Standard Deviation f1 score : 0.033908626691726305\n",
      "Mean AUC ROC Score : 0.9079380695577542\n",
      "Standard Deviation AUC ROC Score : 0.02775071127178787\n",
      "*******************************************************************************************\n"
     ]
    }
   ],
   "source": [
    "from sklearn.neighbors import KNeighborsClassifier\n",
    "classifier_knn = KNeighborsClassifier() \n",
    "classifier_knn.fit(X_Train_res,y_Train_res)\n",
    "print(classifier_knn)\n",
    "\n",
    "y_pred=classifier_knn.predict(X_Test)\n",
    "\n",
    "# evaluating the model\n",
    "print(\"Training Accuracy :\", classifier_knn.score(X_Train_res, y_Train_res))\n",
    "print(\"Testing Accuracy :\", classifier_knn.score(X_Test, y_Test))\n",
    "print(\"ROC AUC Score :\", roc_auc_score(y_Test, y_pred))\n",
    "print(\"*******************************************************************************************\")\n",
    "\n",
    "print(\"CONFUSION MATRIX\")\n",
    "labels = ['Non-revenue', 'Revenue']\n",
    "fig = plt.figure()\n",
    "sns.heatmap(confusion_matrix(y_Test,y_pred), annot=True,cmap='Blues',fmt='g',linewidths=2, linecolor='black')\n",
    "plt.xlabel('Predicted')\n",
    "plt.ylabel('Actual')\n",
    "plt.show()\n",
    "print(\"*******************************************************************************************\")\n",
    "print(\"CLASSIFICATION REPORT\")\n",
    "print(classification_report(y_Test,y_pred))\n",
    "print(\"*******************************************************************************************\")\n",
    "print(\"PRECISION RECALL CURVE\")\n",
    "pre_recall_curve = plot_precision_recall_curve(classifier_knn, X_Test, y_Test)\n",
    "plt.show()\n",
    "print(\"*******************************************************************************************\")\n",
    "\n",
    "# cross validation\n",
    "scoring = {'accuracy' : make_scorer(accuracy_score), \n",
    "           'precision' : make_scorer(precision_score),\n",
    "           'recall' : make_scorer(recall_score), \n",
    "           'f1_score' : make_scorer(f1_score),\n",
    "          'AUC ROC score' : make_scorer(roc_auc_score)}\n",
    "cvs = cross_validate(estimator = classifier_knn, X = X_Train_res, y = y_Train_res, cv = 10,scoring=scoring)\n",
    "#print(cvs)\n",
    "print(\"CROSS VALIDATION METRICS\")\n",
    "print(\"Mean Accuracy :\", np.mean(cvs['test_accuracy']))\n",
    "print(\"Standard Deviation :\", np.std(cvs['test_accuracy']))\n",
    "print(\"Mean precision score :\", np.mean(cvs['test_precision']))\n",
    "print(\"Standard Deviation precision score :\", np.std(cvs['test_precision']))\n",
    "print(\"Mean recall score :\", np.mean(cvs['test_recall']))\n",
    "print(\"Standard Deviation recall score :\", np.std(cvs['test_recall']))\n",
    "print(\"Mean f1 score :\", np.mean(cvs['test_f1_score']))\n",
    "print(\"Standard Deviation f1 score :\", np.std(cvs['test_f1_score']))\n",
    "print(\"Mean AUC ROC Score :\", np.mean(cvs['test_AUC ROC score']))\n",
    "print(\"Standard Deviation AUC ROC Score :\", np.std(cvs['test_AUC ROC score']))\n",
    "print(\"*******************************************************************************************\")"
   ]
  },
  {
   "cell_type": "markdown",
   "metadata": {},
   "source": [
    "# KNN Hyper-parameter tuning"
   ]
  },
  {
   "cell_type": "code",
   "execution_count": 49,
   "metadata": {},
   "outputs": [
    {
     "name": "stdout",
     "output_type": "stream",
     "text": [
      "GridSearchCV(cv=10, error_score=nan,\n",
      "             estimator=KNeighborsClassifier(algorithm='auto', leaf_size=30,\n",
      "                                            metric='minkowski',\n",
      "                                            metric_params=None, n_jobs=None,\n",
      "                                            n_neighbors=5, p=2,\n",
      "                                            weights='uniform'),\n",
      "             iid='deprecated', n_jobs=-1,\n",
      "             param_grid=[{'algorithm': ['auto', 'ball_tree', 'kd_tree',\n",
      "                                        'brute'],\n",
      "                          'leaf_size': [30, 35, 40],\n",
      "                          'n_neighbors': [5, 8, 10, 15],\n",
      "                          'weights': ['uniform', 'distance']}],\n",
      "             pre_dispatch='2*n_jobs', refit=True, return_train_score=False,\n",
      "             scoring=None, verbose=0)\n",
      "*******************************************************************************************\n",
      "Best Hyper Parameters: {'algorithm': 'auto', 'leaf_size': 30, 'n_neighbors': 5, 'weights': 'distance'}\n",
      "Best Accuracy Score: 0.9546954524975657\n",
      "Best Estimators: KNeighborsClassifier(algorithm='auto', leaf_size=30, metric='minkowski',\n",
      "                     metric_params=None, n_jobs=None, n_neighbors=5, p=2,\n",
      "                     weights='distance')\n",
      "*******************************************************************************************\n"
     ]
    }
   ],
   "source": [
    "base_classifier = KNeighborsClassifier()\n",
    "params = [\n",
    "    {\n",
    "     'n_neighbors':[5,8,10,15],\n",
    "        'leaf_size':[30,35,40],\n",
    "        'weights':['uniform', 'distance'],\n",
    "        'algorithm':['auto', 'ball_tree','kd_tree','brute']\n",
    "    }\n",
    "]\n",
    "\n",
    "best_classifier = GridSearchCV(base_classifier, param_grid=params, n_jobs=-1,cv=10)\n",
    "\n",
    "#Learning\n",
    "best_classifier.fit(X_Train_res,y_Train_res)\n",
    "print(best_classifier)\n",
    "#The best hyper parameters set\n",
    "print(\"*******************************************************************************************\")\n",
    "print(\"Best Hyper Parameters:\",best_classifier.best_params_)\n",
    "print(\"Best Accuracy Score:\",best_classifier.best_score_)\n",
    "print(\"Best Estimators:\",best_classifier.best_estimator_)\n",
    "print(\"*******************************************************************************************\")"
   ]
  },
  {
   "cell_type": "markdown",
   "metadata": {},
   "source": [
    "# KNN Hyper-parameter tuned model"
   ]
  },
  {
   "cell_type": "code",
   "execution_count": 50,
   "metadata": {},
   "outputs": [
    {
     "name": "stdout",
     "output_type": "stream",
     "text": [
      "KNeighborsClassifier(algorithm='auto', leaf_size=30, metric='minkowski',\n",
      "                     metric_params=None, n_jobs=None, n_neighbors=5, p=2,\n",
      "                     weights='distance')\n",
      "Training Accuracy : 1.0\n",
      "Testing Accuracy : 0.7958907812922411\n",
      "ROC AUC Score : 0.7514304132068763\n",
      "*******************************************************************************************\n",
      "CONFUSION MATRIX\n"
     ]
    },
    {
     "data": {
      "image/png": "[encoded data removed]",
      "text/plain": [
       "<Figure size 432x288 with 2 Axes>"
      ]
     },
     "metadata": {
      "needs_background": "light"
     },
     "output_type": "display_data"
    },
    {
     "name": "stdout",
     "output_type": "stream",
     "text": [
      "*******************************************************************************************\n",
      "CLASSIFICATION REPORT\n",
      "              precision    recall  f1-score   support\n",
      "\n",
      "           0       0.93      0.82      0.87      3127\n",
      "           1       0.41      0.69      0.51       572\n",
      "\n",
      "    accuracy                           0.80      3699\n",
      "   macro avg       0.67      0.75      0.69      3699\n",
      "weighted avg       0.85      0.80      0.82      3699\n",
      "\n",
      "*******************************************************************************************\n",
      "PRECISION RECALL CURVE\n"
     ]
    },
    {
     "data": {
      "image/png": "[encoded data removed]",
      "text/plain": [
       "<Figure size 432x288 with 1 Axes>"
      ]
     },
     "metadata": {
      "needs_background": "light"
     },
     "output_type": "display_data"
    },
    {
     "name": "stdout",
     "output_type": "stream",
     "text": [
      "*******************************************************************************************\n",
      "CROSS VALIDATION METRICS\n",
      "Mean Accuracy : 0.9546954524975657\n",
      "Standard Deviation : 0.01879514426965914\n",
      "Mean precision score : 0.941998270324112\n",
      "Standard Deviation precision score : 0.015414912931459484\n",
      "Mean recall score : 0.9082720588235293\n",
      "Standard Deviation recall score : 0.054185527042518514\n",
      "Mean f1 score : 0.9242071702468729\n",
      "Standard Deviation f1 score : 0.03311584442999479\n",
      "Mean AUC ROC Score : 0.9417803257305042\n",
      "Standard Deviation AUC ROC Score : 0.028490269534295568\n",
      "*******************************************************************************************\n"
     ]
    }
   ],
   "source": [
    "classifier_knn = KNeighborsClassifier(algorithm='auto',leaf_size=30,n_neighbors=5,weights='distance') \n",
    "classifier_knn.fit(X_Train_res,y_Train_res)\n",
    "print(classifier_knn)\n",
    "\n",
    "y_pred=classifier_knn.predict(X_Test)\n",
    "\n",
    "# evaluating the model\n",
    "print(\"Training Accuracy :\", classifier_knn.score(X_Train_res, y_Train_res))\n",
    "print(\"Testing Accuracy :\", classifier_knn.score(X_Test, y_Test))\n",
    "print(\"ROC AUC Score :\", roc_auc_score(y_Test, y_pred))\n",
    "print(\"*******************************************************************************************\")\n",
    "\n",
    "print(\"CONFUSION MATRIX\")\n",
    "labels = ['Non-revenue', 'Revenue']\n",
    "fig = plt.figure()\n",
    "sns.heatmap(confusion_matrix(y_Test,y_pred), annot=True,cmap='Blues',fmt='g',linewidths=2, linecolor='black')\n",
    "plt.xlabel('Predicted')\n",
    "plt.ylabel('Actual')\n",
    "plt.show()\n",
    "print(\"*******************************************************************************************\")\n",
    "print(\"CLASSIFICATION REPORT\")\n",
    "print(classification_report(y_Test,y_pred))\n",
    "print(\"*******************************************************************************************\")\n",
    "print(\"PRECISION RECALL CURVE\")\n",
    "pre_recall_curve = plot_precision_recall_curve(classifier_knn, X_Test, y_Test)\n",
    "plt.show()\n",
    "print(\"*******************************************************************************************\")\n",
    "\n",
    "\n",
    "# cross validation\n",
    "scoring = {'accuracy' : make_scorer(accuracy_score), \n",
    "           'precision' : make_scorer(precision_score),\n",
    "           'recall' : make_scorer(recall_score), \n",
    "           'f1_score' : make_scorer(f1_score),\n",
    "          'AUC ROC score' : make_scorer(roc_auc_score)}\n",
    "cvs = cross_validate(estimator = classifier_knn, X = X_Train_res, y = y_Train_res, cv = 10,scoring=scoring)\n",
    "#print(cvs)\n",
    "print(\"CROSS VALIDATION METRICS\")\n",
    "print(\"Mean Accuracy :\", np.mean(cvs['test_accuracy']))\n",
    "print(\"Standard Deviation :\", np.std(cvs['test_accuracy']))\n",
    "print(\"Mean precision score :\", np.mean(cvs['test_precision']))\n",
    "print(\"Standard Deviation precision score :\", np.std(cvs['test_precision']))\n",
    "print(\"Mean recall score :\", np.mean(cvs['test_recall']))\n",
    "print(\"Standard Deviation recall score :\", np.std(cvs['test_recall']))\n",
    "print(\"Mean f1 score :\", np.mean(cvs['test_f1_score']))\n",
    "print(\"Standard Deviation f1 score :\", np.std(cvs['test_f1_score']))\n",
    "print(\"Mean AUC ROC Score :\", np.mean(cvs['test_AUC ROC score']))\n",
    "print(\"Standard Deviation AUC ROC Score :\", np.std(cvs['test_AUC ROC score']))\n",
    "print(\"*******************************************************************************************\")"
   ]
  },
  {
   "cell_type": "markdown",
   "metadata": {},
   "source": [
    "# Support Vector Machine"
   ]
  },
  {
   "cell_type": "code",
   "execution_count": 51,
   "metadata": {},
   "outputs": [
    {
     "name": "stdout",
     "output_type": "stream",
     "text": [
      "SVC(C=1.0, break_ties=False, cache_size=200, class_weight=None, coef0=0.0,\n",
      "    decision_function_shape='ovr', degree=3, gamma='scale', kernel='rbf',\n",
      "    max_iter=-1, probability=False, random_state=None, shrinking=True,\n",
      "    tol=0.001, verbose=False)\n",
      "Training Accuracy : 0.9252922038799856\n",
      "Testing Accuracy : 0.8705055420383887\n",
      "ROC AUC Score : 0.810560961264511\n",
      "*******************************************************************************************\n",
      "CONFUSION MATRIX\n"
     ]
    },
    {
     "data": {
      "image/png": "[encoded data removed]",
      "text/plain": [
       "<Figure size 432x288 with 2 Axes>"
      ]
     },
     "metadata": {
      "needs_background": "light"
     },
     "output_type": "display_data"
    },
    {
     "name": "stdout",
     "output_type": "stream",
     "text": [
      "*******************************************************************************************\n",
      "CLASSIFICATION REPORT\n",
      "              precision    recall  f1-score   support\n",
      "\n",
      "           0       0.95      0.90      0.92      3127\n",
      "           1       0.56      0.72      0.63       572\n",
      "\n",
      "    accuracy                           0.87      3699\n",
      "   macro avg       0.75      0.81      0.78      3699\n",
      "weighted avg       0.89      0.87      0.88      3699\n",
      "\n",
      "*******************************************************************************************\n",
      "PRECISION RECALL CURVE\n"
     ]
    },
    {
     "data": {
      "image/png": "[encoded data removed]",
      "text/plain": [
       "<Figure size 432x288 with 1 Axes>"
      ]
     },
     "metadata": {
      "needs_background": "light"
     },
     "output_type": "display_data"
    },
    {
     "name": "stdout",
     "output_type": "stream",
     "text": [
      "*******************************************************************************************\n",
      "CROSS VALIDATION METRICS\n",
      "Mean Accuracy : 0.9183038062987776\n",
      "Standard Deviation : 0.008322558523002807\n",
      "Mean precision score : 0.926812874441844\n",
      "Standard Deviation precision score : 0.01682978470099188\n",
      "Mean recall score : 0.797469362745098\n",
      "Standard Deviation recall score : 0.016339695381785\n",
      "Mean f1 score : 0.857223609617531\n",
      "Standard Deviation f1 score : 0.014830197169602162\n",
      "Mean AUC ROC Score : 0.8847255918406598\n",
      "Standard Deviation AUC ROC Score : 0.010295184457034052\n",
      "*******************************************************************************************\n"
     ]
    }
   ],
   "source": [
    "from sklearn.svm import SVC\n",
    "classifier_svc = SVC() \n",
    "classifier_svc.fit(X_Train_res,y_Train_res)\n",
    "print(classifier_svc)\n",
    "\n",
    "y_pred=classifier_svc.predict(X_Test)\n",
    "\n",
    "# evaluating the model\n",
    "print(\"Training Accuracy :\", classifier_svc.score(X_Train_res, y_Train_res))\n",
    "print(\"Testing Accuracy :\", classifier_svc.score(X_Test, y_Test))\n",
    "print(\"ROC AUC Score :\", roc_auc_score(y_Test, y_pred))\n",
    "print(\"*******************************************************************************************\")\n",
    "\n",
    "print(\"CONFUSION MATRIX\")\n",
    "labels = ['Non-revenue', 'Revenue']\n",
    "fig = plt.figure()\n",
    "sns.heatmap(confusion_matrix(y_Test,y_pred), annot=True,cmap='Blues',fmt='g',linewidths=2, linecolor='black')\n",
    "plt.xlabel('Predicted')\n",
    "plt.ylabel('Actual')\n",
    "plt.show()\n",
    "print(\"*******************************************************************************************\")\n",
    "print(\"CLASSIFICATION REPORT\")\n",
    "print(classification_report(y_Test,y_pred))\n",
    "print(\"*******************************************************************************************\")\n",
    "print(\"PRECISION RECALL CURVE\")\n",
    "pre_recall_curve = plot_precision_recall_curve(classifier_svc, X_Test, y_Test)\n",
    "plt.show()\n",
    "print(\"*******************************************************************************************\")\n",
    "\n",
    "# cross validation\n",
    "scoring = {'accuracy' : make_scorer(accuracy_score), \n",
    "           'precision' : make_scorer(precision_score),\n",
    "           'recall' : make_scorer(recall_score), \n",
    "           'f1_score' : make_scorer(f1_score),\n",
    "          'AUC ROC score' : make_scorer(roc_auc_score)}\n",
    "cvs = cross_validate(estimator = classifier_svc, X = X_Train_res, y = y_Train_res, cv = 10,scoring=scoring)\n",
    "#print(cvs)\n",
    "print(\"CROSS VALIDATION METRICS\")\n",
    "print(\"Mean Accuracy :\", np.mean(cvs['test_accuracy']))\n",
    "print(\"Standard Deviation :\", np.std(cvs['test_accuracy']))\n",
    "print(\"Mean precision score :\", np.mean(cvs['test_precision']))\n",
    "print(\"Standard Deviation precision score :\", np.std(cvs['test_precision']))\n",
    "print(\"Mean recall score :\", np.mean(cvs['test_recall']))\n",
    "print(\"Standard Deviation recall score :\", np.std(cvs['test_recall']))\n",
    "print(\"Mean f1 score :\", np.mean(cvs['test_f1_score']))\n",
    "print(\"Standard Deviation f1 score :\", np.std(cvs['test_f1_score']))\n",
    "print(\"Mean AUC ROC Score :\", np.mean(cvs['test_AUC ROC score']))\n",
    "print(\"Standard Deviation AUC ROC Score :\", np.std(cvs['test_AUC ROC score']))\n",
    "print(\"*******************************************************************************************\")"
   ]
  },
  {
   "cell_type": "markdown",
   "metadata": {},
   "source": [
    "# Support Vector Machine hyper-parameter tuning"
   ]
  },
  {
   "cell_type": "code",
   "execution_count": 52,
   "metadata": {},
   "outputs": [
    {
     "name": "stdout",
     "output_type": "stream",
     "text": [
      "GridSearchCV(cv=10, error_score=nan,\n",
      "             estimator=SVC(C=1.0, break_ties=False, cache_size=200,\n",
      "                           class_weight=None, coef0=0.0,\n",
      "                           decision_function_shape='ovr', degree=3,\n",
      "                           gamma='scale', kernel='rbf', max_iter=-1,\n",
      "                           probability=False, random_state=None, shrinking=True,\n",
      "                           tol=0.001, verbose=False),\n",
      "             iid='deprecated', n_jobs=-1,\n",
      "             param_grid=[{'C': [0.1, 1, 5, 7, 8, 9, 10, 100, 1000],\n",
      "                          'gamma': [1, 0.1, 0.01, 0.002, 0.0005, 0.001, 0.0001],\n",
      "                          'kernel': ['rbf']}],\n",
      "             pre_dispatch='2*n_jobs', refit=True, return_train_score=False,\n",
      "             scoring=None, verbose=0)\n",
      "*******************************************************************************************\n",
      "Best Hyper Parameters: {'C': 100, 'gamma': 1, 'kernel': 'rbf'}\n",
      "Best Accuracy Score: 0.9614444751260771\n",
      "Best Estimators: SVC(C=100, break_ties=False, cache_size=200, class_weight=None, coef0=0.0,\n",
      "    decision_function_shape='ovr', degree=3, gamma=1, kernel='rbf', max_iter=-1,\n",
      "    probability=False, random_state=None, shrinking=True, tol=0.001,\n",
      "    verbose=False)\n",
      "*******************************************************************************************\n"
     ]
    }
   ],
   "source": [
    "base_classifier = SVC()\n",
    "params = [\n",
    "    {\n",
    "     'C': [0.1,1,5,7,8,9,10, 100, 1000],\n",
    "        'gamma': [1,0.1,0.01,0.002,0.0005,0.001,0.0001],\n",
    "        'kernel': ['rbf']\n",
    "    }\n",
    "]\n",
    "\n",
    "best_classifier = GridSearchCV(base_classifier, param_grid=params, n_jobs=-1,cv=10)\n",
    "\n",
    "#Learning\n",
    "best_classifier.fit(X_Train_res,y_Train_res)\n",
    "print(best_classifier)\n",
    "#The best hyper parameters set\n",
    "print(\"*******************************************************************************************\")\n",
    "print(\"Best Hyper Parameters:\",best_classifier.best_params_)\n",
    "print(\"Best Accuracy Score:\",best_classifier.best_score_)\n",
    "print(\"Best Estimators:\",best_classifier.best_estimator_)\n",
    "print(\"*******************************************************************************************\")"
   ]
  },
  {
   "cell_type": "markdown",
   "metadata": {},
   "source": [
    "# Support Vector Machine hyper-parameter tuned model"
   ]
  },
  {
   "cell_type": "code",
   "execution_count": 53,
   "metadata": {},
   "outputs": [
    {
     "name": "stdout",
     "output_type": "stream",
     "text": [
      "SVC(C=100, break_ties=False, cache_size=200, class_weight=None, coef0=0.0,\n",
      "    decision_function_shape='ovr', degree=3, gamma=1, kernel='rbf', max_iter=-1,\n",
      "    probability=False, random_state=None, shrinking=True, tol=0.001,\n",
      "    verbose=False)\n",
      "Training Accuracy : 0.9997590071092902\n",
      "Testing Accuracy : 0.8340091916734252\n",
      "ROC AUC Score : 0.7204088683941576\n",
      "*******************************************************************************************\n",
      "CONFUSION MATRIX\n"
     ]
    },
    {
     "data": {
      "image/png": "[encoded data removed]",
      "text/plain": [
       "<Figure size 432x288 with 2 Axes>"
      ]
     },
     "metadata": {
      "needs_background": "light"
     },
     "output_type": "display_data"
    },
    {
     "name": "stdout",
     "output_type": "stream",
     "text": [
      "*******************************************************************************************\n",
      "CLASSIFICATION REPORT\n",
      "              precision    recall  f1-score   support\n",
      "\n",
      "           0       0.92      0.88      0.90      3127\n",
      "           1       0.47      0.56      0.51       572\n",
      "\n",
      "    accuracy                           0.83      3699\n",
      "   macro avg       0.69      0.72      0.70      3699\n",
      "weighted avg       0.85      0.83      0.84      3699\n",
      "\n",
      "*******************************************************************************************\n",
      "PRECISION RECALL CURVE\n"
     ]
    },
    {
     "data": {
      "image/png": "[encoded data removed]",
      "text/plain": [
       "<Figure size 432x288 with 1 Axes>"
      ]
     },
     "metadata": {
      "needs_background": "light"
     },
     "output_type": "display_data"
    },
    {
     "name": "stdout",
     "output_type": "stream",
     "text": [
      "*******************************************************************************************\n",
      "CROSS VALIDATION METRICS\n",
      "Mean Accuracy : 0.9614444751260771\n",
      "Standard Deviation : 0.026630323853240517\n",
      "Mean precision score : 0.969569232897376\n",
      "Standard Deviation precision score : 0.010405055131328014\n",
      "Mean recall score : 0.9023606004901961\n",
      "Standard Deviation recall score : 0.08250006702750098\n",
      "Mean f1 score : 0.9330827128340051\n",
      "Standard Deviation f1 score : 0.04772788647522323\n",
      "Mean AUC ROC Score : 0.9450024484044679\n",
      "Standard Deviation AUC ROC Score : 0.042142002721755396\n",
      "*******************************************************************************************\n"
     ]
    }
   ],
   "source": [
    "from sklearn.svm import SVC\n",
    "classifier_svc = SVC(C=100,gamma=1,kernel='rbf') \n",
    "classifier_svc.fit(X_Train_res,y_Train_res)\n",
    "print(classifier_svc)\n",
    "\n",
    "y_pred=classifier_svc.predict(X_Test)\n",
    "\n",
    "# evaluating the model\n",
    "print(\"Training Accuracy :\", classifier_svc.score(X_Train_res, y_Train_res))\n",
    "print(\"Testing Accuracy :\", classifier_svc.score(X_Test, y_Test))\n",
    "print(\"ROC AUC Score :\", roc_auc_score(y_Test, y_pred))\n",
    "print(\"*******************************************************************************************\")\n",
    "\n",
    "print(\"CONFUSION MATRIX\")\n",
    "labels = ['Non-revenue', 'Revenue']\n",
    "fig = plt.figure()\n",
    "sns.heatmap(confusion_matrix(y_Test,y_pred), annot=True,cmap='Blues',fmt='g',linewidths=2, linecolor='black')\n",
    "plt.xlabel('Predicted')\n",
    "plt.ylabel('Actual')\n",
    "plt.show()\n",
    "print(\"*******************************************************************************************\")\n",
    "print(\"CLASSIFICATION REPORT\")\n",
    "print(classification_report(y_Test,y_pred))\n",
    "print(\"*******************************************************************************************\")\n",
    "print(\"PRECISION RECALL CURVE\")\n",
    "pre_recall_curve = plot_precision_recall_curve(classifier_svc, X_Test, y_Test)\n",
    "plt.show()\n",
    "print(\"*******************************************************************************************\")\n",
    "\n",
    "# cross validation\n",
    "scoring = {'accuracy' : make_scorer(accuracy_score), \n",
    "           'precision' : make_scorer(precision_score),\n",
    "           'recall' : make_scorer(recall_score), \n",
    "           'f1_score' : make_scorer(f1_score),\n",
    "          'AUC ROC score' : make_scorer(roc_auc_score)}\n",
    "cvs = cross_validate(estimator = classifier_svc, X = X_Train_res, y = y_Train_res, cv = 10,scoring=scoring)\n",
    "#print(cvs)\n",
    "print(\"CROSS VALIDATION METRICS\")\n",
    "print(\"Mean Accuracy :\", np.mean(cvs['test_accuracy']))\n",
    "print(\"Standard Deviation :\", np.std(cvs['test_accuracy']))\n",
    "print(\"Mean precision score :\", np.mean(cvs['test_precision']))\n",
    "print(\"Standard Deviation precision score :\", np.std(cvs['test_precision']))\n",
    "print(\"Mean recall score :\", np.mean(cvs['test_recall']))\n",
    "print(\"Standard Deviation recall score :\", np.std(cvs['test_recall']))\n",
    "print(\"Mean f1 score :\", np.mean(cvs['test_f1_score']))\n",
    "print(\"Standard Deviation f1 score :\", np.std(cvs['test_f1_score']))\n",
    "print(\"Mean AUC ROC Score :\", np.mean(cvs['test_AUC ROC score']))\n",
    "print(\"Standard Deviation AUC ROC Score :\", np.std(cvs['test_AUC ROC score']))\n",
    "print(\"*******************************************************************************************\")"
   ]
  },
  {
   "cell_type": "markdown",
   "metadata": {},
   "source": [
    "# AdaBoost"
   ]
  },
  {
   "cell_type": "code",
   "execution_count": 54,
   "metadata": {},
   "outputs": [
    {
     "name": "stdout",
     "output_type": "stream",
     "text": [
      "AdaBoostClassifier(algorithm='SAMME.R', base_estimator=None, learning_rate=1.0,\n",
      "                   n_estimators=50, random_state=None)\n",
      "Training Accuracy : 0.9237257500903724\n",
      "Testing Accuracy : 0.8799675587996756\n",
      "ROC AUC Score : 0.8211569770172265\n",
      "*******************************************************************************************\n",
      "CONFUSION MATRIX\n"
     ]
    },
    {
     "data": {
      "image/png": "[encoded data removed]",
      "text/plain": [
       "<Figure size 432x288 with 2 Axes>"
      ]
     },
     "metadata": {
      "needs_background": "light"
     },
     "output_type": "display_data"
    },
    {
     "name": "stdout",
     "output_type": "stream",
     "text": [
      "*******************************************************************************************\n",
      "CLASSIFICATION REPORT\n",
      "              precision    recall  f1-score   support\n",
      "\n",
      "           0       0.95      0.91      0.93      3127\n",
      "           1       0.59      0.74      0.65       572\n",
      "\n",
      "    accuracy                           0.88      3699\n",
      "   macro avg       0.77      0.82      0.79      3699\n",
      "weighted avg       0.89      0.88      0.89      3699\n",
      "\n",
      "*******************************************************************************************\n",
      "PRECISION RECALL CURVE\n"
     ]
    },
    {
     "data": {
      "image/png": "[encoded data removed]",
      "text/plain": [
       "<Figure size 432x288 with 1 Axes>"
      ]
     },
     "metadata": {
      "needs_background": "light"
     },
     "output_type": "display_data"
    },
    {
     "name": "stdout",
     "output_type": "stream",
     "text": [
      "*******************************************************************************************\n",
      "CROSS VALIDATION METRICS\n",
      "Mean Accuracy : 0.9204742250061766\n",
      "Standard Deviation : 0.02239260083945641\n",
      "Mean precision score : 0.9157008241975593\n",
      "Standard Deviation precision score : 0.0229410371889912\n",
      "Mean recall score : 0.8158241421568627\n",
      "Standard Deviation recall score : 0.06132877537339696\n",
      "Mean f1 score : 0.8621150638405901\n",
      "Standard Deviation f1 score : 0.04230630514089487\n",
      "Mean AUC ROC Score : 0.8913803334629187\n",
      "Standard Deviation AUC ROC Score : 0.033076406450873355\n",
      "*******************************************************************************************\n"
     ]
    }
   ],
   "source": [
    "from sklearn. ensemble import RandomForestClassifier, BaggingClassifier, AdaBoostClassifier, VotingClassifier\n",
    "from sklearn.tree import DecisionTreeClassifier\n",
    "\n",
    "classifier_adb = AdaBoostClassifier() \n",
    "classifier_adb.fit(X_Train_res,y_Train_res)\n",
    "print(classifier_adb)\n",
    "\n",
    "y_pred=classifier_adb.predict(X_Test)\n",
    "\n",
    "# evaluating the model\n",
    "print(\"Training Accuracy :\", classifier_adb.score(X_Train_res, y_Train_res))\n",
    "print(\"Testing Accuracy :\", classifier_adb.score(X_Test, y_Test))\n",
    "print(\"ROC AUC Score :\", roc_auc_score(y_Test, y_pred))\n",
    "print(\"*******************************************************************************************\")\n",
    "\n",
    "print(\"CONFUSION MATRIX\")\n",
    "labels = ['Non-revenue', 'Revenue']\n",
    "fig = plt.figure()\n",
    "sns.heatmap(confusion_matrix(y_Test,y_pred), annot=True,cmap='Blues',fmt='g',linewidths=2, linecolor='black')\n",
    "plt.xlabel('Predicted')\n",
    "plt.ylabel('Actual')\n",
    "plt.show()\n",
    "print(\"*******************************************************************************************\")\n",
    "print(\"CLASSIFICATION REPORT\")\n",
    "print(classification_report(y_Test,y_pred))\n",
    "print(\"*******************************************************************************************\")\n",
    "print(\"PRECISION RECALL CURVE\")\n",
    "pre_recall_curve = plot_precision_recall_curve(classifier_adb, X_Test, y_Test)\n",
    "plt.show()\n",
    "print(\"*******************************************************************************************\")\n",
    "\n",
    "# cross validation\n",
    "scoring = {'accuracy' : make_scorer(accuracy_score), \n",
    "           'precision' : make_scorer(precision_score),\n",
    "           'recall' : make_scorer(recall_score), \n",
    "           'f1_score' : make_scorer(f1_score),\n",
    "          'AUC ROC score' : make_scorer(roc_auc_score)}\n",
    "cvs = cross_validate(estimator = classifier_adb, X = X_Train_res, y = y_Train_res, cv = 10,scoring=scoring)\n",
    "#print(cvs)\n",
    "print(\"CROSS VALIDATION METRICS\")\n",
    "print(\"Mean Accuracy :\", np.mean(cvs['test_accuracy']))\n",
    "print(\"Standard Deviation :\", np.std(cvs['test_accuracy']))\n",
    "print(\"Mean precision score :\", np.mean(cvs['test_precision']))\n",
    "print(\"Standard Deviation precision score :\", np.std(cvs['test_precision']))\n",
    "print(\"Mean recall score :\", np.mean(cvs['test_recall']))\n",
    "print(\"Standard Deviation recall score :\", np.std(cvs['test_recall']))\n",
    "print(\"Mean f1 score :\", np.mean(cvs['test_f1_score']))\n",
    "print(\"Standard Deviation f1 score :\", np.std(cvs['test_f1_score']))\n",
    "print(\"Mean AUC ROC Score :\", np.mean(cvs['test_AUC ROC score']))\n",
    "print(\"Standard Deviation AUC ROC Score :\", np.std(cvs['test_AUC ROC score']))\n",
    "print(\"*******************************************************************************************\")"
   ]
  },
  {
   "cell_type": "markdown",
   "metadata": {},
   "source": [
    "# AdaBoost Hyper-parameter tuning"
   ]
  },
  {
   "cell_type": "code",
   "execution_count": 55,
   "metadata": {},
   "outputs": [
    {
     "name": "stdout",
     "output_type": "stream",
     "text": [
      "GridSearchCV(cv=10, error_score=nan,\n",
      "             estimator=AdaBoostClassifier(algorithm='SAMME.R',\n",
      "                                          base_estimator=None,\n",
      "                                          learning_rate=1.0, n_estimators=50,\n",
      "                                          random_state=None),\n",
      "             iid='deprecated', n_jobs=-1,\n",
      "             param_grid=[{'base_estimator': [DecisionTreeClassifier(ccp_alpha=0.0,\n",
      "                                                                    class_weight=None,\n",
      "                                                                    criterion='gini',\n",
      "                                                                    max_depth=1,\n",
      "                                                                    max_features=None,\n",
      "                                                                    max_leaf_nodes=None,\n",
      "                                                                    min_impurity_decrease=0.0,\n",
      "                                                                    min_impurity_split=None,\n",
      "                                                                    min_samples_leaf=1,\n",
      "                                                                    min_samples_split=2,\n",
      "                                                                    min_weight_fraction_leaf=0.0,\n",
      "                                                                    presort='deprecated',\n",
      "                                                                    random_state=None,\n",
      "                                                                    splitter='best')],\n",
      "                          'learning_rate': [1, 0.1, 0.01, 0.001],\n",
      "                          'n_estimators': [50, 100, 200, 500]}],\n",
      "             pre_dispatch='2*n_jobs', refit=True, return_train_score=False,\n",
      "             scoring=None, verbose=0)\n",
      "*******************************************************************************************\n",
      "Best Hyper Parameters: {'base_estimator': DecisionTreeClassifier(ccp_alpha=0.0, class_weight=None, criterion='gini',\n",
      "                       max_depth=1, max_features=None, max_leaf_nodes=None,\n",
      "                       min_impurity_decrease=0.0, min_impurity_split=None,\n",
      "                       min_samples_leaf=1, min_samples_split=2,\n",
      "                       min_weight_fraction_leaf=0.0, presort='deprecated',\n",
      "                       random_state=None, splitter='best'), 'learning_rate': 1, 'n_estimators': 500}\n",
      "Best Accuracy Score: 0.927945993866903\n",
      "Best Estimators: AdaBoostClassifier(algorithm='SAMME.R',\n",
      "                   base_estimator=DecisionTreeClassifier(ccp_alpha=0.0,\n",
      "                                                         class_weight=None,\n",
      "                                                         criterion='gini',\n",
      "                                                         max_depth=1,\n",
      "                                                         max_features=None,\n",
      "                                                         max_leaf_nodes=None,\n",
      "                                                         min_impurity_decrease=0.0,\n",
      "                                                         min_impurity_split=None,\n",
      "                                                         min_samples_leaf=1,\n",
      "                                                         min_samples_split=2,\n",
      "                                                         min_weight_fraction_leaf=0.0,\n",
      "                                                         presort='deprecated',\n",
      "                                                         random_state=None,\n",
      "                                                         splitter='best'),\n",
      "                   learning_rate=1, n_estimators=500, random_state=None)\n",
      "*******************************************************************************************\n"
     ]
    }
   ],
   "source": [
    "base_classifier = AdaBoostClassifier()\n",
    "params = [\n",
    "    {\n",
    "     'n_estimators': [50,100,200,500],\n",
    "          'learning_rate': [1,0.1,0.01,0.001],\n",
    "          'base_estimator':[DecisionTreeClassifier(max_depth=1)]\n",
    "    }\n",
    "]\n",
    "\n",
    "best_classifier = GridSearchCV(base_classifier, param_grid=params, n_jobs=-1,cv=10)\n",
    "\n",
    "#Learning\n",
    "best_classifier.fit(X_Train_res,y_Train_res)\n",
    "print(best_classifier)\n",
    "#The best hyper parameters set\n",
    "print(\"*******************************************************************************************\")\n",
    "print(\"Best Hyper Parameters:\",best_classifier.best_params_)\n",
    "print(\"Best Accuracy Score:\",best_classifier.best_score_)\n",
    "print(\"Best Estimators:\",best_classifier.best_estimator_)\n",
    "print(\"*******************************************************************************************\")"
   ]
  },
  {
   "cell_type": "markdown",
   "metadata": {},
   "source": [
    "# AdaBoost Hyper-parameter tuned model"
   ]
  },
  {
   "cell_type": "code",
   "execution_count": 56,
   "metadata": {},
   "outputs": [
    {
     "name": "stdout",
     "output_type": "stream",
     "text": [
      "AdaBoostClassifier(algorithm='SAMME.R',\n",
      "                   base_estimator=DecisionTreeClassifier(ccp_alpha=0.0,\n",
      "                                                         class_weight=None,\n",
      "                                                         criterion='gini',\n",
      "                                                         max_depth=1,\n",
      "                                                         max_features=None,\n",
      "                                                         max_leaf_nodes=None,\n",
      "                                                         min_impurity_decrease=0.0,\n",
      "                                                         min_impurity_split=None,\n",
      "                                                         min_samples_leaf=1,\n",
      "                                                         min_samples_split=2,\n",
      "                                                         min_weight_fraction_leaf=0.0,\n",
      "                                                         presort='deprecated',\n",
      "                                                         random_state=None,\n",
      "                                                         splitter='best'),\n",
      "                   learning_rate=1, n_estimators=500, random_state=None)\n",
      "Training Accuracy : 0.9383058199783106\n",
      "Testing Accuracy : 0.8799675587996756\n",
      "ROC AUC Score : 0.8218712052258583\n",
      "*******************************************************************************************\n",
      "CONFUSION MATRIX\n"
     ]
    },
    {
     "data": {
      "image/png": "[encoded data removed]",
      "text/plain": [
       "<Figure size 432x288 with 2 Axes>"
      ]
     },
     "metadata": {
      "needs_background": "light"
     },
     "output_type": "display_data"
    },
    {
     "name": "stdout",
     "output_type": "stream",
     "text": [
      "*******************************************************************************************\n",
      "CLASSIFICATION REPORT\n",
      "              precision    recall  f1-score   support\n",
      "\n",
      "           0       0.95      0.91      0.93      3127\n",
      "           1       0.59      0.74      0.66       572\n",
      "\n",
      "    accuracy                           0.88      3699\n",
      "   macro avg       0.77      0.82      0.79      3699\n",
      "weighted avg       0.89      0.88      0.89      3699\n",
      "\n",
      "*******************************************************************************************\n",
      "PRECISION RECALL CURVE\n"
     ]
    },
    {
     "data": {
      "image/png": "[encoded data removed]",
      "text/plain": [
       "<Figure size 432x288 with 1 Axes>"
      ]
     },
     "metadata": {
      "needs_background": "light"
     },
     "output_type": "display_data"
    },
    {
     "name": "stdout",
     "output_type": "stream",
     "text": [
      "*******************************************************************************************\n",
      "CROSS VALIDATION METRICS\n",
      "Mean Accuracy : 0.927945993866903\n",
      "Standard Deviation : 0.03176176780285735\n",
      "Mean precision score : 0.9175665279200377\n",
      "Standard Deviation precision score : 0.02572816489800013\n",
      "Mean recall score : 0.8400658700980392\n",
      "Standard Deviation recall score : 0.09447943353021197\n",
      "Mean f1 score : 0.8749883723365575\n",
      "Standard Deviation f1 score : 0.05946759187310221\n",
      "Mean AUC ROC Score : 0.9035013489257049\n",
      "Standard Deviation AUC ROC Score : 0.04899254828451297\n",
      "*******************************************************************************************\n"
     ]
    }
   ],
   "source": [
    "classifier_adb = AdaBoostClassifier(base_estimator=DecisionTreeClassifier(ccp_alpha=0.0, class_weight=None, criterion='gini',\n",
    "                       max_depth=1, max_features=None, max_leaf_nodes=None,\n",
    "                       min_impurity_decrease=0.0, min_impurity_split=None,\n",
    "                       min_samples_leaf=1, min_samples_split=2,\n",
    "                       min_weight_fraction_leaf=0.0, presort='deprecated',\n",
    "                       random_state=None, splitter='best'),learning_rate=1, n_estimators=500) \n",
    "classifier_adb.fit(X_Train_res,y_Train_res)\n",
    "print(classifier_adb)\n",
    "\n",
    "y_pred=classifier_adb.predict(X_Test)\n",
    "\n",
    "# evaluating the model\n",
    "print(\"Training Accuracy :\", classifier_adb.score(X_Train_res, y_Train_res))\n",
    "print(\"Testing Accuracy :\", classifier_adb.score(X_Test, y_Test))\n",
    "print(\"ROC AUC Score :\", roc_auc_score(y_Test, y_pred))\n",
    "print(\"*******************************************************************************************\")\n",
    "\n",
    "print(\"CONFUSION MATRIX\")\n",
    "labels = ['Non-revenue', 'Revenue']\n",
    "fig = plt.figure()\n",
    "sns.heatmap(confusion_matrix(y_Test,y_pred), annot=True,cmap='Blues',fmt='g',linewidths=2, linecolor='black')\n",
    "plt.xlabel('Predicted')\n",
    "plt.ylabel('Actual')\n",
    "plt.show()\n",
    "print(\"*******************************************************************************************\")\n",
    "print(\"CLASSIFICATION REPORT\")\n",
    "print(classification_report(y_Test,y_pred))\n",
    "print(\"*******************************************************************************************\")\n",
    "print(\"PRECISION RECALL CURVE\")\n",
    "pre_recall_curve = plot_precision_recall_curve(classifier_adb, X_Test, y_Test)\n",
    "plt.show()\n",
    "print(\"*******************************************************************************************\")\n",
    "\n",
    "\n",
    "\n",
    "# cross validation\n",
    "scoring = {'accuracy' : make_scorer(accuracy_score), \n",
    "           'precision' : make_scorer(precision_score),\n",
    "           'recall' : make_scorer(recall_score), \n",
    "           'f1_score' : make_scorer(f1_score),\n",
    "          'AUC ROC score' : make_scorer(roc_auc_score)}\n",
    "cvs = cross_validate(estimator = classifier_adb, X = X_Train_res, y = y_Train_res, cv = 10,scoring=scoring)\n",
    "#print(cvs)\n",
    "print(\"CROSS VALIDATION METRICS\")\n",
    "print(\"Mean Accuracy :\", np.mean(cvs['test_accuracy']))\n",
    "print(\"Standard Deviation :\", np.std(cvs['test_accuracy']))\n",
    "print(\"Mean precision score :\", np.mean(cvs['test_precision']))\n",
    "print(\"Standard Deviation precision score :\", np.std(cvs['test_precision']))\n",
    "print(\"Mean recall score :\", np.mean(cvs['test_recall']))\n",
    "print(\"Standard Deviation recall score :\", np.std(cvs['test_recall']))\n",
    "print(\"Mean f1 score :\", np.mean(cvs['test_f1_score']))\n",
    "print(\"Standard Deviation f1 score :\", np.std(cvs['test_f1_score']))\n",
    "print(\"Mean AUC ROC Score :\", np.mean(cvs['test_AUC ROC score']))\n",
    "print(\"Standard Deviation AUC ROC Score :\", np.std(cvs['test_AUC ROC score']))\n",
    "print(\"*******************************************************************************************\")"
   ]
  },
  {
   "cell_type": "markdown",
   "metadata": {},
   "source": [
    "# Gradient Boosting"
   ]
  },
  {
   "cell_type": "code",
   "execution_count": 57,
   "metadata": {},
   "outputs": [
    {
     "name": "stdout",
     "output_type": "stream",
     "text": [
      "GradientBoostingClassifier(ccp_alpha=0.0, criterion='friedman_mse', init=None,\n",
      "                           learning_rate=0.1, loss='deviance', max_depth=3,\n",
      "                           max_features=None, max_leaf_nodes=None,\n",
      "                           min_impurity_decrease=0.0, min_impurity_split=None,\n",
      "                           min_samples_leaf=1, min_samples_split=2,\n",
      "                           min_weight_fraction_leaf=0.0, n_estimators=100,\n",
      "                           n_iter_no_change=None, presort='deprecated',\n",
      "                           random_state=None, subsample=1.0, tol=0.0001,\n",
      "                           validation_fraction=0.1, verbose=0,\n",
      "                           warm_start=False)\n",
      "Training Accuracy : 0.9449331244728281\n",
      "Testing Accuracy : 0.8761827520951608\n",
      "ROC AUC Score : 0.8324887456643133\n",
      "*******************************************************************************************\n",
      "CONFUSION MATRIX\n"
     ]
    },
    {
     "data": {
      "image/png": "[encoded data removed]",
      "text/plain": [
       "<Figure size 432x288 with 2 Axes>"
      ]
     },
     "metadata": {
      "needs_background": "light"
     },
     "output_type": "display_data"
    },
    {
     "name": "stdout",
     "output_type": "stream",
     "text": [
      "*******************************************************************************************\n",
      "CLASSIFICATION REPORT\n",
      "              precision    recall  f1-score   support\n",
      "\n",
      "           0       0.95      0.90      0.92      3127\n",
      "           1       0.57      0.77      0.66       572\n",
      "\n",
      "    accuracy                           0.88      3699\n",
      "   macro avg       0.76      0.83      0.79      3699\n",
      "weighted avg       0.90      0.88      0.88      3699\n",
      "\n",
      "*******************************************************************************************\n",
      "PRECISION RECALL CURVE\n"
     ]
    },
    {
     "data": {
      "image/png": "[encoded data removed]",
      "text/plain": [
       "<Figure size 432x288 with 1 Axes>"
      ]
     },
     "metadata": {
      "needs_background": "light"
     },
     "output_type": "display_data"
    },
    {
     "name": "stdout",
     "output_type": "stream",
     "text": [
      "*******************************************************************************************\n",
      "CROSS VALIDATION METRICS\n",
      "Mean Accuracy : 0.9345724998909993\n",
      "Standard Deviation : 0.02141300500161862\n",
      "Mean precision score : 0.9179126620475854\n",
      "Standard Deviation precision score : 0.023000902009491998\n",
      "Mean recall score : 0.8643995098039217\n",
      "Standard Deviation recall score : 0.06256448556279467\n",
      "Mean f1 score : 0.8893840632565595\n",
      "Standard Deviation f1 score : 0.039062923107824575\n",
      "Mean AUC ROC Score : 0.9150573522356982\n",
      "Standard Deviation AUC ROC Score : 0.032476236999116254\n",
      "*******************************************************************************************\n"
     ]
    }
   ],
   "source": [
    "from sklearn.ensemble import GradientBoostingClassifier\n",
    "classifier_gb = GradientBoostingClassifier() \n",
    "classifier_gb.fit(X_Train_res,y_Train_res)\n",
    "print(classifier_gb)\n",
    "\n",
    "y_pred=classifier_gb.predict(X_Test)\n",
    "\n",
    "# evaluating the model\n",
    "print(\"Training Accuracy :\", classifier_gb.score(X_Train_res, y_Train_res))\n",
    "print(\"Testing Accuracy :\", classifier_gb.score(X_Test, y_Test))\n",
    "print(\"ROC AUC Score :\", roc_auc_score(y_Test, y_pred))\n",
    "print(\"*******************************************************************************************\")\n",
    "\n",
    "print(\"CONFUSION MATRIX\")\n",
    "labels = ['Non-revenue', 'Revenue']\n",
    "fig = plt.figure()\n",
    "sns.heatmap(confusion_matrix(y_Test,y_pred), annot=True,cmap='Blues',fmt='g',linewidths=2, linecolor='black')\n",
    "plt.xlabel('Predicted')\n",
    "plt.ylabel('Actual')\n",
    "plt.show()\n",
    "print(\"*******************************************************************************************\")\n",
    "print(\"CLASSIFICATION REPORT\")\n",
    "print(classification_report(y_Test,y_pred))\n",
    "print(\"*******************************************************************************************\")\n",
    "print(\"PRECISION RECALL CURVE\")\n",
    "pre_recall_curve = plot_precision_recall_curve(classifier_gb, X_Test, y_Test)\n",
    "plt.show()\n",
    "print(\"*******************************************************************************************\")\n",
    "\n",
    "# cross validation\n",
    "scoring = {'accuracy' : make_scorer(accuracy_score), \n",
    "           'precision' : make_scorer(precision_score),\n",
    "           'recall' : make_scorer(recall_score), \n",
    "           'f1_score' : make_scorer(f1_score),\n",
    "          'AUC ROC score' : make_scorer(roc_auc_score)}\n",
    "cvs = cross_validate(estimator = classifier_gb, X = X_Train_res, y = y_Train_res, cv = 10,scoring=scoring)\n",
    "#print(cvs)\n",
    "print(\"CROSS VALIDATION METRICS\")\n",
    "print(\"Mean Accuracy :\", np.mean(cvs['test_accuracy']))\n",
    "print(\"Standard Deviation :\", np.std(cvs['test_accuracy']))\n",
    "print(\"Mean precision score :\", np.mean(cvs['test_precision']))\n",
    "print(\"Standard Deviation precision score :\", np.std(cvs['test_precision']))\n",
    "print(\"Mean recall score :\", np.mean(cvs['test_recall']))\n",
    "print(\"Standard Deviation recall score :\", np.std(cvs['test_recall']))\n",
    "print(\"Mean f1 score :\", np.mean(cvs['test_f1_score']))\n",
    "print(\"Standard Deviation f1 score :\", np.std(cvs['test_f1_score']))\n",
    "print(\"Mean AUC ROC Score :\", np.mean(cvs['test_AUC ROC score']))\n",
    "print(\"Standard Deviation AUC ROC Score :\", np.std(cvs['test_AUC ROC score']))\n",
    "print(\"*******************************************************************************************\")"
   ]
  },
  {
   "cell_type": "markdown",
   "metadata": {},
   "source": [
    "# Gradient Boosting Hyper-parameter tuning"
   ]
  },
  {
   "cell_type": "code",
   "execution_count": 58,
   "metadata": {},
   "outputs": [
    {
     "name": "stdout",
     "output_type": "stream",
     "text": [
      "GridSearchCV(cv=10, error_score=nan,\n",
      "             estimator=GradientBoostingClassifier(ccp_alpha=0.0,\n",
      "                                                  criterion='friedman_mse',\n",
      "                                                  init=None, learning_rate=0.1,\n",
      "                                                  loss='deviance', max_depth=3,\n",
      "                                                  max_features=None,\n",
      "                                                  max_leaf_nodes=None,\n",
      "                                                  min_impurity_decrease=0.0,\n",
      "                                                  min_impurity_split=None,\n",
      "                                                  min_samples_leaf=1,\n",
      "                                                  min_samples_split=2,\n",
      "                                                  min_weight_fraction_leaf=0.0,\n",
      "                                                  n_estimators=100,\n",
      "                                                  n_iter_no_change=None,\n",
      "                                                  presort='deprecated',\n",
      "                                                  random_state=None,\n",
      "                                                  subsample=1.0, tol=0.0001,\n",
      "                                                  validation_fraction=0.1,\n",
      "                                                  verbose=0, warm_start=False),\n",
      "             iid='deprecated', n_jobs=-1,\n",
      "             param_grid=[{'learning_rate': [1, 0.1, 0.01, 0.001],\n",
      "                          'max_depth': [1, 3, 5],\n",
      "                          'n_estimators': [100, 150, 200, 500]}],\n",
      "             pre_dispatch='2*n_jobs', refit=True, return_train_score=False,\n",
      "             scoring=None, verbose=0)\n",
      "*******************************************************************************************\n",
      "Best Hyper Parameters: {'learning_rate': 0.1, 'max_depth': 5, 'n_estimators': 500}\n",
      "Best Accuracy Score: 0.9397542401209179\n",
      "Best Estimators: GradientBoostingClassifier(ccp_alpha=0.0, criterion='friedman_mse', init=None,\n",
      "                           learning_rate=0.1, loss='deviance', max_depth=5,\n",
      "                           max_features=None, max_leaf_nodes=None,\n",
      "                           min_impurity_decrease=0.0, min_impurity_split=None,\n",
      "                           min_samples_leaf=1, min_samples_split=2,\n",
      "                           min_weight_fraction_leaf=0.0, n_estimators=500,\n",
      "                           n_iter_no_change=None, presort='deprecated',\n",
      "                           random_state=None, subsample=1.0, tol=0.0001,\n",
      "                           validation_fraction=0.1, verbose=0,\n",
      "                           warm_start=False)\n",
      "*******************************************************************************************\n"
     ]
    }
   ],
   "source": [
    "base_classifier = GradientBoostingClassifier()\n",
    "params = [\n",
    "    {\n",
    "    'n_estimators': [100,150,200,500],\n",
    "          'learning_rate': [1,0.1,0.01,0.001],\n",
    "        'max_depth': [1, 3, 5]\n",
    "    }\n",
    "]\n",
    "\n",
    "best_classifier = GridSearchCV(base_classifier, param_grid=params, n_jobs=-1,cv=10)\n",
    "\n",
    "#Learning\n",
    "best_classifier.fit(X_Train_res,y_Train_res)\n",
    "print(best_classifier)\n",
    "#The best hyper parameters set\n",
    "print(\"*******************************************************************************************\")\n",
    "print(\"Best Hyper Parameters:\",best_classifier.best_params_)\n",
    "print(\"Best Accuracy Score:\",best_classifier.best_score_)\n",
    "print(\"Best Estimators:\",best_classifier.best_estimator_)\n",
    "print(\"*******************************************************************************************\")"
   ]
  },
  {
   "cell_type": "markdown",
   "metadata": {},
   "source": [
    "# Gradient Boosting Hyper-parameter tuned model"
   ]
  },
  {
   "cell_type": "code",
   "execution_count": 59,
   "metadata": {},
   "outputs": [
    {
     "name": "stdout",
     "output_type": "stream",
     "text": [
      "GradientBoostingClassifier(ccp_alpha=0.0, criterion='friedman_mse', init=None,\n",
      "                           learning_rate=0.1, loss='deviance', max_depth=5,\n",
      "                           max_features=None, max_leaf_nodes=None,\n",
      "                           min_impurity_decrease=0.0, min_impurity_split=None,\n",
      "                           min_samples_leaf=1, min_samples_split=2,\n",
      "                           min_weight_fraction_leaf=0.0, n_estimators=500,\n",
      "                           n_iter_no_change=None, presort='deprecated',\n",
      "                           random_state=None, subsample=1.0, tol=0.0001,\n",
      "                           validation_fraction=0.1, verbose=0,\n",
      "                           warm_start=False)\n",
      "Training Accuracy : 0.9985540426557417\n",
      "Testing Accuracy : 0.8737496620708299\n",
      "ROC AUC Score : 0.8289069820489712\n",
      "*******************************************************************************************\n",
      "CONFUSION MATRIX\n"
     ]
    },
    {
     "data": {
      "image/png": "[encoded data removed]",
      "text/plain": [
       "<Figure size 432x288 with 2 Axes>"
      ]
     },
     "metadata": {
      "needs_background": "light"
     },
     "output_type": "display_data"
    },
    {
     "name": "stdout",
     "output_type": "stream",
     "text": [
      "*******************************************************************************************\n",
      "CLASSIFICATION REPORT\n",
      "              precision    recall  f1-score   support\n",
      "\n",
      "           0       0.95      0.89      0.92      3127\n",
      "           1       0.57      0.76      0.65       572\n",
      "\n",
      "    accuracy                           0.87      3699\n",
      "   macro avg       0.76      0.83      0.79      3699\n",
      "weighted avg       0.89      0.87      0.88      3699\n",
      "\n",
      "*******************************************************************************************\n",
      "PRECISION RECALL CURVE\n"
     ]
    },
    {
     "data": {
      "image/png": "[encoded data removed]",
      "text/plain": [
       "<Figure size 432x288 with 1 Axes>"
      ]
     },
     "metadata": {
      "needs_background": "light"
     },
     "output_type": "display_data"
    },
    {
     "name": "stdout",
     "output_type": "stream",
     "text": [
      "CROSS VALIDATION METRICS\n",
      "Mean Accuracy : 0.9397542401209179\n",
      "Standard Deviation : 0.02633198059307131\n",
      "Mean precision score : 0.9150449462369463\n",
      "Standard Deviation precision score : 0.021412404316068726\n",
      "Mean recall score : 0.8859145220588236\n",
      "Standard Deviation recall score : 0.08119188402857638\n",
      "Mean f1 score : 0.8986411838514774\n",
      "Standard Deviation f1 score : 0.047582915304086496\n",
      "Mean AUC ROC Score : 0.9247703196568924\n",
      "Standard Deviation AUC ROC Score : 0.041311258273904534\n",
      "*******************************************************************************************\n"
     ]
    }
   ],
   "source": [
    "from sklearn.ensemble import GradientBoostingClassifier\n",
    "classifier_gb = GradientBoostingClassifier(learning_rate=0.1, n_estimators=500,max_depth=5) \n",
    "classifier_gb.fit(X_Train_res,y_Train_res)\n",
    "print(classifier_gb)\n",
    "\n",
    "y_pred=classifier_gb.predict(X_Test)\n",
    "\n",
    "# evaluating the model\n",
    "print(\"Training Accuracy :\", classifier_gb.score(X_Train_res, y_Train_res))\n",
    "print(\"Testing Accuracy :\", classifier_gb.score(X_Test, y_Test))\n",
    "print(\"ROC AUC Score :\", roc_auc_score(y_Test, y_pred))\n",
    "print(\"*******************************************************************************************\")\n",
    "\n",
    "print(\"CONFUSION MATRIX\")\n",
    "labels = ['Non-revenue', 'Revenue']\n",
    "fig = plt.figure()\n",
    "sns.heatmap(confusion_matrix(y_Test,y_pred), annot=True,cmap='Blues',fmt='g',linewidths=2, linecolor='black')\n",
    "plt.xlabel('Predicted')\n",
    "plt.ylabel('Actual')\n",
    "plt.show()\n",
    "print(\"*******************************************************************************************\")\n",
    "print(\"CLASSIFICATION REPORT\")\n",
    "print(classification_report(y_Test,y_pred))\n",
    "print(\"*******************************************************************************************\")\n",
    "print(\"PRECISION RECALL CURVE\")\n",
    "pre_recall_curve = plot_precision_recall_curve(classifier_gb, X_Test, y_Test)\n",
    "plt.show()\n",
    "\n",
    "# cross validation\n",
    "scoring = {'accuracy' : make_scorer(accuracy_score), \n",
    "           'precision' : make_scorer(precision_score),\n",
    "           'recall' : make_scorer(recall_score), \n",
    "           'f1_score' : make_scorer(f1_score),\n",
    "          'AUC ROC score' : make_scorer(roc_auc_score)}\n",
    "cvs = cross_validate(estimator = classifier_gb, X = X_Train_res, y = y_Train_res, cv = 10,scoring=scoring)\n",
    "#print(cvs)\n",
    "print(\"CROSS VALIDATION METRICS\")\n",
    "print(\"Mean Accuracy :\", np.mean(cvs['test_accuracy']))\n",
    "print(\"Standard Deviation :\", np.std(cvs['test_accuracy']))\n",
    "print(\"Mean precision score :\", np.mean(cvs['test_precision']))\n",
    "print(\"Standard Deviation precision score :\", np.std(cvs['test_precision']))\n",
    "print(\"Mean recall score :\", np.mean(cvs['test_recall']))\n",
    "print(\"Standard Deviation recall score :\", np.std(cvs['test_recall']))\n",
    "print(\"Mean f1 score :\", np.mean(cvs['test_f1_score']))\n",
    "print(\"Standard Deviation f1 score :\", np.std(cvs['test_f1_score']))\n",
    "print(\"Mean AUC ROC Score :\", np.mean(cvs['test_AUC ROC score']))\n",
    "print(\"Standard Deviation AUC ROC Score :\", np.std(cvs['test_AUC ROC score']))\n",
    "print(\"*******************************************************************************************\")"
   ]
  },
  {
   "cell_type": "markdown",
   "metadata": {},
   "source": [
    "# Bagging Tree"
   ]
  },
  {
   "cell_type": "code",
   "execution_count": 60,
   "metadata": {},
   "outputs": [
    {
     "name": "stdout",
     "output_type": "stream",
     "text": [
      "BaggingClassifier(base_estimator=DecisionTreeClassifier(ccp_alpha=0.0,\n",
      "                                                        class_weight=None,\n",
      "                                                        criterion='gini',\n",
      "                                                        max_depth=None,\n",
      "                                                        max_features=None,\n",
      "                                                        max_leaf_nodes=None,\n",
      "                                                        min_impurity_decrease=0.0,\n",
      "                                                        min_impurity_split=None,\n",
      "                                                        min_samples_leaf=1,\n",
      "                                                        min_samples_split=2,\n",
      "                                                        min_weight_fraction_leaf=0.0,\n",
      "                                                        presort='deprecated',\n",
      "                                                        random_state=1,\n",
      "                                                        splitter='best'),\n",
      "                  bootstrap=True, bootstrap_features=False, max_features=1.0,\n",
      "                  max_samples=1.0, n_estimators=10, n_jobs=None,\n",
      "                  oob_score=False, random_state=None, verbose=0,\n",
      "                  warm_start=False)\n",
      "Training Accuracy : 0.9960236173032896\n",
      "Testing Accuracy : 0.8648283319816167\n",
      "ROC AUC Score : 0.8143453923754531\n",
      "*******************************************************************************************\n",
      "CONFUSION MATRIX\n"
     ]
    },
    {
     "data": {
      "image/png": "[encoded data removed]",
      "text/plain": [
       "<Figure size 432x288 with 2 Axes>"
      ]
     },
     "metadata": {
      "needs_background": "light"
     },
     "output_type": "display_data"
    },
    {
     "name": "stdout",
     "output_type": "stream",
     "text": [
      "*******************************************************************************************\n",
      "CLASSIFICATION REPORT\n",
      "              precision    recall  f1-score   support\n",
      "\n",
      "           0       0.95      0.89      0.92      3127\n",
      "           1       0.55      0.74      0.63       572\n",
      "\n",
      "    accuracy                           0.86      3699\n",
      "   macro avg       0.75      0.81      0.77      3699\n",
      "weighted avg       0.89      0.86      0.87      3699\n",
      "\n",
      "*******************************************************************************************\n",
      "PRECISION RECALL CURVE\n"
     ]
    },
    {
     "data": {
      "image/png": "[encoded data removed]",
      "text/plain": [
       "<Figure size 432x288 with 1 Axes>"
      ]
     },
     "metadata": {
      "needs_background": "light"
     },
     "output_type": "display_data"
    },
    {
     "name": "stdout",
     "output_type": "stream",
     "text": [
      "CROSS VALIDATION METRICS\n",
      "Mean Accuracy : 0.9350532649294404\n",
      "Standard Deviation : 0.01935308740821124\n",
      "Mean precision score : 0.9127790190029714\n",
      "Standard Deviation precision score : 0.020372711368346008\n",
      "Mean recall score : 0.8722303921568628\n",
      "Standard Deviation recall score : 0.06009722806327427\n",
      "Mean f1 score : 0.8910488659580527\n",
      "Standard Deviation f1 score : 0.03527621432100409\n",
      "Mean AUC ROC Score : 0.9175801256345592\n",
      "Standard Deviation AUC ROC Score : 0.03028677447836261\n",
      "*******************************************************************************************\n"
     ]
    }
   ],
   "source": [
    "from sklearn import tree\n",
    "classifier_bagt = BaggingClassifier(tree.DecisionTreeClassifier(random_state=1)) \n",
    "classifier_bagt.fit(X_Train_res,y_Train_res)\n",
    "print(classifier_bagt)\n",
    "\n",
    "y_pred=classifier_bagt.predict(X_Test)\n",
    "\n",
    "# evaluating the model\n",
    "print(\"Training Accuracy :\", classifier_bagt.score(X_Train_res, y_Train_res))\n",
    "print(\"Testing Accuracy :\", classifier_bagt.score(X_Test, y_Test))\n",
    "print(\"ROC AUC Score :\", roc_auc_score(y_Test, y_pred))\n",
    "print(\"*******************************************************************************************\")\n",
    "\n",
    "print(\"CONFUSION MATRIX\")\n",
    "labels = ['Non-revenue', 'Revenue']\n",
    "fig = plt.figure()\n",
    "sns.heatmap(confusion_matrix(y_Test,y_pred), annot=True,cmap='Blues',fmt='g',linewidths=2, linecolor='black')\n",
    "plt.xlabel('Predicted')\n",
    "plt.ylabel('Actual')\n",
    "plt.show()\n",
    "print(\"*******************************************************************************************\")\n",
    "print(\"CLASSIFICATION REPORT\")\n",
    "print(classification_report(y_Test,y_pred))\n",
    "print(\"*******************************************************************************************\")\n",
    "print(\"PRECISION RECALL CURVE\")\n",
    "pre_recall_curve = plot_precision_recall_curve(classifier_bagt, X_Test, y_Test)\n",
    "plt.show()\n",
    "\n",
    "# cross validation\n",
    "scoring = {'accuracy' : make_scorer(accuracy_score), \n",
    "           'precision' : make_scorer(precision_score),\n",
    "           'recall' : make_scorer(recall_score), \n",
    "           'f1_score' : make_scorer(f1_score),\n",
    "          'AUC ROC score' : make_scorer(roc_auc_score)}\n",
    "cvs = cross_validate(estimator = classifier_bagt, X = X_Train_res, y = y_Train_res, cv = 10,scoring=scoring)\n",
    "#print(cvs)\n",
    "print(\"CROSS VALIDATION METRICS\")\n",
    "print(\"Mean Accuracy :\", np.mean(cvs['test_accuracy']))\n",
    "print(\"Standard Deviation :\", np.std(cvs['test_accuracy']))\n",
    "print(\"Mean precision score :\", np.mean(cvs['test_precision']))\n",
    "print(\"Standard Deviation precision score :\", np.std(cvs['test_precision']))\n",
    "print(\"Mean recall score :\", np.mean(cvs['test_recall']))\n",
    "print(\"Standard Deviation recall score :\", np.std(cvs['test_recall']))\n",
    "print(\"Mean f1 score :\", np.mean(cvs['test_f1_score']))\n",
    "print(\"Standard Deviation f1 score :\", np.std(cvs['test_f1_score']))\n",
    "print(\"Mean AUC ROC Score :\", np.mean(cvs['test_AUC ROC score']))\n",
    "print(\"Standard Deviation AUC ROC Score :\", np.std(cvs['test_AUC ROC score']))\n",
    "print(\"*******************************************************************************************\")"
   ]
  },
  {
   "cell_type": "markdown",
   "metadata": {},
   "source": [
    "# Bagging Tree hyper-parameter tuning"
   ]
  },
  {
   "cell_type": "code",
   "execution_count": 61,
   "metadata": {},
   "outputs": [
    {
     "name": "stdout",
     "output_type": "stream",
     "text": [
      "GridSearchCV(cv=10, error_score=nan,\n",
      "             estimator=BaggingClassifier(base_estimator=DecisionTreeClassifier(ccp_alpha=0.0,\n",
      "                                                                               class_weight=None,\n",
      "                                                                               criterion='gini',\n",
      "                                                                               max_depth=None,\n",
      "                                                                               max_features=None,\n",
      "                                                                               max_leaf_nodes=None,\n",
      "                                                                               min_impurity_decrease=0.0,\n",
      "                                                                               min_impurity_split=None,\n",
      "                                                                               min_samples_leaf=1,\n",
      "                                                                               min_samples_split=2,\n",
      "                                                                               min_weight_fraction_leaf=0.0,\n",
      "                                                                               presort='deprecated',\n",
      "                                                                               random_s...\n",
      "                                         bootstrap_features=False,\n",
      "                                         max_features=1.0, max_samples=1.0,\n",
      "                                         n_estimators=10, n_jobs=None,\n",
      "                                         oob_score=False, random_state=None,\n",
      "                                         verbose=0, warm_start=False),\n",
      "             iid='deprecated', n_jobs=-1,\n",
      "             param_grid=[{'max_features': [10, 15, 23],\n",
      "                          'max_samples': [10, 15, 20],\n",
      "                          'n_estimators': [10, 20, 50]}],\n",
      "             pre_dispatch='2*n_jobs', refit=True, return_train_score=False,\n",
      "             scoring=None, verbose=0)\n",
      "*******************************************************************************************\n",
      "Best Hyper Parameters: {'max_features': 23, 'max_samples': 20, 'n_estimators': 50}\n",
      "Best Accuracy Score: 0.9093868356417225\n",
      "Best Estimators: BaggingClassifier(base_estimator=DecisionTreeClassifier(ccp_alpha=0.0,\n",
      "                                                        class_weight=None,\n",
      "                                                        criterion='gini',\n",
      "                                                        max_depth=None,\n",
      "                                                        max_features=None,\n",
      "                                                        max_leaf_nodes=None,\n",
      "                                                        min_impurity_decrease=0.0,\n",
      "                                                        min_impurity_split=None,\n",
      "                                                        min_samples_leaf=1,\n",
      "                                                        min_samples_split=2,\n",
      "                                                        min_weight_fraction_leaf=0.0,\n",
      "                                                        presort='deprecated',\n",
      "                                                        random_state=1,\n",
      "                                                        splitter='best'),\n",
      "                  bootstrap=True, bootstrap_features=False, max_features=23,\n",
      "                  max_samples=20, n_estimators=50, n_jobs=None, oob_score=False,\n",
      "                  random_state=None, verbose=0, warm_start=False)\n",
      "*******************************************************************************************\n"
     ]
    }
   ],
   "source": [
    "base_classifier = BaggingClassifier(tree.DecisionTreeClassifier(random_state=1))\n",
    "params = [\n",
    "    {\n",
    "    'n_estimators': [10,20,50],\n",
    "        'max_features': [10,15,23],\n",
    "        'max_samples':[10,15,20]\n",
    "        \n",
    "    }\n",
    "]\n",
    "\n",
    "best_classifier = GridSearchCV(base_classifier, param_grid=params, n_jobs=-1,cv=10)\n",
    "\n",
    "#Learning\n",
    "best_classifier.fit(X_Train_res,y_Train_res)\n",
    "print(best_classifier)\n",
    "#The best hyper parameters set\n",
    "print(\"*******************************************************************************************\")\n",
    "print(\"Best Hyper Parameters:\",best_classifier.best_params_)\n",
    "print(\"Best Accuracy Score:\",best_classifier.best_score_)\n",
    "print(\"Best Estimators:\",best_classifier.best_estimator_)\n",
    "print(\"*******************************************************************************************\")"
   ]
  },
  {
   "cell_type": "markdown",
   "metadata": {},
   "source": [
    "# Bagging Tree hyper-parameter tuned model"
   ]
  },
  {
   "cell_type": "code",
   "execution_count": 62,
   "metadata": {},
   "outputs": [
    {
     "name": "stdout",
     "output_type": "stream",
     "text": [
      "BaggingClassifier(base_estimator=DecisionTreeClassifier(ccp_alpha=0.0,\n",
      "                                                        class_weight=None,\n",
      "                                                        criterion='gini',\n",
      "                                                        max_depth=None,\n",
      "                                                        max_features=None,\n",
      "                                                        max_leaf_nodes=None,\n",
      "                                                        min_impurity_decrease=0.0,\n",
      "                                                        min_impurity_split=None,\n",
      "                                                        min_samples_leaf=1,\n",
      "                                                        min_samples_split=2,\n",
      "                                                        min_weight_fraction_leaf=0.0,\n",
      "                                                        presort='deprecated',\n",
      "                                                        random_state=1,\n",
      "                                                        splitter='best'),\n",
      "                  bootstrap=True, bootstrap_features=False, max_features=23,\n",
      "                  max_samples=20, n_estimators=50, n_jobs=None, oob_score=False,\n",
      "                  random_state=None, verbose=0, warm_start=False)\n",
      "Training Accuracy : 0.9073382335221111\n",
      "Testing Accuracy : 0.8759124087591241\n",
      "ROC AUC Score : 0.8130446863657609\n",
      "*******************************************************************************************\n",
      "CONFUSION MATRIX\n"
     ]
    },
    {
     "data": {
      "image/png": "[encoded data removed]",
      "text/plain": [
       "<Figure size 432x288 with 2 Axes>"
      ]
     },
     "metadata": {
      "needs_background": "light"
     },
     "output_type": "display_data"
    },
    {
     "name": "stdout",
     "output_type": "stream",
     "text": [
      "*******************************************************************************************\n",
      "CLASSIFICATION REPORT\n",
      "              precision    recall  f1-score   support\n",
      "\n",
      "           0       0.95      0.90      0.92      3127\n",
      "           1       0.58      0.72      0.64       572\n",
      "\n",
      "    accuracy                           0.88      3699\n",
      "   macro avg       0.76      0.81      0.78      3699\n",
      "weighted avg       0.89      0.88      0.88      3699\n",
      "\n",
      "*******************************************************************************************\n",
      "PRECISION RECALL CURVE\n"
     ]
    },
    {
     "data": {
      "image/png": "[encoded data removed]",
      "text/plain": [
       "<Figure size 432x288 with 1 Axes>"
      ]
     },
     "metadata": {
      "needs_background": "light"
     },
     "output_type": "display_data"
    },
    {
     "name": "stdout",
     "output_type": "stream",
     "text": [
      "CROSS VALIDATION METRICS\n",
      "Mean Accuracy : 0.9075784440536573\n",
      "Standard Deviation : 0.008846666418567796\n",
      "Mean precision score : 0.9064111438602203\n",
      "Standard Deviation precision score : 0.022956835274487594\n",
      "Mean recall score : 0.781000306372549\n",
      "Standard Deviation recall score : 0.02946588385540792\n",
      "Mean f1 score : 0.8384855774771058\n",
      "Standard Deviation f1 score : 0.016957014790737218\n",
      "Mean AUC ROC Score : 0.8724012287808813\n",
      "Standard Deviation AUC ROC Score : 0.013388939623405203\n",
      "*******************************************************************************************\n"
     ]
    }
   ],
   "source": [
    "classifier_bagt = BaggingClassifier(tree.DecisionTreeClassifier(random_state=1),\n",
    "                                    max_features=23, max_samples=20, n_estimators=50) \n",
    "classifier_bagt.fit(X_Train_res,y_Train_res)\n",
    "print(classifier_bagt)\n",
    "\n",
    "y_pred=classifier_bagt.predict(X_Test)\n",
    "\n",
    "# evaluating the model\n",
    "print(\"Training Accuracy :\", classifier_bagt.score(X_Train_res, y_Train_res))\n",
    "print(\"Testing Accuracy :\", classifier_bagt.score(X_Test, y_Test))\n",
    "print(\"ROC AUC Score :\", roc_auc_score(y_Test, y_pred))\n",
    "print(\"*******************************************************************************************\")\n",
    "\n",
    "print(\"CONFUSION MATRIX\")\n",
    "labels = ['Non-revenue', 'Revenue']\n",
    "fig = plt.figure()\n",
    "sns.heatmap(confusion_matrix(y_Test,y_pred), annot=True,cmap='Blues',fmt='g',linewidths=2, linecolor='black')\n",
    "plt.xlabel('Predicted')\n",
    "plt.ylabel('Actual')\n",
    "plt.show()\n",
    "print(\"*******************************************************************************************\")\n",
    "print(\"CLASSIFICATION REPORT\")\n",
    "print(classification_report(y_Test,y_pred))\n",
    "print(\"*******************************************************************************************\")\n",
    "print(\"PRECISION RECALL CURVE\")\n",
    "pre_recall_curve = plot_precision_recall_curve(classifier_bagt, X_Test, y_Test)\n",
    "plt.show()\n",
    "\n",
    "\n",
    "# cross validation\n",
    "scoring = {'accuracy' : make_scorer(accuracy_score), \n",
    "           'precision' : make_scorer(precision_score),\n",
    "           'recall' : make_scorer(recall_score), \n",
    "           'f1_score' : make_scorer(f1_score),\n",
    "          'AUC ROC score' : make_scorer(roc_auc_score)}\n",
    "cvs = cross_validate(estimator = classifier_bagt, X = X_Train_res, y = y_Train_res, cv = 10,scoring=scoring)\n",
    "#print(cvs)\n",
    "print(\"CROSS VALIDATION METRICS\")\n",
    "print(\"Mean Accuracy :\", np.mean(cvs['test_accuracy']))\n",
    "print(\"Standard Deviation :\", np.std(cvs['test_accuracy']))\n",
    "print(\"Mean precision score :\", np.mean(cvs['test_precision']))\n",
    "print(\"Standard Deviation precision score :\", np.std(cvs['test_precision']))\n",
    "print(\"Mean recall score :\", np.mean(cvs['test_recall']))\n",
    "print(\"Standard Deviation recall score :\", np.std(cvs['test_recall']))\n",
    "print(\"Mean f1 score :\", np.mean(cvs['test_f1_score']))\n",
    "print(\"Standard Deviation f1 score :\", np.std(cvs['test_f1_score']))\n",
    "print(\"Mean AUC ROC Score :\", np.mean(cvs['test_AUC ROC score']))\n",
    "print(\"Standard Deviation AUC ROC Score :\", np.std(cvs['test_AUC ROC score']))\n",
    "print(\"*******************************************************************************************\")"
   ]
  },
  {
   "cell_type": "markdown",
   "metadata": {},
   "source": [
    "# Decision Tree"
   ]
  },
  {
   "cell_type": "code",
   "execution_count": 63,
   "metadata": {},
   "outputs": [
    {
     "name": "stdout",
     "output_type": "stream",
     "text": [
      "DecisionTreeClassifier(ccp_alpha=0.0, class_weight=None, criterion='gini',\n",
      "                       max_depth=None, max_features=None, max_leaf_nodes=None,\n",
      "                       min_impurity_decrease=0.0, min_impurity_split=None,\n",
      "                       min_samples_leaf=1, min_samples_split=2,\n",
      "                       min_weight_fraction_leaf=0.0, presort='deprecated',\n",
      "                       random_state=None, splitter='best')\n",
      "Training Accuracy : 1.0\n",
      "Testing Accuracy : 0.8415788050824548\n",
      "ROC AUC Score : 0.7955945956825394\n",
      "*******************************************************************************************\n",
      "CONFUSION MATRIX\n"
     ]
    },
    {
     "data": {
      "image/png": "[encoded data removed]",
      "text/plain": [
       "<Figure size 432x288 with 2 Axes>"
      ]
     },
     "metadata": {
      "needs_background": "light"
     },
     "output_type": "display_data"
    },
    {
     "name": "stdout",
     "output_type": "stream",
     "text": [
      "*******************************************************************************************\n",
      "CLASSIFICATION REPORT\n",
      "              precision    recall  f1-score   support\n",
      "\n",
      "           0       0.95      0.86      0.90      3127\n",
      "           1       0.49      0.73      0.59       572\n",
      "\n",
      "    accuracy                           0.84      3699\n",
      "   macro avg       0.72      0.80      0.74      3699\n",
      "weighted avg       0.88      0.84      0.85      3699\n",
      "\n",
      "*******************************************************************************************\n",
      "PRECISION RECALL CURVE\n"
     ]
    },
    {
     "data": {
      "image/png": "[encoded data removed]",
      "text/plain": [
       "<Figure size 432x288 with 1 Axes>"
      ]
     },
     "metadata": {
      "needs_background": "light"
     },
     "output_type": "display_data"
    },
    {
     "name": "stdout",
     "output_type": "stream",
     "text": [
      "CROSS VALIDATION METRICS\n",
      "Mean Accuracy : 0.9134840931881932\n",
      "Standard Deviation : 0.021386755960221854\n",
      "Mean precision score : 0.8578492777728931\n",
      "Standard Deviation precision score : 0.022951415648141963\n",
      "Mean recall score : 0.861639093137255\n",
      "Standard Deviation recall score : 0.0692121155427031\n",
      "Mean f1 score : 0.8584221216653107\n",
      "Standard Deviation f1 score : 0.03917280287215311\n",
      "Mean AUC ROC Score : 0.8990576923041219\n",
      "Standard Deviation AUC ROC Score : 0.03402159550415514\n",
      "*******************************************************************************************\n"
     ]
    }
   ],
   "source": [
    "classifier_dt = DecisionTreeClassifier()\n",
    "classifier_dt.fit(X_Train_res,y_Train_res)\n",
    "print(classifier_dt)\n",
    "\n",
    "y_pred=classifier_dt.predict(X_Test)\n",
    "\n",
    "# evaluating the model\n",
    "print(\"Training Accuracy :\", classifier_dt.score(X_Train_res, y_Train_res))\n",
    "print(\"Testing Accuracy :\", classifier_dt.score(X_Test, y_Test))\n",
    "print(\"ROC AUC Score :\", roc_auc_score(y_Test, y_pred))\n",
    "print(\"*******************************************************************************************\")\n",
    "\n",
    "print(\"CONFUSION MATRIX\")\n",
    "labels = ['Non-revenue', 'Revenue']\n",
    "fig = plt.figure()\n",
    "sns.heatmap(confusion_matrix(y_Test,y_pred), annot=True,cmap='Blues',fmt='g',linewidths=2, linecolor='black')\n",
    "plt.xlabel('Predicted')\n",
    "plt.ylabel('Actual')\n",
    "plt.show()\n",
    "print(\"*******************************************************************************************\")\n",
    "print(\"CLASSIFICATION REPORT\")\n",
    "print(classification_report(y_Test,y_pred))\n",
    "print(\"*******************************************************************************************\")\n",
    "print(\"PRECISION RECALL CURVE\")\n",
    "pre_recall_curve = plot_precision_recall_curve(classifier_dt, X_Test, y_Test)\n",
    "plt.show()\n",
    "\n",
    "# cross validation\n",
    "scoring = {'accuracy' : make_scorer(accuracy_score), \n",
    "           'precision' : make_scorer(precision_score),\n",
    "           'recall' : make_scorer(recall_score), \n",
    "           'f1_score' : make_scorer(f1_score),\n",
    "          'AUC ROC score' : make_scorer(roc_auc_score)}\n",
    "cvs = cross_validate(estimator = classifier_dt, X = X_Train_res, y = y_Train_res, cv = 10,scoring=scoring)\n",
    "#print(cvs)\n",
    "print(\"CROSS VALIDATION METRICS\")\n",
    "print(\"Mean Accuracy :\", np.mean(cvs['test_accuracy']))\n",
    "print(\"Standard Deviation :\", np.std(cvs['test_accuracy']))\n",
    "print(\"Mean precision score :\", np.mean(cvs['test_precision']))\n",
    "print(\"Standard Deviation precision score :\", np.std(cvs['test_precision']))\n",
    "print(\"Mean recall score :\", np.mean(cvs['test_recall']))\n",
    "print(\"Standard Deviation recall score :\", np.std(cvs['test_recall']))\n",
    "print(\"Mean f1 score :\", np.mean(cvs['test_f1_score']))\n",
    "print(\"Standard Deviation f1 score :\", np.std(cvs['test_f1_score']))\n",
    "print(\"Mean AUC ROC Score :\", np.mean(cvs['test_AUC ROC score']))\n",
    "print(\"Standard Deviation AUC ROC Score :\", np.std(cvs['test_AUC ROC score']))\n",
    "print(\"*******************************************************************************************\")"
   ]
  },
  {
   "cell_type": "markdown",
   "metadata": {},
   "source": [
    "# Decision Tree Hyper-parameter tuning"
   ]
  },
  {
   "cell_type": "code",
   "execution_count": 64,
   "metadata": {},
   "outputs": [
    {
     "name": "stdout",
     "output_type": "stream",
     "text": [
      "GridSearchCV(cv=10, error_score=nan,\n",
      "             estimator=DecisionTreeClassifier(ccp_alpha=0.0, class_weight=None,\n",
      "                                              criterion='gini', max_depth=None,\n",
      "                                              max_features=None,\n",
      "                                              max_leaf_nodes=None,\n",
      "                                              min_impurity_decrease=0.0,\n",
      "                                              min_impurity_split=None,\n",
      "                                              min_samples_leaf=1,\n",
      "                                              min_samples_split=2,\n",
      "                                              min_weight_fraction_leaf=0.0,\n",
      "                                              presort='deprecated',\n",
      "                                              random_state=None,\n",
      "                                              splitter='best'),\n",
      "             iid='deprecated', n_jobs=-1,\n",
      "             param_grid=[{'criterion': ['gini', 'entropy'],\n",
      "                          'max_depth': [1, 2, 3, 4, 5, 6],\n",
      "                          'max_features': ['auto', 'sqrt', 'log2'],\n",
      "                          'min_samples_leaf': [1, 2, 3, 4, 5, 6, 7, 8, 9, 10,\n",
      "                                               11],\n",
      "                          'min_samples_split': [2, 3, 4, 5, 6, 7, 8, 9, 10, 11,\n",
      "                                                12, 13, 14, 15],\n",
      "                          'random_state': [123]}],\n",
      "             pre_dispatch='2*n_jobs', refit=True, return_train_score=False,\n",
      "             scoring=None, verbose=0)\n",
      "*******************************************************************************************\n",
      "Best Hyper Parameters: {'criterion': 'gini', 'max_depth': 6, 'max_features': 'auto', 'min_samples_leaf': 1, 'min_samples_split': 14, 'random_state': 123}\n",
      "Best Accuracy Score: 0.7916627668696499\n",
      "Best Estimators: DecisionTreeClassifier(ccp_alpha=0.0, class_weight=None, criterion='gini',\n",
      "                       max_depth=6, max_features='auto', max_leaf_nodes=None,\n",
      "                       min_impurity_decrease=0.0, min_impurity_split=None,\n",
      "                       min_samples_leaf=1, min_samples_split=14,\n",
      "                       min_weight_fraction_leaf=0.0, presort='deprecated',\n",
      "                       random_state=123, splitter='best')\n",
      "*******************************************************************************************\n"
     ]
    }
   ],
   "source": [
    "base_classifier = DecisionTreeClassifier()\n",
    "params = [\n",
    "    {\n",
    "    'criterion':['gini','entropy'],\n",
    "          'max_features': ['auto', 'sqrt', 'log2'],\n",
    "          'min_samples_split': [2,3,4,5,6,7,8,9,10,11,12,13,14,15], \n",
    "          'min_samples_leaf':[1,2,3,4,5,6,7,8,9,10,11],\n",
    "          'random_state':[123],\n",
    "          'max_depth':[1,2,3,4,5,6]\n",
    "        \n",
    "    }\n",
    "]\n",
    "\n",
    "best_classifier = GridSearchCV(base_classifier, param_grid=params, n_jobs=-1,cv=10)\n",
    "\n",
    "#Learning\n",
    "best_classifier.fit(X_Train_res,y_Train_res)\n",
    "print(best_classifier)\n",
    "#The best hyper parameters set\n",
    "print(\"*******************************************************************************************\")\n",
    "print(\"Best Hyper Parameters:\",best_classifier.best_params_)\n",
    "print(\"Best Accuracy Score:\",best_classifier.best_score_)\n",
    "print(\"Best Estimators:\",best_classifier.best_estimator_)\n",
    "print(\"*******************************************************************************************\")"
   ]
  },
  {
   "cell_type": "markdown",
   "metadata": {},
   "source": [
    "# Decision Tree Hyper-parameter tuned model"
   ]
  },
  {
   "cell_type": "code",
   "execution_count": 65,
   "metadata": {},
   "outputs": [
    {
     "name": "stdout",
     "output_type": "stream",
     "text": [
      "DecisionTreeClassifier(ccp_alpha=0.0, class_weight=None, criterion='gini',\n",
      "                       max_depth=6, max_features='auto', max_leaf_nodes=None,\n",
      "                       min_impurity_decrease=0.0, min_impurity_split=None,\n",
      "                       min_samples_leaf=1, min_samples_split=14,\n",
      "                       min_weight_fraction_leaf=0.0, presort='deprecated',\n",
      "                       random_state=123, splitter='best')\n",
      "Training Accuracy : 0.7937100855524762\n",
      "Testing Accuracy : 0.8113003514463368\n",
      "ROC AUC Score : 0.6612668591402202\n",
      "*******************************************************************************************\n",
      "CONFUSION MATRIX\n"
     ]
    },
    {
     "data": {
      "image/png": "[encoded data removed]",
      "text/plain": [
       "<Figure size 432x288 with 2 Axes>"
      ]
     },
     "metadata": {
      "needs_background": "light"
     },
     "output_type": "display_data"
    },
    {
     "name": "stdout",
     "output_type": "stream",
     "text": [
      "*******************************************************************************************\n",
      "CLASSIFICATION REPORT\n",
      "              precision    recall  f1-score   support\n",
      "\n",
      "           0       0.90      0.88      0.89      3127\n",
      "           1       0.40      0.44      0.42       572\n",
      "\n",
      "    accuracy                           0.81      3699\n",
      "   macro avg       0.65      0.66      0.65      3699\n",
      "weighted avg       0.82      0.81      0.82      3699\n",
      "\n",
      "*******************************************************************************************\n",
      "PRECISION RECALL CURVE\n"
     ]
    },
    {
     "data": {
      "image/png": "[encoded data removed]",
      "text/plain": [
       "<Figure size 432x288 with 1 Axes>"
      ]
     },
     "metadata": {
      "needs_background": "light"
     },
     "output_type": "display_data"
    },
    {
     "name": "stdout",
     "output_type": "stream",
     "text": [
      "CROSS VALIDATION METRICS\n",
      "Mean Accuracy : 0.7916627668696499\n",
      "Standard Deviation : 0.013661773524882811\n",
      "Mean precision score : 0.7036840945848555\n",
      "Standard Deviation precision score : 0.03466670737921424\n",
      "Mean recall score : 0.5682751225490196\n",
      "Standard Deviation recall score : 0.09806565207295394\n",
      "Mean f1 score : 0.6221136544039079\n",
      "Standard Deviation f1 score : 0.05272024800208935\n",
      "Mean AUC ROC Score : 0.7295779490945371\n",
      "Standard Deviation AUC ROC Score : 0.035008044417514345\n",
      "*******************************************************************************************\n"
     ]
    }
   ],
   "source": [
    "classifier_dt = DecisionTreeClassifier(criterion='gini', max_depth=6,\n",
    "                                       max_features='auto', min_samples_leaf=1, min_samples_split=14, random_state=123)\n",
    "classifier_dt.fit(X_Train_res,y_Train_res)\n",
    "print(classifier_dt)\n",
    "\n",
    "y_pred=classifier_dt.predict(X_Test)\n",
    "\n",
    "# evaluating the model\n",
    "print(\"Training Accuracy :\", classifier_dt.score(X_Train_res, y_Train_res))\n",
    "print(\"Testing Accuracy :\", classifier_dt.score(X_Test, y_Test))\n",
    "print(\"ROC AUC Score :\", roc_auc_score(y_Test, y_pred))\n",
    "print(\"*******************************************************************************************\")\n",
    "\n",
    "print(\"CONFUSION MATRIX\")\n",
    "labels = ['Non-revenue', 'Revenue']\n",
    "fig = plt.figure()\n",
    "sns.heatmap(confusion_matrix(y_Test,y_pred), annot=True,cmap='Blues',fmt='g',linewidths=2, linecolor='black')\n",
    "plt.xlabel('Predicted')\n",
    "plt.ylabel('Actual')\n",
    "plt.show()\n",
    "print(\"*******************************************************************************************\")\n",
    "print(\"CLASSIFICATION REPORT\")\n",
    "print(classification_report(y_Test,y_pred))\n",
    "print(\"*******************************************************************************************\")\n",
    "print(\"PRECISION RECALL CURVE\")\n",
    "pre_recall_curve = plot_precision_recall_curve(classifier_dt, X_Test, y_Test)\n",
    "plt.show()\n",
    "\n",
    "# cross validation\n",
    "scoring = {'accuracy' : make_scorer(accuracy_score), \n",
    "           'precision' : make_scorer(precision_score),\n",
    "           'recall' : make_scorer(recall_score), \n",
    "           'f1_score' : make_scorer(f1_score),\n",
    "          'AUC ROC score' : make_scorer(roc_auc_score)}\n",
    "cvs = cross_validate(estimator = classifier_dt, X = X_Train_res, y = y_Train_res, cv = 10,scoring=scoring)\n",
    "#print(cvs)\n",
    "print(\"CROSS VALIDATION METRICS\")\n",
    "print(\"Mean Accuracy :\", np.mean(cvs['test_accuracy']))\n",
    "print(\"Standard Deviation :\", np.std(cvs['test_accuracy']))\n",
    "print(\"Mean precision score :\", np.mean(cvs['test_precision']))\n",
    "print(\"Standard Deviation precision score :\", np.std(cvs['test_precision']))\n",
    "print(\"Mean recall score :\", np.mean(cvs['test_recall']))\n",
    "print(\"Standard Deviation recall score :\", np.std(cvs['test_recall']))\n",
    "print(\"Mean f1 score :\", np.mean(cvs['test_f1_score']))\n",
    "print(\"Standard Deviation f1 score :\", np.std(cvs['test_f1_score']))\n",
    "print(\"Mean AUC ROC Score :\", np.mean(cvs['test_AUC ROC score']))\n",
    "print(\"Standard Deviation AUC ROC Score :\", np.std(cvs['test_AUC ROC score']))\n",
    "print(\"*******************************************************************************************\")"
   ]
  },
  {
   "cell_type": "markdown",
   "metadata": {},
   "source": [
    "# RANDOM FOREST"
   ]
  },
  {
   "cell_type": "code",
   "execution_count": 66,
   "metadata": {},
   "outputs": [
    {
     "name": "stdout",
     "output_type": "stream",
     "text": [
      "RandomForestClassifier(bootstrap=True, ccp_alpha=0.0, class_weight=None,\n",
      "                       criterion='gini', max_depth=None, max_features='auto',\n",
      "                       max_leaf_nodes=None, max_samples=None,\n",
      "                       min_impurity_decrease=0.0, min_impurity_split=None,\n",
      "                       min_samples_leaf=1, min_samples_split=2,\n",
      "                       min_weight_fraction_leaf=0.0, n_estimators=200,\n",
      "                       n_jobs=None, oob_score=False, random_state=None,\n",
      "                       verbose=0, warm_start=False)\n",
      "Training Accuracy : 1.0\n",
      "Testing Accuracy : 0.8718572587185726\n",
      "ROC AUC Score : 0.8256450137646172\n",
      "*******************************************************************************************\n",
      "CONFUSION MATRIX\n"
     ]
    },
    {
     "data": {
      "image/png": "[encoded data removed]",
      "text/plain": [
       "<Figure size 432x288 with 2 Axes>"
      ]
     },
     "metadata": {
      "needs_background": "light"
     },
     "output_type": "display_data"
    },
    {
     "name": "stdout",
     "output_type": "stream",
     "text": [
      "*******************************************************************************************\n",
      "CLASSIFICATION REPORT\n",
      "              precision    recall  f1-score   support\n",
      "\n",
      "           0       0.95      0.89      0.92      3127\n",
      "           1       0.56      0.76      0.65       572\n",
      "\n",
      "    accuracy                           0.87      3699\n",
      "   macro avg       0.76      0.83      0.78      3699\n",
      "weighted avg       0.89      0.87      0.88      3699\n",
      "\n",
      "*******************************************************************************************\n",
      "PRECISION RECALL CURVE\n"
     ]
    },
    {
     "data": {
      "image/png": "[encoded data removed]",
      "text/plain": [
       "<Figure size 432x288 with 1 Axes>"
      ]
     },
     "metadata": {
      "needs_background": "light"
     },
     "output_type": "display_data"
    },
    {
     "name": "stdout",
     "output_type": "stream",
     "text": [
      "CROSS VALIDATION METRICS\n",
      "Mean Accuracy : 0.9458995451044224\n",
      "Standard Deviation : 0.022973093283147374\n",
      "Mean precision score : 0.9246436566617243\n",
      "Standard Deviation precision score : 0.01891332297515659\n",
      "Mean recall score : 0.8968887867647058\n",
      "Standard Deviation recall score : 0.07033545365289877\n",
      "Mean f1 score : 0.9093642136897653\n",
      "Standard Deviation f1 score : 0.0409133150741376\n",
      "Mean AUC ROC Score : 0.9322591184240133\n",
      "Standard Deviation AUC ROC Score : 0.03587351511594173\n",
      "*******************************************************************************************\n"
     ]
    }
   ],
   "source": [
    "classifier_rf = RandomForestClassifier(n_estimators=200)\n",
    "classifier_rf.fit(X_Train_res,y_Train_res)\n",
    "print(classifier_rf)\n",
    "\n",
    "y_pred=classifier_rf.predict(X_Test)\n",
    "\n",
    "# evaluating the model\n",
    "print(\"Training Accuracy :\", classifier_rf.score(X_Train_res, y_Train_res))\n",
    "print(\"Testing Accuracy :\", classifier_rf.score(X_Test, y_Test))\n",
    "print(\"ROC AUC Score :\", roc_auc_score(y_Test, y_pred))\n",
    "print(\"*******************************************************************************************\")\n",
    "\n",
    "print(\"CONFUSION MATRIX\")\n",
    "labels = ['Non-revenue', 'Revenue']\n",
    "fig = plt.figure()\n",
    "sns.heatmap(confusion_matrix(y_Test,y_pred), annot=True,cmap='Blues',fmt='g',linewidths=2, linecolor='black')\n",
    "plt.xlabel('Predicted')\n",
    "plt.ylabel('Actual')\n",
    "plt.show()\n",
    "print(\"*******************************************************************************************\")\n",
    "print(\"CLASSIFICATION REPORT\")\n",
    "print(classification_report(y_Test,y_pred))\n",
    "print(\"*******************************************************************************************\")\n",
    "print(\"PRECISION RECALL CURVE\")\n",
    "pre_recall_curve = plot_precision_recall_curve(classifier_rf, X_Test, y_Test)\n",
    "plt.show()\n",
    "\n",
    "\n",
    "# cross validation\n",
    "scoring = {'accuracy' : make_scorer(accuracy_score), \n",
    "           'precision' : make_scorer(precision_score),\n",
    "           'recall' : make_scorer(recall_score), \n",
    "           'f1_score' : make_scorer(f1_score),\n",
    "          'AUC ROC score' : make_scorer(roc_auc_score)}\n",
    "cvs = cross_validate(estimator = classifier_rf, X = X_Train_res, y = y_Train_res, cv = 10,scoring=scoring)\n",
    "#print(cvs)\n",
    "print(\"CROSS VALIDATION METRICS\")\n",
    "print(\"Mean Accuracy :\", np.mean(cvs['test_accuracy']))\n",
    "print(\"Standard Deviation :\", np.std(cvs['test_accuracy']))\n",
    "print(\"Mean precision score :\", np.mean(cvs['test_precision']))\n",
    "print(\"Standard Deviation precision score :\", np.std(cvs['test_precision']))\n",
    "print(\"Mean recall score :\", np.mean(cvs['test_recall']))\n",
    "print(\"Standard Deviation recall score :\", np.std(cvs['test_recall']))\n",
    "print(\"Mean f1 score :\", np.mean(cvs['test_f1_score']))\n",
    "print(\"Standard Deviation f1 score :\", np.std(cvs['test_f1_score']))\n",
    "print(\"Mean AUC ROC Score :\", np.mean(cvs['test_AUC ROC score']))\n",
    "print(\"Standard Deviation AUC ROC Score :\", np.std(cvs['test_AUC ROC score']))\n",
    "print(\"*******************************************************************************************\")"
   ]
  },
  {
   "cell_type": "markdown",
   "metadata": {},
   "source": [
    "# RF Hyper-parameter tuning"
   ]
  },
  {
   "cell_type": "code",
   "execution_count": 67,
   "metadata": {},
   "outputs": [
    {
     "name": "stdout",
     "output_type": "stream",
     "text": [
      "Parameters currently in use:\n",
      "\n",
      "{'bootstrap': True, 'ccp_alpha': 0.0, 'class_weight': None, 'criterion': 'gini', 'max_depth': None, 'max_features': 'auto', 'max_leaf_nodes': None, 'max_samples': None, 'min_impurity_decrease': 0.0, 'min_impurity_split': None, 'min_samples_leaf': 1, 'min_samples_split': 2, 'min_weight_fraction_leaf': 0.0, 'n_estimators': 200, 'n_jobs': None, 'oob_score': False, 'random_state': None, 'verbose': 0, 'warm_start': False}\n",
      "\n",
      "\n",
      "{'n_estimators': [50, 112, 175, 237, 300], 'max_features': ['auto', 'sqrt'], 'max_depth': [10, 12, 15, 17, 20, None], 'min_samples_split': [2, 5, 10, 15], 'min_samples_leaf': [1, 2, 4, 10], 'bootstrap': [True, False]}\n",
      "Fitting 3 folds for each of 100 candidates, totalling 300 fits\n"
     ]
    },
    {
     "name": "stderr",
     "output_type": "stream",
     "text": [
      "[Parallel(n_jobs=-1)]: Using backend LokyBackend with 4 concurrent workers.\n",
      "[Parallel(n_jobs=-1)]: Done  33 tasks      | elapsed:   13.0s\n",
      "[Parallel(n_jobs=-1)]: Done 154 tasks      | elapsed:   43.3s\n",
      "[Parallel(n_jobs=-1)]: Done 300 out of 300 | elapsed:  1.4min finished\n"
     ]
    },
    {
     "name": "stdout",
     "output_type": "stream",
     "text": [
      "*******************************************************************************************\n",
      "Best Hyper Parameters: {'n_estimators': 175, 'min_samples_split': 5, 'min_samples_leaf': 1, 'max_features': 'auto', 'max_depth': 17, 'bootstrap': False}\n",
      "Best Accuracy Score: 0.940598154244107\n",
      "Best Estimators: RandomForestClassifier(bootstrap=False, ccp_alpha=0.0, class_weight=None,\n",
      "                       criterion='gini', max_depth=17, max_features='auto',\n",
      "                       max_leaf_nodes=None, max_samples=None,\n",
      "                       min_impurity_decrease=0.0, min_impurity_split=None,\n",
      "                       min_samples_leaf=1, min_samples_split=5,\n",
      "                       min_weight_fraction_leaf=0.0, n_estimators=175,\n",
      "                       n_jobs=None, oob_score=False, random_state=None,\n",
      "                       verbose=0, warm_start=False)\n",
      "*******************************************************************************************\n"
     ]
    }
   ],
   "source": [
    "## Hyper Parameter Tuning\n",
    "print('Parameters currently in use:\\n')\n",
    "print(classifier_rf.get_params())\n",
    "print(\"\\n\")\n",
    "\n",
    "# Number of trees in random forest\n",
    "n_estimators = [int(x) for x in np.linspace(start = 50, stop = 300, num = 5)] ## play with start and stop\n",
    "\n",
    "# Number of features to consider at every split\n",
    "max_features = ['auto', 'sqrt']\n",
    "\n",
    "# Maximum number of levels in tree\n",
    "max_depth = [int(x) for x in np.linspace(10, 20,num = 5)] ## change 10,20 and 2\n",
    "max_depth.append(None)\n",
    "\n",
    "# Minimum number of samples required to split a node\n",
    "min_samples_split = [2, 5, 10,15]\n",
    "\n",
    "# Minimum number of samples required at each leaf node\n",
    "min_samples_leaf = [1, 2, 4,10]\n",
    "\n",
    "# Method of selecting samples for training each tree\n",
    "bootstrap = [True, False]\n",
    "\n",
    "# Create the random grid\n",
    "random_grid = {'n_estimators': n_estimators,\n",
    "               'max_features': max_features,\n",
    "               'max_depth': max_depth,\n",
    "               'min_samples_split': min_samples_split,\n",
    "               'min_samples_leaf': min_samples_leaf,\n",
    "               'bootstrap': bootstrap}\n",
    "\n",
    "print(random_grid)\n",
    "\n",
    "from sklearn.model_selection import RandomizedSearchCV\n",
    "\n",
    "rf_random = RandomizedSearchCV(estimator = classifier_rf, param_distributions = random_grid, n_iter = 100, cv = 3, \n",
    "                               verbose=2, random_state=42, n_jobs = -1)\n",
    "# Fit the random search model\n",
    "rf_random.fit(X_Train_res, y_Train_res)\n",
    "print(\"*******************************************************************************************\")\n",
    "print(\"Best Hyper Parameters:\",rf_random.best_params_)\n",
    "print(\"Best Accuracy Score:\",rf_random.best_score_)\n",
    "print(\"Best Estimators:\",rf_random.best_estimator_)\n",
    "print(\"*******************************************************************************************\")"
   ]
  },
  {
   "cell_type": "markdown",
   "metadata": {},
   "source": [
    "# RF Hyper-parameter tuned model"
   ]
  },
  {
   "cell_type": "code",
   "execution_count": 68,
   "metadata": {},
   "outputs": [
    {
     "name": "stdout",
     "output_type": "stream",
     "text": [
      "RandomForestClassifier(bootstrap=False, ccp_alpha=0.0, class_weight=None,\n",
      "                       criterion='gini', max_depth=17, max_features='auto',\n",
      "                       max_leaf_nodes=None, max_samples=None,\n",
      "                       min_impurity_decrease=0.0, min_impurity_split=None,\n",
      "                       min_samples_leaf=1, min_samples_split=5,\n",
      "                       min_weight_fraction_leaf=0.0, n_estimators=175,\n",
      "                       n_jobs=None, oob_score=False, random_state=None,\n",
      "                       verbose=0, warm_start=False)\n",
      "Training Accuracy : 0.9966260995300639\n",
      "Testing Accuracy : 0.8740200054068668\n",
      "ROC AUC Score : 0.8290668797144652\n",
      "*******************************************************************************************\n",
      "CONFUSION MATRIX\n"
     ]
    },
    {
     "data": {
      "image/png": "[encoded data removed]",
      "text/plain": [
       "<Figure size 432x288 with 2 Axes>"
      ]
     },
     "metadata": {
      "needs_background": "light"
     },
     "output_type": "display_data"
    },
    {
     "name": "stdout",
     "output_type": "stream",
     "text": [
      "*******************************************************************************************\n",
      "CLASSIFICATION REPORT\n",
      "              precision    recall  f1-score   support\n",
      "\n",
      "           0       0.95      0.89      0.92      3127\n",
      "           1       0.57      0.76      0.65       572\n",
      "\n",
      "    accuracy                           0.87      3699\n",
      "   macro avg       0.76      0.83      0.79      3699\n",
      "weighted avg       0.89      0.87      0.88      3699\n",
      "\n",
      "*******************************************************************************************\n",
      "PRECISION RECALL CURVE\n"
     ]
    },
    {
     "data": {
      "image/png": "[encoded data removed]",
      "text/plain": [
       "<Figure size 432x288 with 1 Axes>"
      ]
     },
     "metadata": {
      "needs_background": "light"
     },
     "output_type": "display_data"
    },
    {
     "name": "stdout",
     "output_type": "stream",
     "text": [
      "CROSS VALIDATION METRICS\n",
      "Mean Accuracy : 0.9457789178426614\n",
      "Standard Deviation : 0.02182313764511166\n",
      "Mean precision score : 0.9243954855697762\n",
      "Standard Deviation precision score : 0.02014709195215445\n",
      "Mean recall score : 0.8968949142156862\n",
      "Standard Deviation recall score : 0.06610165639362582\n",
      "Mean f1 score : 0.9093632452005845\n",
      "Standard Deviation f1 score : 0.03873835084220197\n",
      "Mean AUC ROC Score : 0.9321750741355663\n",
      "Standard Deviation AUC ROC Score : 0.03379610780093193\n",
      "*******************************************************************************************\n"
     ]
    }
   ],
   "source": [
    "classifier_rf = RandomForestClassifier(n_estimators=175,min_samples_split=5,min_samples_leaf=1,max_features='auto',max_depth=\n",
    "                                       17,bootstrap=False)\n",
    "classifier_rf.fit(X_Train_res,y_Train_res)\n",
    "print(classifier_rf)\n",
    "\n",
    "y_pred=classifier_rf.predict(X_Test)\n",
    "\n",
    "# evaluating the model\n",
    "print(\"Training Accuracy :\", classifier_rf.score(X_Train_res, y_Train_res))\n",
    "print(\"Testing Accuracy :\", classifier_rf.score(X_Test, y_Test))\n",
    "print(\"ROC AUC Score :\", roc_auc_score(y_Test, y_pred))\n",
    "print(\"*******************************************************************************************\")\n",
    "\n",
    "print(\"CONFUSION MATRIX\")\n",
    "fig = plt.figure()\n",
    "sns.heatmap(confusion_matrix(y_Test,y_pred), annot=True,cmap='Blues',fmt='g',linewidths=2, linecolor='black')\n",
    "plt.xlabel('Predicted')\n",
    "plt.ylabel('Actual')\n",
    "plt.show()\n",
    "print(\"*******************************************************************************************\")\n",
    "print(\"CLASSIFICATION REPORT\")\n",
    "print(classification_report(y_Test,y_pred))\n",
    "print(\"*******************************************************************************************\")\n",
    "print(\"PRECISION RECALL CURVE\")\n",
    "pre_recall_curve = plot_precision_recall_curve(classifier_rf, X_Test, y_Test)\n",
    "plt.show()\n",
    "\n",
    "# cross validation\n",
    "scoring = {'accuracy' : make_scorer(accuracy_score), \n",
    "           'precision' : make_scorer(precision_score),\n",
    "           'recall' : make_scorer(recall_score), \n",
    "           'f1_score' : make_scorer(f1_score),\n",
    "          'AUC ROC score' : make_scorer(roc_auc_score)}\n",
    "cvs = cross_validate(estimator = classifier_rf, X = X_Train_res, y = y_Train_res, cv = 10,scoring=scoring)\n",
    "#print(cvs)\n",
    "print(\"CROSS VALIDATION METRICS\")\n",
    "print(\"Mean Accuracy :\", np.mean(cvs['test_accuracy']))\n",
    "print(\"Standard Deviation :\", np.std(cvs['test_accuracy']))\n",
    "print(\"Mean precision score :\", np.mean(cvs['test_precision']))\n",
    "print(\"Standard Deviation precision score :\", np.std(cvs['test_precision']))\n",
    "print(\"Mean recall score :\", np.mean(cvs['test_recall']))\n",
    "print(\"Standard Deviation recall score :\", np.std(cvs['test_recall']))\n",
    "print(\"Mean f1 score :\", np.mean(cvs['test_f1_score']))\n",
    "print(\"Standard Deviation f1 score :\", np.std(cvs['test_f1_score']))\n",
    "print(\"Mean AUC ROC Score :\", np.mean(cvs['test_AUC ROC score']))\n",
    "print(\"Standard Deviation AUC ROC Score :\", np.std(cvs['test_AUC ROC score']))\n",
    "print(\"*******************************************************************************************\")"
   ]
  },
  {
   "cell_type": "markdown",
   "metadata": {},
   "source": [
    "# XGBOOST"
   ]
  },
  {
   "cell_type": "code",
   "execution_count": 72,
   "metadata": {},
   "outputs": [
    {
     "name": "stdout",
     "output_type": "stream",
     "text": [
      "XGBClassifier(base_score=0.5, booster='gbtree', colsample_bylevel=1,\n",
      "              colsample_bynode=1, colsample_bytree=1, gamma=0,\n",
      "              learning_rate=0.1, max_delta_step=0, max_depth=3,\n",
      "              min_child_weight=1, missing=None, n_estimators=100, n_jobs=1,\n",
      "              nthread=None, objective='binary:logistic', random_state=0,\n",
      "              reg_alpha=0, reg_lambda=1, scale_pos_weight=1, seed=None,\n",
      "              silent=None, subsample=1, verbosity=1)\n",
      "Training Accuracy : 0.9398722737679238\n",
      "Testing Accuracy : 0.874831035414977\n",
      "ROC AUC Score : 0.824546975250525\n",
      "*******************************************************************************************\n",
      "CONFUSION MATRIX\n"
     ]
    },
    {
     "data": {
      "image/png": "[encoded data removed]",
      "text/plain": [
       "<Figure size 432x288 with 2 Axes>"
      ]
     },
     "metadata": {
      "needs_background": "light"
     },
     "output_type": "display_data"
    },
    {
     "name": "stdout",
     "output_type": "stream",
     "text": [
      "*******************************************************************************************\n",
      "CLASSIFICATION REPORT\n",
      "              precision    recall  f1-score   support\n",
      "\n",
      "           0       0.95      0.90      0.92      3127\n",
      "           1       0.57      0.75      0.65       572\n",
      "\n",
      "    accuracy                           0.87      3699\n",
      "   macro avg       0.76      0.82      0.79      3699\n",
      "weighted avg       0.89      0.87      0.88      3699\n",
      "\n",
      "*******************************************************************************************\n",
      "PRECISION RECALL CURVE\n"
     ]
    },
    {
     "data": {
      "image/png": "[encoded data removed]",
      "text/plain": [
       "<Figure size 432x288 with 1 Axes>"
      ]
     },
     "metadata": {
      "needs_background": "light"
     },
     "output_type": "display_data"
    },
    {
     "name": "stdout",
     "output_type": "stream",
     "text": [
      "CROSS VALIDATION METRICS\n",
      "Mean Accuracy : 0.9321627160027323\n",
      "Standard Deviation : 0.021290178727092494\n",
      "Mean precision score : 0.9205045508262\n",
      "Standard Deviation precision score : 0.019697597603000244\n",
      "Mean recall score : 0.8526424632352942\n",
      "Standard Deviation recall score : 0.06188902647207748\n",
      "Mean f1 score : 0.8843879472607379\n",
      "Standard Deviation f1 score : 0.03925768893300312\n",
      "Mean AUC ROC Score : 0.9100496061063609\n",
      "Standard Deviation AUC ROC Score : 0.03237220916897917\n",
      "*******************************************************************************************\n"
     ]
    }
   ],
   "source": [
    "from xgboost import XGBClassifier\n",
    "classifier_xgb = XGBClassifier()\n",
    "classifier_xgb.fit(X_Train_res,y_Train_res)\n",
    "print(classifier_xgb)\n",
    "\n",
    "y_pred=classifier_xgb.predict(X_Test.values)\n",
    "\n",
    "# evaluating the model\n",
    "print(\"Training Accuracy :\", classifier_xgb.score(X_Train_res, y_Train_res))\n",
    "print(\"Testing Accuracy :\", classifier_xgb.score(X_Test.values, y_Test))\n",
    "print(\"ROC AUC Score :\", roc_auc_score(y_Test, y_pred))\n",
    "print(\"*******************************************************************************************\")\n",
    "\n",
    "print(\"CONFUSION MATRIX\")\n",
    "sns.heatmap(confusion_matrix(y_Test,y_pred), annot=True,cmap='Blues',fmt='g',linewidths=2, linecolor='black')\n",
    "plt.xlabel('Predicted')\n",
    "plt.ylabel('Actual')\n",
    "plt.show()\n",
    "print(\"*******************************************************************************************\")\n",
    "print(\"CLASSIFICATION REPORT\")\n",
    "print(classification_report(y_Test,y_pred))\n",
    "print(\"*******************************************************************************************\")\n",
    "print(\"PRECISION RECALL CURVE\")\n",
    "pre_recall_curve = plot_precision_recall_curve(classifier_xgb, X_Test.values, y_Test)\n",
    "plt.show()\n",
    "\n",
    "# cross validation\n",
    "scoring = {'accuracy' : make_scorer(accuracy_score), \n",
    "           'precision' : make_scorer(precision_score),\n",
    "           'recall' : make_scorer(recall_score), \n",
    "           'f1_score' : make_scorer(f1_score),\n",
    "          'AUC ROC score' : make_scorer(roc_auc_score)}\n",
    "cvs = cross_validate(estimator = classifier_xgb, X = X_Train_res, y = y_Train_res, cv = 10,scoring=scoring)\n",
    "#print(cvs)\n",
    "print(\"CROSS VALIDATION METRICS\")\n",
    "print(\"Mean Accuracy :\", np.mean(cvs['test_accuracy']))\n",
    "print(\"Standard Deviation :\", np.std(cvs['test_accuracy']))\n",
    "print(\"Mean precision score :\", np.mean(cvs['test_precision']))\n",
    "print(\"Standard Deviation precision score :\", np.std(cvs['test_precision']))\n",
    "print(\"Mean recall score :\", np.mean(cvs['test_recall']))\n",
    "print(\"Standard Deviation recall score :\", np.std(cvs['test_recall']))\n",
    "print(\"Mean f1 score :\", np.mean(cvs['test_f1_score']))\n",
    "print(\"Standard Deviation f1 score :\", np.std(cvs['test_f1_score']))\n",
    "print(\"Mean AUC ROC Score :\", np.mean(cvs['test_AUC ROC score']))\n",
    "print(\"Standard Deviation AUC ROC Score :\", np.std(cvs['test_AUC ROC score']))\n",
    "print(\"*******************************************************************************************\")"
   ]
  },
  {
   "cell_type": "markdown",
   "metadata": {},
   "source": [
    "# XGBOOST Hyper-parameter tuning"
   ]
  },
  {
   "cell_type": "code",
   "execution_count": 73,
   "metadata": {},
   "outputs": [
    {
     "name": "stdout",
     "output_type": "stream",
     "text": [
      "GridSearchCV(cv=10, error_score=nan,\n",
      "             estimator=XGBClassifier(base_score=0.5, booster='gbtree',\n",
      "                                     colsample_bylevel=1, colsample_bynode=1,\n",
      "                                     colsample_bytree=1, gamma=0,\n",
      "                                     learning_rate=0.1, max_delta_step=0,\n",
      "                                     max_depth=3, min_child_weight=1,\n",
      "                                     missing=None, n_estimators=100, n_jobs=1,\n",
      "                                     nthread=None, objective='binary:logistic',\n",
      "                                     random_state=0, reg_alpha=0, reg_lambda=1,\n",
      "                                     scale_pos_weight=1, seed=None, silent=None,\n",
      "                                     subsample=1, verbosity=1),\n",
      "             iid='deprecated', n_jobs=-1,\n",
      "             param_grid=[{'learning_rate': [1, 0.1, 0.01, 0.015, 0.025, 0.05],\n",
      "                          'n_estimators': [100, 150, 200], 'n_jobs': [-1]}],\n",
      "             pre_dispatch='2*n_jobs', refit=True, return_train_score=False,\n",
      "             scoring=None, verbose=0)\n",
      "*******************************************************************************************\n",
      "Best Hyper Parameters: {'learning_rate': 0.1, 'n_estimators': 200, 'n_jobs': -1}\n",
      "Best Accuracy Score: 0.9361392009533913\n",
      "Best Estimators: XGBClassifier(base_score=0.5, booster='gbtree', colsample_bylevel=1,\n",
      "              colsample_bynode=1, colsample_bytree=1, gamma=0,\n",
      "              learning_rate=0.1, max_delta_step=0, max_depth=3,\n",
      "              min_child_weight=1, missing=None, n_estimators=200, n_jobs=-1,\n",
      "              nthread=None, objective='binary:logistic', random_state=0,\n",
      "              reg_alpha=0, reg_lambda=1, scale_pos_weight=1, seed=None,\n",
      "              silent=None, subsample=1, verbosity=1)\n",
      "*******************************************************************************************\n"
     ]
    }
   ],
   "source": [
    "base_classifier = XGBClassifier()\n",
    "params = [\n",
    "    {\n",
    "   'n_estimators': [100,150,200],\n",
    "          'learning_rate': [1,0.1,0.01,0.015,0.025,0.05],\n",
    "        'n_jobs':[-1]\n",
    "        \n",
    "    }\n",
    "]\n",
    "\n",
    "best_classifier = GridSearchCV(base_classifier, param_grid=params, n_jobs=-1,cv=10)\n",
    "\n",
    "#Learning\n",
    "best_classifier.fit(X_Train_res,y_Train_res)\n",
    "print(best_classifier)\n",
    "#The best hyper parameters set\n",
    "print(\"*******************************************************************************************\")\n",
    "print(\"Best Hyper Parameters:\",best_classifier.best_params_)\n",
    "print(\"Best Accuracy Score:\",best_classifier.best_score_)\n",
    "print(\"Best Estimators:\",best_classifier.best_estimator_)\n",
    "print(\"*******************************************************************************************\")"
   ]
  },
  {
   "cell_type": "markdown",
   "metadata": {},
   "source": [
    "# XGBOOST Hyper-parameter tuned model"
   ]
  },
  {
   "cell_type": "code",
   "execution_count": 74,
   "metadata": {},
   "outputs": [
    {
     "name": "stdout",
     "output_type": "stream",
     "text": [
      "XGBClassifier(base_score=0.5, booster='gbtree', colsample_bylevel=1,\n",
      "              colsample_bynode=1, colsample_bytree=1, gamma=0,\n",
      "              learning_rate=0.1, max_delta_step=0, max_depth=3,\n",
      "              min_child_weight=1, missing=None, n_estimators=200, n_jobs=-1,\n",
      "              nthread=None, objective='binary:logistic', random_state=0,\n",
      "              reg_alpha=0, reg_lambda=1, scale_pos_weight=1, seed=None,\n",
      "              silent=None, subsample=1, verbosity=1)\n",
      "Training Accuracy : 0.9507169538498614\n",
      "Testing Accuracy : 0.8751013787510138\n",
      "ROC AUC Score : 0.8232784164987555\n",
      "*******************************************************************************************\n",
      "CONFUSION MATRIX\n"
     ]
    },
    {
     "data": {
      "image/png": "[encoded data removed]",
      "text/plain": [
       "<Figure size 432x288 with 2 Axes>"
      ]
     },
     "metadata": {
      "needs_background": "light"
     },
     "output_type": "display_data"
    },
    {
     "name": "stdout",
     "output_type": "stream",
     "text": [
      "*******************************************************************************************\n",
      "CLASSIFICATION REPORT\n",
      "              precision    recall  f1-score   support\n",
      "\n",
      "           0       0.95      0.90      0.92      3127\n",
      "           1       0.57      0.75      0.65       572\n",
      "\n",
      "    accuracy                           0.88      3699\n",
      "   macro avg       0.76      0.82      0.79      3699\n",
      "weighted avg       0.89      0.88      0.88      3699\n",
      "\n",
      "*******************************************************************************************\n",
      "PRECISION RECALL CURVE\n"
     ]
    },
    {
     "data": {
      "image/png": "[encoded data removed]",
      "text/plain": [
       "<Figure size 432x288 with 1 Axes>"
      ]
     },
     "metadata": {
      "needs_background": "light"
     },
     "output_type": "display_data"
    },
    {
     "name": "stdout",
     "output_type": "stream",
     "text": [
      "CROSS VALIDATION METRICS\n",
      "Mean Accuracy : 0.9361392009533913\n",
      "Standard Deviation : 0.023432336706950895\n",
      "Mean precision score : 0.9223367967239311\n",
      "Standard Deviation precision score : 0.020356141346406367\n",
      "Mean recall score : 0.8651577818627452\n",
      "Standard Deviation recall score : 0.07517636773543315\n",
      "Mean f1 score : 0.8912494391510613\n",
      "Standard Deviation f1 score : 0.04348419086508033\n",
      "Mean AUC ROC Score : 0.9163931614964383\n",
      "Standard Deviation AUC ROC Score : 0.037504555687855004\n",
      "*******************************************************************************************\n"
     ]
    }
   ],
   "source": [
    "classifier_xgb = XGBClassifier(learning_rate=0.1, n_estimators=200, n_jobs=-1)\n",
    "classifier_xgb.fit(X_Train_res,y_Train_res)\n",
    "print(classifier_xgb)\n",
    "\n",
    "y_pred=classifier_xgb.predict(X_Test.values)\n",
    "\n",
    "# evaluating the model\n",
    "print(\"Training Accuracy :\", classifier_xgb.score(X_Train_res, y_Train_res))\n",
    "print(\"Testing Accuracy :\", classifier_xgb.score(X_Test.values, y_Test))\n",
    "print(\"ROC AUC Score :\", roc_auc_score(y_Test, y_pred))\n",
    "print(\"*******************************************************************************************\")\n",
    "\n",
    "print(\"CONFUSION MATRIX\")\n",
    "sns.heatmap(confusion_matrix(y_Test,y_pred), annot=True,cmap='Blues',fmt='g',linewidths=2, linecolor='black')\n",
    "plt.xlabel('Predicted')\n",
    "plt.ylabel('Actual')\n",
    "plt.show()\n",
    "print(\"*******************************************************************************************\")\n",
    "print(\"CLASSIFICATION REPORT\")\n",
    "print(classification_report(y_Test,y_pred))\n",
    "print(\"*******************************************************************************************\")\n",
    "print(\"PRECISION RECALL CURVE\")\n",
    "pre_recall_curve = plot_precision_recall_curve(classifier_xgb, X_Test.values, y_Test)\n",
    "plt.show()\n",
    "\n",
    "# cross validation\n",
    "scoring = {'accuracy' : make_scorer(accuracy_score), \n",
    "           'precision' : make_scorer(precision_score),\n",
    "           'recall' : make_scorer(recall_score), \n",
    "           'f1_score' : make_scorer(f1_score),\n",
    "          'AUC ROC score' : make_scorer(roc_auc_score)}\n",
    "cvs = cross_validate(estimator = classifier_xgb, X = X_Train_res, y = y_Train_res, cv = 10,scoring=scoring)\n",
    "#print(cvs)\n",
    "print(\"CROSS VALIDATION METRICS\")\n",
    "print(\"Mean Accuracy :\", np.mean(cvs['test_accuracy']))\n",
    "print(\"Standard Deviation :\", np.std(cvs['test_accuracy']))\n",
    "print(\"Mean precision score :\", np.mean(cvs['test_precision']))\n",
    "print(\"Standard Deviation precision score :\", np.std(cvs['test_precision']))\n",
    "print(\"Mean recall score :\", np.mean(cvs['test_recall']))\n",
    "print(\"Standard Deviation recall score :\", np.std(cvs['test_recall']))\n",
    "print(\"Mean f1 score :\", np.mean(cvs['test_f1_score']))\n",
    "print(\"Standard Deviation f1 score :\", np.std(cvs['test_f1_score']))\n",
    "print(\"Mean AUC ROC Score :\", np.mean(cvs['test_AUC ROC score']))\n",
    "print(\"Standard Deviation AUC ROC Score :\", np.std(cvs['test_AUC ROC score']))\n",
    "print(\"*******************************************************************************************\")"
   ]
  },
  {
   "cell_type": "markdown",
   "metadata": {},
   "source": [
    "# VOTING CLASSIFIER"
   ]
  },
  {
   "cell_type": "code",
   "execution_count": 80,
   "metadata": {},
   "outputs": [
    {
     "name": "stdout",
     "output_type": "stream",
     "text": [
      "<bound method VotingClassifier.fit of VotingClassifier(estimators=[('dt',\n",
      "                              DecisionTreeClassifier(ccp_alpha=0.0,\n",
      "                                                     class_weight=None,\n",
      "                                                     criterion='gini',\n",
      "                                                     max_depth=6,\n",
      "                                                     max_features='auto',\n",
      "                                                     max_leaf_nodes=None,\n",
      "                                                     min_impurity_decrease=0.0,\n",
      "                                                     min_impurity_split=None,\n",
      "                                                     min_samples_leaf=1,\n",
      "                                                     min_samples_split=14,\n",
      "                                                     min_weight_fraction_leaf=0.0,\n",
      "                                                     presort='deprecated',\n",
      "                                                     random_state=123,\n",
      "                                                     splitter='best')),\n",
      "                             ('svm',\n",
      "                              SVC(C=100...\n",
      "                                                     random_state=None,\n",
      "                                                     verbose=0,\n",
      "                                                     warm_start=False)),\n",
      "                             ('lr',\n",
      "                              LogisticRegression(C=1, class_weight=None,\n",
      "                                                 dual=False, fit_intercept=True,\n",
      "                                                 intercept_scaling=1,\n",
      "                                                 l1_ratio=None, max_iter=100,\n",
      "                                                 multi_class='auto',\n",
      "                                                 n_jobs=None, penalty='l2',\n",
      "                                                 random_state=None,\n",
      "                                                 solver='newton-cg', tol=0.0001,\n",
      "                                                 verbose=0,\n",
      "                                                 warm_start=False))],\n",
      "                 flatten_transform=True, n_jobs=None, voting='soft',\n",
      "                 weights=None)>\n",
      "Training Accuracy : 0.9936136883961924\n",
      "Testing Accuracy : 0.8491484184914841\n",
      "ROC AUC Score : 0.8143562944890095\n",
      "*******************************************************************************************\n",
      "CONFUSION MATRIX\n"
     ]
    },
    {
     "data": {
      "image/png": "[encoded data removed]",
      "text/plain": [
       "<Figure size 432x288 with 2 Axes>"
      ]
     },
     "metadata": {
      "needs_background": "light"
     },
     "output_type": "display_data"
    },
    {
     "name": "stdout",
     "output_type": "stream",
     "text": [
      "*******************************************************************************************\n",
      "CLASSIFICATION REPORT\n",
      "              precision    recall  f1-score   support\n",
      "\n",
      "           0       0.95      0.86      0.91      3127\n",
      "           1       0.51      0.76      0.61       572\n",
      "\n",
      "    accuracy                           0.85      3699\n",
      "   macro avg       0.73      0.81      0.76      3699\n",
      "weighted avg       0.88      0.85      0.86      3699\n",
      "\n",
      "*******************************************************************************************\n",
      "PRECISION RECALL CURVE\n"
     ]
    },
    {
     "data": {
      "image/png": "[encoded data removed]",
      "text/plain": [
       "<Figure size 432x288 with 1 Axes>"
      ]
     },
     "metadata": {
      "needs_background": "light"
     },
     "output_type": "display_data"
    },
    {
     "name": "stdout",
     "output_type": "stream",
     "text": [
      "CROSS VALIDATION METRICS\n",
      "Mean Accuracy : 0.9505976136148938\n",
      "Standard Deviation : 0.01398506406373488\n",
      "Mean precision score : 0.9347851966121417\n",
      "Standard Deviation precision score : 0.015202812165616992\n",
      "Mean recall score : 0.9024157475490195\n",
      "Standard Deviation recall score : 0.04282359719457717\n",
      "Mean f1 score : 0.9178045312098242\n",
      "Standard Deviation f1 score : 0.02490338048854583\n",
      "Mean AUC ROC Score : 0.9371977237972337\n",
      "Standard Deviation AUC ROC Score : 0.02168624213973031\n",
      "*******************************************************************************************\n"
     ]
    }
   ],
   "source": [
    "lr_vc = LogisticRegression(C=1,solver='newton-cg')\n",
    "svm_vc=SVC(C=100,gamma=1,kernel='rbf',probability=True)\n",
    "knn_vc=KNeighborsClassifier(algorithm='auto',leaf_size=30,n_neighbors=5,weights='distance')\n",
    "nb_vc=GaussianNB()\n",
    "dt_vc=DecisionTreeClassifier(criterion='gini', max_depth=6,\n",
    "                                       max_features='auto', min_samples_leaf=1, min_samples_split=14, random_state=123)\n",
    "rf_vc=RandomForestClassifier(n_estimators=175,min_samples_split=5,min_samples_leaf=1,max_features='auto',max_depth=\n",
    "                                       17,bootstrap=False)\n",
    "\n",
    "evc = VotingClassifier(estimators= [('dt',dt_vc),('svm',svm_vc),('knn',knn_vc),('nb',nb_vc),('rf',rf_vc),('lr',lr_vc)], \n",
    "                       voting = 'soft')\n",
    "evc.fit(X_Train_res,y_Train_res)\n",
    "print(evc.fit)\n",
    "\n",
    "\n",
    "y_pred=evc.predict(X_Test)\n",
    "\n",
    "# evaluating the model\n",
    "print(\"Training Accuracy :\", evc.score(X_Train_res, y_Train_res))\n",
    "print(\"Testing Accuracy :\", evc.score(X_Test, y_Test))\n",
    "print(\"ROC AUC Score :\", roc_auc_score(y_Test, y_pred))\n",
    "print(\"*******************************************************************************************\")\n",
    "\n",
    "print(\"CONFUSION MATRIX\")\n",
    "sns.heatmap(confusion_matrix(y_Test,y_pred), annot=True,cmap='Blues',fmt='g',linewidths=2, linecolor='black')\n",
    "plt.xlabel('Predicted')\n",
    "plt.ylabel('Actual')\n",
    "plt.show()\n",
    "print(\"*******************************************************************************************\")\n",
    "print(\"CLASSIFICATION REPORT\")\n",
    "print(classification_report(y_Test,y_pred))\n",
    "print(\"*******************************************************************************************\")\n",
    "print(\"PRECISION RECALL CURVE\")\n",
    "pre_recall_curve = plot_precision_recall_curve(evc, X_Test, y_Test)\n",
    "plt.show()\n",
    "\n",
    "# cross validation\n",
    "scoring = {'accuracy' : make_scorer(accuracy_score), \n",
    "           'precision' : make_scorer(precision_score),\n",
    "           'recall' : make_scorer(recall_score), \n",
    "           'f1_score' : make_scorer(f1_score),\n",
    "          'AUC ROC score' : make_scorer(roc_auc_score)}\n",
    "cvs = cross_validate(estimator = evc, X = X_Train_res, y = y_Train_res, cv = 10,scoring=scoring)\n",
    "#print(cvs)\n",
    "print(\"CROSS VALIDATION METRICS\")\n",
    "print(\"Mean Accuracy :\", np.mean(cvs['test_accuracy']))\n",
    "print(\"Standard Deviation :\", np.std(cvs['test_accuracy']))\n",
    "print(\"Mean precision score :\", np.mean(cvs['test_precision']))\n",
    "print(\"Standard Deviation precision score :\", np.std(cvs['test_precision']))\n",
    "print(\"Mean recall score :\", np.mean(cvs['test_recall']))\n",
    "print(\"Standard Deviation recall score :\", np.std(cvs['test_recall']))\n",
    "print(\"Mean f1 score :\", np.mean(cvs['test_f1_score']))\n",
    "print(\"Standard Deviation f1 score :\", np.std(cvs['test_f1_score']))\n",
    "print(\"Mean AUC ROC Score :\", np.mean(cvs['test_AUC ROC score']))\n",
    "print(\"Standard Deviation AUC ROC Score :\", np.std(cvs['test_AUC ROC score']))\n",
    "print(\"*******************************************************************************************\")"
   ]
  },
  {
   "cell_type": "markdown",
   "metadata": {},
   "source": [
    "# STACKING"
   ]
  },
  {
   "cell_type": "code",
   "execution_count": 82,
   "metadata": {},
   "outputs": [
    {
     "data": {
      "image/png": "[encoded data removed]",
      "text/plain": [
       "<Figure size 432x288 with 2 Axes>"
      ]
     },
     "metadata": {
      "needs_background": "light"
     },
     "output_type": "display_data"
    },
    {
     "name": "stdout",
     "output_type": "stream",
     "text": [
      "              precision    recall  f1-score   support\n",
      "\n",
      "           0       0.95      0.89      0.92      3127\n",
      "           1       0.57      0.76      0.65       572\n",
      "\n",
      "    accuracy                           0.87      3699\n",
      "   macro avg       0.76      0.83      0.79      3699\n",
      "weighted avg       0.89      0.87      0.88      3699\n",
      "\n",
      "PRECISION RECALL CURVE\n"
     ]
    },
    {
     "data": {
      "image/png": "[encoded data removed]",
      "text/plain": [
       "<Figure size 432x288 with 1 Axes>"
      ]
     },
     "metadata": {
      "needs_background": "light"
     },
     "output_type": "display_data"
    },
    {
     "name": "stdout",
     "output_type": "stream",
     "text": [
      "CROSS VALIDATION METRICS\n",
      "Mean Accuracy : 0.9966263606900461\n",
      "Standard Deviation : 0.0028914572953403135\n",
      "Mean precision score : 0.998818848815773\n",
      "Standard Deviation precision score : 0.0018042915069111608\n",
      "Mean recall score : 0.9901960784313726\n",
      "Standard Deviation recall score : 0.009485009115645369\n",
      "Mean f1 score : 0.994463968848945\n",
      "Standard Deviation f1 score : 0.00475736768685506\n",
      "Mean AUC ROC Score : 0.9948370181582706\n",
      "Standard Deviation AUC ROC Score : 0.004705032424319637\n",
      "*******************************************************************************************\n"
     ]
    }
   ],
   "source": [
    "## Algorithm 1: xgboost\n",
    "pred_val_xgb=classifier_xgb.predict(X_Train_res)\n",
    "test_pred_xgb=classifier_xgb.predict(X_Test.values)\n",
    "\n",
    "## Algorithm 2: Random Forest\n",
    "pred_val_rf=classifier_rf.predict(X_Train_res)\n",
    "test_pred_rf=classifier_rf.predict(X_Test)\n",
    "\n",
    "## Algorithm 3: Decision Tree\n",
    "pred_val_dt=classifier_dt.predict(X_Train_res)\n",
    "test_pred_dt=classifier_dt.predict(X_Test)\n",
    "\n",
    "stacked_predictions=np.column_stack((pred_val_rf,pred_val_xgb,pred_val_dt)) ## Prediction by the algorithms on training data\n",
    "#stacked_predictions[0:10]\n",
    "stacked_test_predictions=np.column_stack((test_pred_rf,test_pred_xgb,test_pred_dt)) ## Prediction by the algorithms on testing data\n",
    "#stacked_test_predictions[0:10]\n",
    "\n",
    "## Building Meta Model\n",
    "lr_stack = LogisticRegression()\n",
    "lr_stack.fit(stacked_predictions,y_Train_res) ## stacked_predictions=X_train\n",
    "\n",
    "y_pred_stack=lr_stack.predict(stacked_test_predictions) ## stacked_test_predictions=X_test\n",
    "y_pred_stack\n",
    "\n",
    "\n",
    "# evaluating the model\n",
    "cm = confusion_matrix(y_Test, y_pred_stack)\n",
    "sns.heatmap(cm, annot=True,cmap='Blues',fmt='g',linewidths=2, linecolor='black')\n",
    "plt.xlabel('Predicted')\n",
    "plt.ylabel('Actual')\n",
    "plt.show()\n",
    "print(classification_report(y_Test, y_pred_stack))\n",
    "print(\"PRECISION RECALL CURVE\")\n",
    "pre_recall_curve = plot_precision_recall_curve(lr_stack, stacked_test_predictions, y_Test)\n",
    "plt.show()\n",
    "\n",
    "scoring = {'accuracy' : make_scorer(accuracy_score), \n",
    "           'precision' : make_scorer(precision_score),\n",
    "           'recall' : make_scorer(recall_score), \n",
    "           'f1_score' : make_scorer(f1_score),\n",
    "          'AUC ROC score' : make_scorer(roc_auc_score)}\n",
    "cvs = cross_validate(estimator = lr_stack, X = stacked_predictions, y = y_Train_res, cv = 10,scoring=scoring)\n",
    "#print(cvs)\n",
    "print(\"CROSS VALIDATION METRICS\")\n",
    "print(\"Mean Accuracy :\", np.mean(cvs['test_accuracy']))\n",
    "print(\"Standard Deviation :\", np.std(cvs['test_accuracy']))\n",
    "print(\"Mean precision score :\", np.mean(cvs['test_precision']))\n",
    "print(\"Standard Deviation precision score :\", np.std(cvs['test_precision']))\n",
    "print(\"Mean recall score :\", np.mean(cvs['test_recall']))\n",
    "print(\"Standard Deviation recall score :\", np.std(cvs['test_recall']))\n",
    "print(\"Mean f1 score :\", np.mean(cvs['test_f1_score']))\n",
    "print(\"Standard Deviation f1 score :\", np.std(cvs['test_f1_score']))\n",
    "print(\"Mean AUC ROC Score :\", np.mean(cvs['test_AUC ROC score']))\n",
    "print(\"Standard Deviation AUC ROC Score :\", np.std(cvs['test_AUC ROC score']))\n",
    "print(\"*******************************************************************************************\")"
   ]
  },
  {
   "cell_type": "markdown",
   "metadata": {},
   "source": [
    "# BLENDING"
   ]
  },
  {
   "cell_type": "code",
   "execution_count": 83,
   "metadata": {},
   "outputs": [
    {
     "data": {
      "image/png": "[encoded data removed]",
      "text/plain": [
       "<Figure size 432x288 with 2 Axes>"
      ]
     },
     "metadata": {
      "needs_background": "light"
     },
     "output_type": "display_data"
    },
    {
     "name": "stdout",
     "output_type": "stream",
     "text": [
      "              precision    recall  f1-score   support\n",
      "\n",
      "           0       0.95      0.89      0.92      3127\n",
      "           1       0.57      0.76      0.65       572\n",
      "\n",
      "    accuracy                           0.87      3699\n",
      "   macro avg       0.76      0.83      0.79      3699\n",
      "weighted avg       0.89      0.87      0.88      3699\n",
      "\n",
      "PRECISION RECALL CURVE\n"
     ]
    },
    {
     "data": {
      "image/png": "[encoded data removed]",
      "text/plain": [
       "<Figure size 432x288 with 1 Axes>"
      ]
     },
     "metadata": {
      "needs_background": "light"
     },
     "output_type": "display_data"
    },
    {
     "name": "stdout",
     "output_type": "stream",
     "text": [
      "CROSS VALIDATION METRICS\n",
      "Mean Accuracy : 0.9966263606900461\n",
      "Standard Deviation : 0.0028914572953403135\n",
      "Mean precision score : 0.998818848815773\n",
      "Standard Deviation precision score : 0.0018042915069111608\n",
      "Mean recall score : 0.9901960784313726\n",
      "Standard Deviation recall score : 0.009485009115645369\n",
      "Mean f1 score : 0.994463968848945\n",
      "Standard Deviation f1 score : 0.00475736768685506\n",
      "Mean AUC ROC Score : 0.9948370181582706\n",
      "Standard Deviation AUC ROC Score : 0.004705032424319637\n",
      "*******************************************************************************************\n"
     ]
    }
   ],
   "source": [
    "## Algorithm 1: xgboost\n",
    "pred_val_xgb=classifier_xgb.predict(X_Train_res)\n",
    "test_pred_xgb=classifier_xgb.predict(X_Test.values)\n",
    "\n",
    "## Algorithm 2: Random Forest\n",
    "pred_val_rf=classifier_rf.predict(X_Train_res)\n",
    "test_pred_rf=classifier_rf.predict(X_Test)\n",
    "\n",
    "## Algorithm 3: Decision Tree\n",
    "pred_val_dt=classifier_dt.predict(X_Train_res)\n",
    "test_pred_dt=classifier_dt.predict(X_Test)\n",
    "\n",
    "stacked_predictions=np.column_stack((pred_val_rf,pred_val_xgb,pred_val_dt)) ## Prediction by the algorithms on training data\n",
    "#stacked_predictions[0:10]\n",
    "stacked_test_predictions=np.column_stack((test_pred_rf,test_pred_xgb,test_pred_dt)) ## Prediction by the algorithms on testing data\n",
    "#stacked_test_predictions[0:10]\n",
    "\n",
    "stacked_predictions=pd.DataFrame(stacked_predictions)\n",
    "stacked_test_predictions=pd.DataFrame(stacked_test_predictions)\n",
    "\n",
    "\n",
    "## Building Meta Model\n",
    "lr_stack = LogisticRegression()\n",
    "lr_stack.fit(stacked_predictions,y_Train_res) ## stacked_predictions=X_train\n",
    "\n",
    "y_pred_stack=lr_stack.predict(stacked_test_predictions) ## stacked_test_predictions=X_test\n",
    "y_pred_stack\n",
    "\n",
    "\n",
    "# evaluating the model\n",
    "cm = confusion_matrix(y_Test, y_pred_stack)\n",
    "sns.heatmap(cm, annot=True,cmap='Blues',fmt='g',linewidths=2, linecolor='black')\n",
    "plt.xlabel('Predicted')\n",
    "plt.ylabel('Actual')\n",
    "plt.show()\n",
    "print(classification_report(y_Test, y_pred_stack))\n",
    "print(\"PRECISION RECALL CURVE\")\n",
    "pre_recall_curve = plot_precision_recall_curve(lr_stack, stacked_test_predictions, y_Test)\n",
    "plt.show()\n",
    "\n",
    "scoring = {'accuracy' : make_scorer(accuracy_score), \n",
    "           'precision' : make_scorer(precision_score),\n",
    "           'recall' : make_scorer(recall_score), \n",
    "           'f1_score' : make_scorer(f1_score),\n",
    "          'AUC ROC score' : make_scorer(roc_auc_score)}\n",
    "cvs = cross_validate(estimator = lr_stack, X = stacked_predictions, y = y_Train_res, cv = 10,scoring=scoring)\n",
    "#print(cvs)\n",
    "print(\"CROSS VALIDATION METRICS\")\n",
    "print(\"Mean Accuracy :\", np.mean(cvs['test_accuracy']))\n",
    "print(\"Standard Deviation :\", np.std(cvs['test_accuracy']))\n",
    "print(\"Mean precision score :\", np.mean(cvs['test_precision']))\n",
    "print(\"Standard Deviation precision score :\", np.std(cvs['test_precision']))\n",
    "print(\"Mean recall score :\", np.mean(cvs['test_recall']))\n",
    "print(\"Standard Deviation recall score :\", np.std(cvs['test_recall']))\n",
    "print(\"Mean f1 score :\", np.mean(cvs['test_f1_score']))\n",
    "print(\"Standard Deviation f1 score :\", np.std(cvs['test_f1_score']))\n",
    "print(\"Mean AUC ROC Score :\", np.mean(cvs['test_AUC ROC score']))\n",
    "print(\"Standard Deviation AUC ROC Score :\", np.std(cvs['test_AUC ROC score']))\n",
    "print(\"*******************************************************************************************\")"
   ]
  },
  {
   "cell_type": "code",
   "execution_count": null,
   "metadata": {},
   "outputs": [],
   "source": []
  }
 ],
 "metadata": {
  "kernelspec": {
   "display_name": "Python 3",
   "language": "python",
   "name": "python3"
  },
  "language_info": {
   "codemirror_mode": {
    "name": "ipython",
    "version": 3
   },
   "file_extension": ".py",
   "mimetype": "text/x-python",
   "name": "python",
   "nbconvert_exporter": "python",
   "pygments_lexer": "ipython3",
   "version": "3.7.7"
  }
 },
 "nbformat": 4,
 "nbformat_minor": 2
}
